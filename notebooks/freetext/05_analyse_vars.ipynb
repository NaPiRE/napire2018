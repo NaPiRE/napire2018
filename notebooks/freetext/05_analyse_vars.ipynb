{
 "cells": [
  {
   "cell_type": "markdown",
   "metadata": {},
   "source": [
    "## Short Text Variable Analysis (Descriptive and in isolation from rest of data set)\n",
    "**Note:** Merge of isolated variables necessary"
   ]
  },
  {
   "cell_type": "markdown",
   "metadata": {},
   "source": [
    "___"
   ]
  },
  {
   "cell_type": "markdown",
   "metadata": {},
   "source": [
    "### Table of Contents and Overview\n",
    "\n",
    "| Variable | Type (if not Supplementing) | Answers | Suggestion | Responsibility |\n",
    "| --- | --- | ---: | --- | --- |\n",
    "| [Variable 2](#v_2) | | 87|`New Tags`| DMF |\n",
    "| [Variable 3](#v_3) |Supplanting | 488|(DONE) `New Tags`| CC |\n",
    "| [Variable 5](#v_5) | |29 |`Code Back`| DMF |\n",
    "| [Variable 15](#v_15) | |5 |(with `v_14`) `Drop`| - |\n",
    "| [Variable 18](#v_18) | | 40|`Code Back`| MF\n",
    "| [Variable 19](#v_19) | Supplanting|488 |(DONE) `New Tags`| CC |\n",
    "| [Variable 20](#v_20) | Supplanting|403 |`New Tags`| JC |\n",
    "| [Variable 22](#v_22) | | 13|`Drop`|- |\n",
    "| [Variable 35](#v_35) | | 16|`Drop`|- |\n",
    "| [Variable 46](#v_46) | | 24|`Drop`|- |\n",
    "| [Variable 52](#v_52) | | 18|`Drop`|- |\n",
    "| [Variable 60](#v_60) | | 27|`Code Back`|JC |\n",
    "| [Variable 67](#v_67) | | 13|(with `v_66`) `Drop`|- |\n",
    "| [Variable 81](#v_81) | | 15|(with `v_80`) `Drop`|- |\n",
    "| [Variable 96](#v_96) | | 22|`Drop`|- |\n",
    "| [Variable 105](#v_105) | | 11|(with `v_104`) `Drop`|- |\n",
    "| [Variable 113](#v_113) | | 43|(also `Drop v_112`) `Code Back`|MF|\n",
    "| [Variable 164](#v_164) | | 16|`Drop`|- |\n",
    "| [Variable 166](#v_166) | | 18|`Drop`|- |\n",
    "| [Variable 194](#v_194) |Special | 191|`New Tags`|DMF, MK"
   ]
  },
  {
   "cell_type": "markdown",
   "metadata": {},
   "source": [
    "### Preparation"
   ]
  },
  {
   "cell_type": "code",
   "execution_count": 2,
   "metadata": {},
   "outputs": [],
   "source": [
    "import pandas as pd\n",
    "import re, os"
   ]
  },
  {
   "cell_type": "code",
   "execution_count": 3,
   "metadata": {},
   "outputs": [
    {
     "data": {
      "text/html": [
       "<div>\n",
       "<style scoped>\n",
       "    .dataframe tbody tr th:only-of-type {\n",
       "        vertical-align: middle;\n",
       "    }\n",
       "\n",
       "    .dataframe tbody tr th {\n",
       "        vertical-align: top;\n",
       "    }\n",
       "\n",
       "    .dataframe thead th {\n",
       "        text-align: right;\n",
       "    }\n",
       "</style>\n",
       "<table border=\"1\" class=\"dataframe\">\n",
       "  <thead>\n",
       "    <tr style=\"text-align: right;\">\n",
       "      <th></th>\n",
       "      <th>lfdn</th>\n",
       "      <th>v_300</th>\n",
       "      <th>v_23</th>\n",
       "      <th>v_3</th>\n",
       "      <th>v_1</th>\n",
       "      <th>v_2</th>\n",
       "      <th>v_4</th>\n",
       "      <th>v_5</th>\n",
       "      <th>v_6</th>\n",
       "      <th>v_7</th>\n",
       "      <th>...</th>\n",
       "      <th>v_279</th>\n",
       "      <th>v_280</th>\n",
       "      <th>v_281</th>\n",
       "      <th>v_282</th>\n",
       "      <th>v_283</th>\n",
       "      <th>v_284</th>\n",
       "      <th>v_285</th>\n",
       "      <th>v_286</th>\n",
       "      <th>v_194</th>\n",
       "      <th>v_297</th>\n",
       "    </tr>\n",
       "  </thead>\n",
       "  <tbody>\n",
       "    <tr>\n",
       "      <th>0</th>\n",
       "      <td>30</td>\n",
       "      <td>English</td>\n",
       "      <td>Japan</td>\n",
       "      <td>7</td>\n",
       "      <td>Agriculture</td>\n",
       "      <td>NotAnswered</td>\n",
       "      <td>Software-intensive embedded systems</td>\n",
       "      <td>NotAnswered</td>\n",
       "      <td>not quoted</td>\n",
       "      <td>quoted</td>\n",
       "      <td>...</td>\n",
       "      <td>NotShown</td>\n",
       "      <td>NotShown</td>\n",
       "      <td>NotShown</td>\n",
       "      <td>NotAnswered</td>\n",
       "      <td>NotAnswered</td>\n",
       "      <td>NotShown</td>\n",
       "      <td>NotShown</td>\n",
       "      <td>NotShown</td>\n",
       "      <td>Nothing</td>\n",
       "      <td>Since systems we developed face the natural en...</td>\n",
       "    </tr>\n",
       "    <tr>\n",
       "      <th>1</th>\n",
       "      <td>33</td>\n",
       "      <td>English</td>\n",
       "      <td>Argentina</td>\n",
       "      <td>5</td>\n",
       "      <td>Manufacturing</td>\n",
       "      <td>NotAnswered</td>\n",
       "      <td>Software-intensive embedded systems</td>\n",
       "      <td>NotAnswered</td>\n",
       "      <td>quoted</td>\n",
       "      <td>not quoted</td>\n",
       "      <td>...</td>\n",
       "      <td>NotAnswered</td>\n",
       "      <td>NotAnswered</td>\n",
       "      <td>NotAnswered</td>\n",
       "      <td>NotAnswered</td>\n",
       "      <td>NotAnswered</td>\n",
       "      <td>NotAnswered</td>\n",
       "      <td>NotAnswered</td>\n",
       "      <td>NotAnswered</td>\n",
       "      <td>NotAnswered</td>\n",
       "      <td>NotAnswered</td>\n",
       "    </tr>\n",
       "  </tbody>\n",
       "</table>\n",
       "<p>2 rows × 165 columns</p>\n",
       "</div>"
      ],
      "text/plain": [
       "   lfdn    v_300       v_23 v_3            v_1          v_2  \\\n",
       "0    30  English      Japan   7    Agriculture  NotAnswered   \n",
       "1    33  English  Argentina   5  Manufacturing  NotAnswered   \n",
       "\n",
       "                                   v_4          v_5         v_6         v_7  \\\n",
       "0  Software-intensive embedded systems  NotAnswered  not quoted      quoted   \n",
       "1  Software-intensive embedded systems  NotAnswered      quoted  not quoted   \n",
       "\n",
       "                         ...                                v_279  \\\n",
       "0                        ...                             NotShown   \n",
       "1                        ...                          NotAnswered   \n",
       "\n",
       "         v_280        v_281        v_282        v_283        v_284  \\\n",
       "0     NotShown     NotShown  NotAnswered  NotAnswered     NotShown   \n",
       "1  NotAnswered  NotAnswered  NotAnswered  NotAnswered  NotAnswered   \n",
       "\n",
       "         v_285        v_286        v_194  \\\n",
       "0     NotShown     NotShown      Nothing   \n",
       "1  NotAnswered  NotAnswered  NotAnswered   \n",
       "\n",
       "                                               v_297  \n",
       "0  Since systems we developed face the natural en...  \n",
       "1                                        NotAnswered  \n",
       "\n",
       "[2 rows x 165 columns]"
      ]
     },
     "execution_count": 3,
     "metadata": {},
     "output_type": "execute_result"
    }
   ],
   "source": [
    "df = pd.read_csv('../../data/napire_truth.csv', sep=';')\n",
    "df.head(2)"
   ]
  },
  {
   "cell_type": "code",
   "execution_count": 4,
   "metadata": {},
   "outputs": [
    {
     "data": {
      "text/plain": [
       "(488, 165)"
      ]
     },
     "execution_count": 4,
     "metadata": {},
     "output_type": "execute_result"
    }
   ],
   "source": [
    "df.shape"
   ]
  },
  {
   "cell_type": "markdown",
   "metadata": {},
   "source": [
    "___\n",
    "___"
   ]
  },
  {
   "cell_type": "markdown",
   "metadata": {},
   "source": [
    "### Variable 2<a id=\"v_2\"></a>"
   ]
  },
  {
   "cell_type": "markdown",
   "metadata": {},
   "source": [
    "#### Please select the main industrial sector of your project and the application domain of the software you build.\n",
    "\n",
    "Options presented in `v_1`:\n",
    "1. Agriculture\n",
    "2. Automotive\n",
    "3. Finance\n",
    "4. Healthcare\n",
    "5. Security\n",
    "6. Manufacturing \n",
    "7. Energy\n",
    "8. Logistics\n",
    "9. Railway\n",
    "10. Avionics\n",
    "12. Insurance\n",
    "13. Education\n",
    "14. Public sector\n",
    "15. Enterprise resource planning \n",
    "16. Human resources\n",
    "17. e-Government\n",
    "18. Telecommunication\n",
    "19. Games engineering\n",
    "20. Public transportation\n",
    "21. e-Commerce\n",
    "22. Other (please specify)\n",
    "\n",
    "`v_2` used to specify `Other`."
   ]
  },
  {
   "cell_type": "code",
   "execution_count": 1,
   "metadata": {},
   "outputs": [],
   "source": [
    "#TBD"
   ]
  },
  {
   "cell_type": "markdown",
   "metadata": {},
   "source": [
    "___\n",
    "___"
   ]
  },
  {
   "cell_type": "markdown",
   "metadata": {},
   "source": [
    "### Variable 3<a id=\"v_3\"></a>"
   ]
  },
  {
   "cell_type": "markdown",
   "metadata": {},
   "source": [
    "#### How many people are involved in your project?"
   ]
  },
  {
   "cell_type": "code",
   "execution_count": null,
   "metadata": {},
   "outputs": [],
   "source": []
  },
  {
   "cell_type": "markdown",
   "metadata": {},
   "source": [
    "___\n",
    "___"
   ]
  },
  {
   "cell_type": "markdown",
   "metadata": {},
   "source": [
    "### Variable 5<a id=\"v_5\"></a>"
   ]
  },
  {
   "cell_type": "markdown",
   "metadata": {},
   "source": [
    "#### Please select the class of systems or services you work on in the context of your project."
   ]
  },
  {
   "cell_type": "code",
   "execution_count": 24,
   "metadata": {},
   "outputs": [
    {
     "name": "stdout",
     "output_type": "stream",
     "text": [
      "v_5_short_29.csv\n"
     ]
    }
   ],
   "source": [
    "#TBD"
   ]
  },
  {
   "cell_type": "markdown",
   "metadata": {},
   "source": [
    "___\n",
    "\n",
    "___"
   ]
  },
  {
   "cell_type": "markdown",
   "metadata": {},
   "source": [
    "### Variable 15<a id=\"v_15\"></a>"
   ]
  },
  {
   "cell_type": "markdown",
   "metadata": {},
   "source": [
    "#### Are there quality attributes which are of particularly high importance for your development project? If yes, which one(s)?\n"
   ]
  },
  {
   "cell_type": "code",
   "execution_count": 2,
   "metadata": {},
   "outputs": [],
   "source": [
    "#TBD"
   ]
  },
  {
   "cell_type": "markdown",
   "metadata": {},
   "source": [
    "___\n",
    "___"
   ]
  },
  {
   "cell_type": "markdown",
   "metadata": {},
   "source": [
    "### Variable 18<a id=\"v_18\"></a>"
   ]
  },
  {
   "cell_type": "markdown",
   "metadata": {},
   "source": [
    "#### What is the main role you occupy in your project?"
   ]
  },
  {
   "cell_type": "code",
   "execution_count": 9,
   "metadata": {},
   "outputs": [
    {
     "name": "stdout",
     "output_type": "stream",
     "text": [
      "v_18_short_40.csv\n"
     ]
    }
   ],
   "source": [
    "#TBD"
   ]
  },
  {
   "cell_type": "markdown",
   "metadata": {},
   "source": [
    "___\n",
    "___"
   ]
  },
  {
   "cell_type": "markdown",
   "metadata": {},
   "source": [
    "### Variable 19<a id=\"v_19\"></a>"
   ]
  },
  {
   "cell_type": "markdown",
   "metadata": {},
   "source": [
    "#### How many years of industrial experience do you have in your role?"
   ]
  },
  {
   "cell_type": "code",
   "execution_count": null,
   "metadata": {},
   "outputs": [],
   "source": [
    "#TBD"
   ]
  },
  {
   "cell_type": "markdown",
   "metadata": {},
   "source": [
    "___\n",
    "___"
   ]
  },
  {
   "cell_type": "markdown",
   "metadata": {},
   "source": [
    "### Variable 20<a id=\"v_20\"></a>"
   ]
  },
  {
   "cell_type": "markdown",
   "metadata": {},
   "source": [
    "#### Do you have a certification in this role? If yes, which one?"
   ]
  },
  {
   "cell_type": "code",
   "execution_count": 25,
   "metadata": {},
   "outputs": [
    {
     "name": "stdout",
     "output_type": "stream",
     "text": [
      "v_20_short_403.csv\n"
     ]
    }
   ],
   "source": [
    "#TBD"
   ]
  },
  {
   "cell_type": "markdown",
   "metadata": {},
   "source": [
    "___\n",
    "___"
   ]
  },
  {
   "cell_type": "markdown",
   "metadata": {},
   "source": [
    "### Variable 22<a id=\"v_22\"></a>"
   ]
  },
  {
   "cell_type": "markdown",
   "metadata": {},
   "source": [
    "#### Which organisational role does your project team have in your project?"
   ]
  },
  {
   "cell_type": "code",
   "execution_count": 3,
   "metadata": {},
   "outputs": [],
   "source": [
    "#TBD"
   ]
  },
  {
   "cell_type": "markdown",
   "metadata": {},
   "source": [
    "___\n",
    "___"
   ]
  },
  {
   "cell_type": "markdown",
   "metadata": {},
   "source": [
    "### Variable 35<a id=\"v_35\"></a>"
   ]
  },
  {
   "cell_type": "markdown",
   "metadata": {},
   "source": [
    "#### How are the requirements elicited in your project?"
   ]
  },
  {
   "cell_type": "code",
   "execution_count": 4,
   "metadata": {},
   "outputs": [],
   "source": [
    "#TBD"
   ]
  },
  {
   "cell_type": "markdown",
   "metadata": {},
   "source": [
    "___\n",
    "___"
   ]
  },
  {
   "cell_type": "markdown",
   "metadata": {},
   "source": [
    "### Variable 46<a id=\"v_46\"></a>"
   ]
  },
  {
   "cell_type": "markdown",
   "metadata": {},
   "source": [
    "#### Which techniques do you use for your requirements elicitations?"
   ]
  },
  {
   "cell_type": "code",
   "execution_count": 5,
   "metadata": {},
   "outputs": [],
   "source": [
    "#TBD"
   ]
  },
  {
   "cell_type": "markdown",
   "metadata": {},
   "source": [
    "___\n",
    "___"
   ]
  },
  {
   "cell_type": "markdown",
   "metadata": {},
   "source": [
    "### Variable 52<a id=\"v_52\"></a>"
   ]
  },
  {
   "cell_type": "markdown",
   "metadata": {},
   "source": [
    "#### Who has the primary responsibility for eliciting requirements?"
   ]
  },
  {
   "cell_type": "code",
   "execution_count": 6,
   "metadata": {},
   "outputs": [],
   "source": [
    "#TBD"
   ]
  },
  {
   "cell_type": "markdown",
   "metadata": {},
   "source": [
    "___\n",
    "___"
   ]
  },
  {
   "cell_type": "markdown",
   "metadata": {},
   "source": [
    "### Variable 60<a id=\"v_60\"></a>"
   ]
  },
  {
   "cell_type": "markdown",
   "metadata": {},
   "source": [
    "#### At what level of granularity do you document requirements, and when?"
   ]
  },
  {
   "cell_type": "code",
   "execution_count": 7,
   "metadata": {},
   "outputs": [],
   "source": [
    "#TBD"
   ]
  },
  {
   "cell_type": "markdown",
   "metadata": {},
   "source": [
    "___\n",
    "___"
   ]
  },
  {
   "cell_type": "markdown",
   "metadata": {},
   "source": [
    "### Variable 67<a id=\"v_67\"></a>"
   ]
  },
  {
   "cell_type": "markdown",
   "metadata": {},
   "source": [
    "#### How do you make use of the documented requirements?"
   ]
  },
  {
   "cell_type": "code",
   "execution_count": 8,
   "metadata": {},
   "outputs": [],
   "source": [
    "#TBD"
   ]
  },
  {
   "cell_type": "markdown",
   "metadata": {},
   "source": [
    "___\n",
    "___"
   ]
  },
  {
   "cell_type": "markdown",
   "metadata": {},
   "source": [
    "### Variable 81<a id=\"v_81\"></a>"
   ]
  },
  {
   "cell_type": "markdown",
   "metadata": {},
   "source": [
    "#### For which information do you make an explicit distinction when documenting your requirements?"
   ]
  },
  {
   "cell_type": "code",
   "execution_count": 9,
   "metadata": {},
   "outputs": [],
   "source": [
    "#TBD"
   ]
  },
  {
   "cell_type": "markdown",
   "metadata": {},
   "source": [
    "___\n",
    "___"
   ]
  },
  {
   "cell_type": "markdown",
   "metadata": {},
   "source": [
    "### Variable 96<a id=\"v_96\"></a>"
   ]
  },
  {
   "cell_type": "markdown",
   "metadata": {},
   "source": [
    "#### How do you document requirements?"
   ]
  },
  {
   "cell_type": "code",
   "execution_count": 10,
   "metadata": {},
   "outputs": [],
   "source": [
    "#TBD"
   ]
  },
  {
   "cell_type": "markdown",
   "metadata": {},
   "source": [
    "___\n",
    "___"
   ]
  },
  {
   "cell_type": "markdown",
   "metadata": {},
   "source": [
    "### Variable 105<a id=\"v_105\"></a>"
   ]
  },
  {
   "cell_type": "markdown",
   "metadata": {},
   "source": [
    "#### Which classes of non-functional requirements do you explicitly consider in your requirements documentation?"
   ]
  },
  {
   "cell_type": "code",
   "execution_count": 11,
   "metadata": {},
   "outputs": [],
   "source": [
    "#TBD"
   ]
  },
  {
   "cell_type": "markdown",
   "metadata": {},
   "source": [
    "___\n",
    "___"
   ]
  },
  {
   "cell_type": "markdown",
   "metadata": {},
   "source": [
    "### Variable 113<a id=\"v_113\"></a>"
   ]
  },
  {
   "cell_type": "markdown",
   "metadata": {},
   "source": [
    "#### How do you verify and / or validate your requirements?"
   ]
  },
  {
   "cell_type": "code",
   "execution_count": 12,
   "metadata": {},
   "outputs": [],
   "source": [
    "#TBD"
   ]
  },
  {
   "cell_type": "markdown",
   "metadata": {},
   "source": [
    "___\n",
    "___"
   ]
  },
  {
   "cell_type": "markdown",
   "metadata": {},
   "source": [
    "### Variable 164<a id=\"v_164\"></a>"
   ]
  },
  {
   "cell_type": "markdown",
   "metadata": {},
   "source": [
    "#### How do you align software testing with requirements?"
   ]
  },
  {
   "cell_type": "code",
   "execution_count": 13,
   "metadata": {},
   "outputs": [],
   "source": [
    "#TBD"
   ]
  },
  {
   "cell_type": "markdown",
   "metadata": {},
   "source": [
    "___\n",
    "___"
   ]
  },
  {
   "cell_type": "markdown",
   "metadata": {},
   "source": [
    "### Variable 166<a id=\"v_166\"></a>"
   ]
  },
  {
   "cell_type": "markdown",
   "metadata": {},
   "source": [
    "#### How do you deal with changing requirements after the initial release of the system (or parts of it)?"
   ]
  },
  {
   "cell_type": "code",
   "execution_count": 14,
   "metadata": {},
   "outputs": [],
   "source": [
    "#TBD"
   ]
  },
  {
   "cell_type": "markdown",
   "metadata": {},
   "source": [
    "___\n",
    "___"
   ]
  },
  {
   "cell_type": "markdown",
   "metadata": {},
   "source": [
    "### Variable 194<a id=\"v_194\"></a>"
   ]
  },
  {
   "cell_type": "markdown",
   "metadata": {},
   "source": [
    "#### Besides the problems listed in the previous questions, is there another prominent problem you experienced in your project? If so, which one?\n",
    "\n",
    "Problems mentioned in previous questions:\n",
    "\n",
    "* Communication flaws within the project team \n",
    "* Communication flaws between the project and the customer \n",
    "* Terminological problems\n",
    "* Incomplete or hidden requirements\n",
    "* Insufficient support by project lead\n",
    "* Insufficient support by customer\n",
    "* Stakeholders with difficulties in separating requirements from solution designs\n",
    "* Inconsistent requirements\n",
    "* Missing traceability\n",
    "* Moving targets (changing goals, business processes and / or requirements)\n",
    "* Gold plating (implementation of features without corresponding\n",
    "* Weak access to customer needs and / or (internal) business information\n",
    "* Weak knowledge about customer's application domain\n",
    "* Weak relationship between customer and project lead\n",
    "* Time boxing / Not enough time in general\n",
    "* Discrepancy between high degree of innovation and need for formal requirements acceptance of (potentially wrong / incomplete / unknown) requirements\n",
    "* Technically unfeasible requirements\n",
    "* Underspecified requirements that are too abstract and allow for various interpretations\n",
    "* Unclear / unmeasurable non-functional requirements\n",
    "* Volatile customer's business domain regarding, e.g., changing points of contact, business processes or requirements"
   ]
  },
  {
   "cell_type": "code",
   "execution_count": 15,
   "metadata": {},
   "outputs": [],
   "source": [
    "#Dropped"
   ]
  },
  {
   "cell_type": "markdown",
   "metadata": {},
   "source": [
    "## Long Text Variable Analysis (Descriptive and in isolation from rest of data set)"
   ]
  },
  {
   "cell_type": "markdown",
   "metadata": {},
   "source": [
    "### Table of Contents and Overview\n",
    "\n",
    "| Variable | Content | Answers | Suggestion | Responsibility |\n",
    "| :--- | :---: | ---: | --- | --- |\n",
    "||**Reason Bad/Good Relationship**||||\n",
    "| [Variable 26](#v_26) | |3 |`Read` | DMF|\n",
    "| [Variable 27](#v_27) | | 102|`Code` | DMF|\n",
    "||**RE (Dis)Satisfaction**||`Code` | DG|\n",
    "||RE Dissatisfaction||||\n",
    "| [Variable 168](#v_168) | | 92||\"|\n",
    "| [Variable 169](#v_169) | |195 ||\"|\n",
    "| [Variable 170](#v_170) | | 91||\"|\n",
    "||RE Satisfaction||||\n",
    "| [Variable 171](#v_171) | | 93||\"|\n",
    "| [Variable 172](#v_172) | | 185||\"|\n",
    "| [Variable 173](#v_173) | | 178||\"|\n",
    "||**Top Problems: Causes and Effects**||`Merge` with `v in range(246,255,2)`, <br>`Sort` (both CC, DONE), then `Code`| DMF, MK|\n",
    "||Top Problems: Causes||||\n",
    "| [Variable 277](#v_277) | | 365||\"|\n",
    "| [Variable 278](#v_278) | | 344||\"|\n",
    "| [Variable 279](#v_279) | | 322||\"|\n",
    "| [Variable 280](#v_280) | | 296||\"|\n",
    "| [Variable 281](#v_281) | | 274||\"|\n",
    "||Top Problems: Effects||||\n",
    "| [Variable 282](#v_282) | | 334||\"|\n",
    "| [Variable 283](#v_283) | | 316||\"|\n",
    "| [Variable 284](#v_284) | | 300||\"|\n",
    "| [Variable 285](#v_285) | | 274||\"|\n",
    "| [Variable 286](#v_286) | | 262||\"|\n",
    "||**Unaddressed Aspect**||`Later` | DMF, MK|\n",
    "| [Variable 297](#v_297) | | 148||\"|\n",
    "||**NFR Documentation**||`Code` | DMF, MK|\n",
    "| [Variable 343](#v_343) | | 129||\"|\n",
    "| [Variable 344](#v_344) | | 126||\"|\n",
    "| [Variable 345](#v_345) | | 184||\"|\n",
    "| [Variable 346](#v_346) | | 61||\"|\n",
    "| [Variable 347](#v_347) | | 132||\"|\n",
    "| [Variable 348](#v_348) | | 69||\"|\n",
    "| [Variable 349](#v_349) | | 173||\"|\n",
    "| [Variable 350](#v_350) | | 188||\"|\n",
    "| [Variable 351](#v_351) | | 10|`Drop`|-|"
   ]
  },
  {
   "cell_type": "markdown",
   "metadata": {},
   "source": [
    "## Reasons for bad/good customer relationships\n",
    "Filter: In general, how would you rate the relationship between your project team and your customer?"
   ]
  },
  {
   "cell_type": "markdown",
   "metadata": {},
   "source": [
    "### Variable 26<a id=\"v_26\"></a>"
   ]
  },
  {
   "cell_type": "markdown",
   "metadata": {},
   "source": [
    "In your opinion, what is the reason for the particularly bad relationship?"
   ]
  },
  {
   "cell_type": "code",
   "execution_count": null,
   "metadata": {},
   "outputs": [],
   "source": [
    "#TDB"
   ]
  },
  {
   "cell_type": "markdown",
   "metadata": {},
   "source": [
    "### Variable 27<a id=\"v_27\"></a>"
   ]
  },
  {
   "cell_type": "markdown",
   "metadata": {},
   "source": [
    "In your opinion, what is the reason for the particularly good relationship?"
   ]
  },
  {
   "cell_type": "code",
   "execution_count": null,
   "metadata": {},
   "outputs": [],
   "source": [
    "#TDB"
   ]
  },
  {
   "cell_type": "markdown",
   "metadata": {},
   "source": [
    "___\n",
    "___"
   ]
  },
  {
   "cell_type": "markdown",
   "metadata": {},
   "source": [
    "## RE (Dis)Satisfaction\n",
    "Filter: Right now, how satisfied are you with how requirements\n",
    "engineering is done in your project?\n",
    "\n",
    "**Note:** `v_168` is partner variable of `v_171`, `v_169` is partner variable of `v_172`, `v_170` is partner variable of `v_173` (the first is asked in the dissatisfaction, the second is asked in the satisfaction case)"
   ]
  },
  {
   "cell_type": "markdown",
   "metadata": {},
   "source": [
    "### Case: RE Dissatisfaction"
   ]
  },
  {
   "cell_type": "markdown",
   "metadata": {},
   "source": [
    "### Variable 168<a id=\"v_168\"></a>"
   ]
  },
  {
   "cell_type": "markdown",
   "metadata": {},
   "source": [
    "Why are you rather dissatisfied with how requirements engineering is done in your project?"
   ]
  },
  {
   "cell_type": "code",
   "execution_count": null,
   "metadata": {},
   "outputs": [],
   "source": [
    "#TDB"
   ]
  },
  {
   "cell_type": "markdown",
   "metadata": {},
   "source": [
    "### Variable 169<a id=\"v_169\"></a>"
   ]
  },
  {
   "cell_type": "markdown",
   "metadata": {},
   "source": [
    "What are the consequences of the dissatisfying requirements engineering?"
   ]
  },
  {
   "cell_type": "code",
   "execution_count": null,
   "metadata": {},
   "outputs": [],
   "source": [
    "#TDB"
   ]
  },
  {
   "cell_type": "markdown",
   "metadata": {},
   "source": [
    "### Variable 170<a id=\"v_170\"></a>"
   ]
  },
  {
   "cell_type": "markdown",
   "metadata": {},
   "source": [
    "What should change in your requirements engineering in order to make it satisfying?"
   ]
  },
  {
   "cell_type": "code",
   "execution_count": null,
   "metadata": {},
   "outputs": [],
   "source": [
    "#TDB"
   ]
  },
  {
   "cell_type": "markdown",
   "metadata": {},
   "source": [
    "### Case: RE Satisfaction"
   ]
  },
  {
   "cell_type": "markdown",
   "metadata": {},
   "source": [
    "### Variable 171<a id=\"v_171\"></a>"
   ]
  },
  {
   "cell_type": "markdown",
   "metadata": {},
   "source": [
    "Why are you rather satisfied with how requirements engineering is done in your project?"
   ]
  },
  {
   "cell_type": "code",
   "execution_count": null,
   "metadata": {},
   "outputs": [],
   "source": [
    "#TDB"
   ]
  },
  {
   "cell_type": "markdown",
   "metadata": {},
   "source": [
    "### Variable 172<a id=\"v_172\"></a>"
   ]
  },
  {
   "cell_type": "markdown",
   "metadata": {},
   "source": [
    "What are the consequenes of the satisfying requirements engineering?"
   ]
  },
  {
   "cell_type": "code",
   "execution_count": null,
   "metadata": {},
   "outputs": [],
   "source": [
    "#TDB"
   ]
  },
  {
   "cell_type": "markdown",
   "metadata": {},
   "source": [
    "### Variable 173<a id=\"v_173\"></a>"
   ]
  },
  {
   "cell_type": "markdown",
   "metadata": {},
   "source": [
    "At some point in the past, you were likely not fully satisfied with your project's requirements engineering. If anything, what happened to make you satisfied?"
   ]
  },
  {
   "cell_type": "code",
   "execution_count": null,
   "metadata": {},
   "outputs": [],
   "source": [
    "#TDB"
   ]
  },
  {
   "cell_type": "markdown",
   "metadata": {},
   "source": [
    "___\n",
    "___"
   ]
  },
  {
   "cell_type": "markdown",
   "metadata": {},
   "source": [
    "## Problems Causes Effects\n",
    "\n",
    "**Note:** This is context-dependent - the answers cannot be understood without knowing respondents' `TOP Problem` selections (whoever designed this survey this way: screw you)."
   ]
  },
  {
   "cell_type": "markdown",
   "metadata": {},
   "source": [
    "### Causes\n",
    "Considering your personally experienced most critical problems selected in the previous question, which causes do they have?"
   ]
  },
  {
   "cell_type": "markdown",
   "metadata": {},
   "source": [
    "### Variable 277<a id=\"v_277\"></a>"
   ]
  },
  {
   "cell_type": "markdown",
   "metadata": {},
   "source": [
    "Problem `v_246` (TOP 1)"
   ]
  },
  {
   "cell_type": "code",
   "execution_count": null,
   "metadata": {},
   "outputs": [],
   "source": [
    "#TDB"
   ]
  },
  {
   "cell_type": "markdown",
   "metadata": {},
   "source": [
    "### Variable 278<a id=\"v_278\"></a>"
   ]
  },
  {
   "cell_type": "markdown",
   "metadata": {},
   "source": [
    "Problem `v_248` (TOP 2)"
   ]
  },
  {
   "cell_type": "code",
   "execution_count": null,
   "metadata": {},
   "outputs": [],
   "source": [
    "#TDB"
   ]
  },
  {
   "cell_type": "markdown",
   "metadata": {},
   "source": [
    "### Variable 279<a id=\"v_279\"></a>"
   ]
  },
  {
   "cell_type": "markdown",
   "metadata": {},
   "source": [
    "Problem `v_250` (TOP 3)"
   ]
  },
  {
   "cell_type": "code",
   "execution_count": null,
   "metadata": {},
   "outputs": [],
   "source": [
    "#TDB"
   ]
  },
  {
   "cell_type": "markdown",
   "metadata": {},
   "source": [
    "### Variable 280<a id=\"v_280\"></a>"
   ]
  },
  {
   "cell_type": "markdown",
   "metadata": {},
   "source": [
    "Problem `v_252` (TOP 4)"
   ]
  },
  {
   "cell_type": "code",
   "execution_count": null,
   "metadata": {},
   "outputs": [],
   "source": [
    "#TDB"
   ]
  },
  {
   "cell_type": "markdown",
   "metadata": {},
   "source": [
    "### Variable 281<a id=\"v_281\"></a>"
   ]
  },
  {
   "cell_type": "markdown",
   "metadata": {},
   "source": [
    "Problem `v_254` (TOP 5)"
   ]
  },
  {
   "cell_type": "code",
   "execution_count": null,
   "metadata": {},
   "outputs": [],
   "source": [
    "#TDB"
   ]
  },
  {
   "cell_type": "markdown",
   "metadata": {},
   "source": [
    "### Effects\n",
    "Considering your personally experienced most critical problems selected in the previous question, which implications do they have?"
   ]
  },
  {
   "cell_type": "markdown",
   "metadata": {},
   "source": [
    "### Variable 282<a id=\"v_282\"></a>"
   ]
  },
  {
   "cell_type": "markdown",
   "metadata": {},
   "source": [
    "Problem `v_246` (TOP 1)"
   ]
  },
  {
   "cell_type": "code",
   "execution_count": null,
   "metadata": {},
   "outputs": [],
   "source": [
    "#TDB"
   ]
  },
  {
   "cell_type": "markdown",
   "metadata": {},
   "source": [
    "### Variable 283<a id=\"v_283\"></a>"
   ]
  },
  {
   "cell_type": "markdown",
   "metadata": {},
   "source": [
    "Problem `v_248` (TOP 2)"
   ]
  },
  {
   "cell_type": "code",
   "execution_count": null,
   "metadata": {},
   "outputs": [],
   "source": [
    "#TDB"
   ]
  },
  {
   "cell_type": "markdown",
   "metadata": {},
   "source": [
    "### Variable 284<a id=\"v_284\"></a>"
   ]
  },
  {
   "cell_type": "markdown",
   "metadata": {},
   "source": [
    "Problem `v_250` (TOP 3)"
   ]
  },
  {
   "cell_type": "code",
   "execution_count": null,
   "metadata": {},
   "outputs": [],
   "source": [
    "#TDB"
   ]
  },
  {
   "cell_type": "markdown",
   "metadata": {},
   "source": [
    "### Variable 285<a id=\"v_285\"></a>"
   ]
  },
  {
   "cell_type": "markdown",
   "metadata": {},
   "source": [
    "Problem `v_252` (TOP 4)"
   ]
  },
  {
   "cell_type": "code",
   "execution_count": null,
   "metadata": {},
   "outputs": [],
   "source": [
    "#TDB"
   ]
  },
  {
   "cell_type": "markdown",
   "metadata": {},
   "source": [
    "### Variable 286<a id=\"v_286\"></a>"
   ]
  },
  {
   "cell_type": "markdown",
   "metadata": {},
   "source": [
    "Problem `v_254` (TOP 5)"
   ]
  },
  {
   "cell_type": "code",
   "execution_count": null,
   "metadata": {},
   "outputs": [],
   "source": [
    "#TDB"
   ]
  },
  {
   "cell_type": "markdown",
   "metadata": {},
   "source": [
    "### Holistic Cause-Effect Representaton"
   ]
  },
  {
   "cell_type": "code",
   "execution_count": 1,
   "metadata": {},
   "outputs": [],
   "source": [
    "#Sankey diagram (ipsankey)?"
   ]
  },
  {
   "cell_type": "markdown",
   "metadata": {},
   "source": [
    "___\n",
    "___"
   ]
  },
  {
   "cell_type": "markdown",
   "metadata": {},
   "source": [
    "## Unaddressed Aspect"
   ]
  },
  {
   "cell_type": "markdown",
   "metadata": {},
   "source": [
    "### Variable 297<a id=\"v_297\"></a>"
   ]
  },
  {
   "cell_type": "markdown",
   "metadata": {},
   "source": [
    "Is there any other unaddressed aspect that you experience in your RE process and that you would like to share with us?"
   ]
  },
  {
   "cell_type": "code",
   "execution_count": 8,
   "metadata": {},
   "outputs": [
    {
     "name": "stdout",
     "output_type": "stream",
     "text": [
      "v_297_long_148.csv\n"
     ]
    }
   ],
   "source": [
    "#Dropped"
   ]
  },
  {
   "cell_type": "markdown",
   "metadata": {},
   "source": [
    "___\n",
    "___"
   ]
  },
  {
   "cell_type": "markdown",
   "metadata": {},
   "source": [
    "## Documentation NFR\n",
    "How do you document each type of non-functional requirements selected in the previous question? "
   ]
  },
  {
   "cell_type": "code",
   "execution_count": null,
   "metadata": {},
   "outputs": [],
   "source": [
    "#TDB"
   ]
  },
  {
   "cell_type": "markdown",
   "metadata": {},
   "source": [
    "### Variable 343<a id=\"v_343\"></a>"
   ]
  },
  {
   "cell_type": "markdown",
   "metadata": {},
   "source": [
    "Compatibility(e.g.,co-existence,interoperability)"
   ]
  },
  {
   "cell_type": "code",
   "execution_count": null,
   "metadata": {},
   "outputs": [],
   "source": [
    "#TDB"
   ]
  },
  {
   "cell_type": "markdown",
   "metadata": {},
   "source": [
    "### Variable 344<a id=\"v_344\"></a>"
   ]
  },
  {
   "cell_type": "markdown",
   "metadata": {},
   "source": [
    "Maintainability(e.g.,analysability,modularity, modifiability, reusability, testability)"
   ]
  },
  {
   "cell_type": "code",
   "execution_count": null,
   "metadata": {},
   "outputs": [],
   "source": [
    "#TDB"
   ]
  },
  {
   "cell_type": "markdown",
   "metadata": {},
   "source": [
    "### Variable 345<a id=\"v_345\"></a>"
   ]
  },
  {
   "cell_type": "markdown",
   "metadata": {},
   "source": [
    "Performance efficiency(e.g.,timebehaviour, resource utilisation, capacity)"
   ]
  },
  {
   "cell_type": "code",
   "execution_count": null,
   "metadata": {},
   "outputs": [],
   "source": [
    "#TDB"
   ]
  },
  {
   "cell_type": "markdown",
   "metadata": {},
   "source": [
    "### Variable 346<a id=\"v_346\"></a>"
   ]
  },
  {
   "cell_type": "markdown",
   "metadata": {},
   "source": [
    "Portability(e.g.,adaptability,installability, replaceability) "
   ]
  },
  {
   "cell_type": "code",
   "execution_count": null,
   "metadata": {},
   "outputs": [],
   "source": [
    "#TDB"
   ]
  },
  {
   "cell_type": "markdown",
   "metadata": {},
   "source": [
    "### Variable 347<a id=\"v_347\"></a>"
   ]
  },
  {
   "cell_type": "markdown",
   "metadata": {},
   "source": [
    "Reliability(e.g.,availability,faulttolerance, maturity, recoverability)"
   ]
  },
  {
   "cell_type": "code",
   "execution_count": null,
   "metadata": {},
   "outputs": [],
   "source": [
    "#TDB"
   ]
  },
  {
   "cell_type": "markdown",
   "metadata": {},
   "source": [
    "### Variable 348<a id=\"v_348\"></a>"
   ]
  },
  {
   "cell_type": "markdown",
   "metadata": {},
   "source": [
    "Safety(e.g. freedom of risk for health or distaster)"
   ]
  },
  {
   "cell_type": "code",
   "execution_count": null,
   "metadata": {},
   "outputs": [],
   "source": [
    "#TDB"
   ]
  },
  {
   "cell_type": "markdown",
   "metadata": {},
   "source": [
    "### Variable 349<a id=\"v_349\"></a>"
   ]
  },
  {
   "cell_type": "markdown",
   "metadata": {},
   "source": [
    "Security(e.g.,accountability,authenticity, confidentiality, integrity, non-repudiation)"
   ]
  },
  {
   "cell_type": "code",
   "execution_count": null,
   "metadata": {},
   "outputs": [],
   "source": [
    "#TDB"
   ]
  },
  {
   "cell_type": "markdown",
   "metadata": {},
   "source": [
    "### Variable 350<a id=\"v_350\"></a>"
   ]
  },
  {
   "cell_type": "markdown",
   "metadata": {},
   "source": [
    "Usability(e.g.,accessibility,appropriateness recognizability, learnability, operability, user error protection, user interface aesthetics)"
   ]
  },
  {
   "cell_type": "code",
   "execution_count": null,
   "metadata": {},
   "outputs": [],
   "source": [
    "#TDB"
   ]
  },
  {
   "cell_type": "markdown",
   "metadata": {},
   "source": [
    "### Variable 351<a id=\"v_351\"></a>"
   ]
  },
  {
   "cell_type": "markdown",
   "metadata": {},
   "source": [
    "Other (please specify) (`v_104`/`v_105`) - **CONTEXT-DEPENDENT** (meaning we need a special procedure)"
   ]
  },
  {
   "cell_type": "code",
   "execution_count": null,
   "metadata": {},
   "outputs": [],
   "source": [
    "#TDB"
   ]
  },
  {
   "cell_type": "code",
   "execution_count": null,
   "metadata": {},
   "outputs": [],
   "source": []
  },
  {
   "cell_type": "markdown",
   "metadata": {},
   "source": [
    "___\n",
    "___"
   ]
  },
  {
   "cell_type": "markdown",
   "metadata": {},
   "source": [
    "The End."
   ]
  }
 ],
 "metadata": {
  "kernelspec": {
   "display_name": "Python 3",
   "language": "python",
   "name": "python3"
  },
  "language_info": {
   "codemirror_mode": {
    "name": "ipython",
    "version": 3
   },
   "file_extension": ".py",
   "mimetype": "text/x-python",
   "name": "python",
   "nbconvert_exporter": "python",
   "pygments_lexer": "ipython3",
   "version": "3.6.4"
  }
 },
 "nbformat": 4,
 "nbformat_minor": 2
}
