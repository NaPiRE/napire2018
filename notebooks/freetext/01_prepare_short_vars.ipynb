{
 "cells": [
  {
   "cell_type": "markdown",
   "metadata": {},
   "source": [
    "### Short Free Text Variable Coding plus Documentation"
   ]
  },
  {
   "cell_type": "markdown",
   "metadata": {},
   "source": [
    "Apart from `v_3`, `v_19`, and `v_20`, which are list-supplanting, all variables we are dealing with here are list-supplementing in some sense (although `v_194` needs special treatment).\n",
    "\n",
    "___\n",
    "\n",
    "**Preliminary Thoughts**\n",
    "\n",
    "General problems with the short free text variable coding for list-supplementing answers:\n",
    "* if we assign one of the suggested answers to a free text answer because we think it belongs there, we're - in a way - modifying the will of our respondent\n",
    "* if we create new codes, we don't know whether other respondents would have picked one of these codes instead of their original choice because they simply picked the most suitable of the presented choices (rather than being more precise in a free text answer)\n",
    "\n",
    "Against this background, one general suggestion could also be:\n",
    "* Use all 'Other (please specify)' answers (i.e., free text answers to list-supplementing questions) to improve future surveys only\n",
    "* Ignore the 'Other (please specify)' answers when 'blocking' on the variable in question\n",
    "\n",
    "Follow-up problem: \n",
    "* When searching for correlations between two variables with free text supplements, only respondents making list choices for *both* variables can be considered\n",
    "* Drastically reduces the number of available responses for some variables, e.g., the business sectors\n",
    "\n",
    "___\n",
    "\n",
    "**Reasonable, Rule-Based Compromise**\n",
    "\n",
    "* `<= 5 %` of 488 free text responses: drop variables concerned without replacement: `Drop`\n",
    "* `> 5 %` and `<= 10 %` of 488 free text responses: code back where possible, drop rest, don't create new codes: `Code Back`\n",
    "* `> 10 %` of 488 free text responses: code back where possible, group rest, create new codes: `New Tags`\n",
    "\n",
    "`v_194` receives special treatment since it is somewhat different (and is dropped afterwards).\n",
    "\n",
    "**Plus:** Go through all dropped variables and identify opportunities to improve the next survey."
   ]
  },
  {
   "cell_type": "markdown",
   "metadata": {},
   "source": [
    "___\n",
    "___"
   ]
  },
  {
   "cell_type": "markdown",
   "metadata": {},
   "source": [
    "### Table of Contents and Overview\n",
    "\n",
    "| Variable | Type (if not Supplementing) | Answers | Suggestion | Responsibility |\n",
    "| --- | --- | ---: | --- | --- |\n",
    "| [Variable 2](#v_2) | | 87|`New Tags`| DMF |\n",
    "| [Variable 3](#v_3) |Supplanting | 488|(DONE) `New Tags`| CC |\n",
    "| [Variable 5](#v_5) | |29 |`Code Back`| DMF |\n",
    "| [Variable 15](#v_15) | |5 |(with `v_14`) `Drop`| - |\n",
    "| [Variable 18](#v_18) | | 40|`Code Back`| MF\n",
    "| [Variable 19](#v_19) | Supplanting|488 |(DONE) `New Tags`| CC |\n",
    "| [Variable 20](#v_20) | Supplanting|403 |`New Tags`| JC |\n",
    "| [Variable 22](#v_22) | | 13|`Drop`|- |\n",
    "| [Variable 35](#v_35) | | 16|`Drop`|- |\n",
    "| [Variable 46](#v_46) | | 24|`Drop`|- |\n",
    "| [Variable 52](#v_52) | | 18|`Drop`|- |\n",
    "| [Variable 60](#v_60) | | 27|`Code Back`|JC |\n",
    "| [Variable 67](#v_67) | | 13|(with `v_66`) `Drop`|- |\n",
    "| [Variable 81](#v_81) | | 15|(with `v_80`) `Drop`|- |\n",
    "| [Variable 96](#v_96) | | 22|`Drop`|- |\n",
    "| [Variable 105](#v_105) | | 11|(with `v_104`) `Drop`|- |\n",
    "| [Variable 113](#v_113) | | 43|(also `Drop v_112`) `Code Back`|MF|\n",
    "| [Variable 164](#v_164) | | 16|`Drop`|- |\n",
    "| [Variable 166](#v_166) | | 18|`Drop`|- |\n",
    "| [Variable 194](#v_194) |Special | 191|`New Tags`|DMF, MK"
   ]
  },
  {
   "cell_type": "markdown",
   "metadata": {},
   "source": [
    "**Note**\n",
    "\n",
    "The way the survey is constructed (**sigh**), there are in fact two types of list-supplementing short free text variables:\n",
    "* Type I variables where `Other` is part of a single-selection list in a previous variable\n",
    "* Type II variables where `Other` can be selected as part of a multi-selection question, i.e., there is a separate variable that merely holds the information of whether a respondent selected `Other`\n",
    "\n",
    "**Consequences**\n",
    "\n",
    "* In the case of Type II variables, we will want to remove the *`Other` switch variable* after executing our free text coding decision since it is only cluttering the data.\n",
    "* The data coding and integration procedures for both types of variables will differ:\n",
    "  - Type I variables: add codes in separate column and perform merge on `lfdn` (simple)\n",
    "  - Type II variables: add codes in separate column and overwrite values in (copy of) df where code matches variable name (in the case of `Code Back`), introduce new column and set values (in the case of `New Tags`) (less simple)"
   ]
  },
  {
   "cell_type": "markdown",
   "metadata": {},
   "source": [
    "### Preparations and Explorations"
   ]
  },
  {
   "cell_type": "code",
   "execution_count": 2,
   "metadata": {},
   "outputs": [],
   "source": [
    "import pandas as pd\n",
    "import re, os"
   ]
  },
  {
   "cell_type": "code",
   "execution_count": 3,
   "metadata": {},
   "outputs": [
    {
     "data": {
      "text/html": [
       "<div>\n",
       "<style scoped>\n",
       "    .dataframe tbody tr th:only-of-type {\n",
       "        vertical-align: middle;\n",
       "    }\n",
       "\n",
       "    .dataframe tbody tr th {\n",
       "        vertical-align: top;\n",
       "    }\n",
       "\n",
       "    .dataframe thead th {\n",
       "        text-align: right;\n",
       "    }\n",
       "</style>\n",
       "<table border=\"1\" class=\"dataframe\">\n",
       "  <thead>\n",
       "    <tr style=\"text-align: right;\">\n",
       "      <th></th>\n",
       "      <th>lfdn</th>\n",
       "      <th>v_300</th>\n",
       "      <th>v_23</th>\n",
       "      <th>v_3</th>\n",
       "      <th>v_1</th>\n",
       "      <th>v_2</th>\n",
       "      <th>v_4</th>\n",
       "      <th>v_5</th>\n",
       "      <th>v_6</th>\n",
       "      <th>v_7</th>\n",
       "      <th>...</th>\n",
       "      <th>v_279</th>\n",
       "      <th>v_280</th>\n",
       "      <th>v_281</th>\n",
       "      <th>v_282</th>\n",
       "      <th>v_283</th>\n",
       "      <th>v_284</th>\n",
       "      <th>v_285</th>\n",
       "      <th>v_286</th>\n",
       "      <th>v_194</th>\n",
       "      <th>v_297</th>\n",
       "    </tr>\n",
       "  </thead>\n",
       "  <tbody>\n",
       "    <tr>\n",
       "      <th>0</th>\n",
       "      <td>30</td>\n",
       "      <td>English</td>\n",
       "      <td>Japan</td>\n",
       "      <td>7</td>\n",
       "      <td>Agriculture</td>\n",
       "      <td>NotAnswered</td>\n",
       "      <td>Software-intensive embedded systems</td>\n",
       "      <td>NotAnswered</td>\n",
       "      <td>not quoted</td>\n",
       "      <td>quoted</td>\n",
       "      <td>...</td>\n",
       "      <td>NotShown</td>\n",
       "      <td>NotShown</td>\n",
       "      <td>NotShown</td>\n",
       "      <td>NotAnswered</td>\n",
       "      <td>NotAnswered</td>\n",
       "      <td>NotShown</td>\n",
       "      <td>NotShown</td>\n",
       "      <td>NotShown</td>\n",
       "      <td>Nothing</td>\n",
       "      <td>Since systems we developed face the natural en...</td>\n",
       "    </tr>\n",
       "    <tr>\n",
       "      <th>1</th>\n",
       "      <td>33</td>\n",
       "      <td>English</td>\n",
       "      <td>Argentina</td>\n",
       "      <td>5</td>\n",
       "      <td>Manufacturing</td>\n",
       "      <td>NotAnswered</td>\n",
       "      <td>Software-intensive embedded systems</td>\n",
       "      <td>NotAnswered</td>\n",
       "      <td>quoted</td>\n",
       "      <td>not quoted</td>\n",
       "      <td>...</td>\n",
       "      <td>NotAnswered</td>\n",
       "      <td>NotAnswered</td>\n",
       "      <td>NotAnswered</td>\n",
       "      <td>NotAnswered</td>\n",
       "      <td>NotAnswered</td>\n",
       "      <td>NotAnswered</td>\n",
       "      <td>NotAnswered</td>\n",
       "      <td>NotAnswered</td>\n",
       "      <td>NotAnswered</td>\n",
       "      <td>NotAnswered</td>\n",
       "    </tr>\n",
       "  </tbody>\n",
       "</table>\n",
       "<p>2 rows × 165 columns</p>\n",
       "</div>"
      ],
      "text/plain": [
       "   lfdn    v_300       v_23 v_3            v_1          v_2  \\\n",
       "0    30  English      Japan   7    Agriculture  NotAnswered   \n",
       "1    33  English  Argentina   5  Manufacturing  NotAnswered   \n",
       "\n",
       "                                   v_4          v_5         v_6         v_7  \\\n",
       "0  Software-intensive embedded systems  NotAnswered  not quoted      quoted   \n",
       "1  Software-intensive embedded systems  NotAnswered      quoted  not quoted   \n",
       "\n",
       "                         ...                                v_279  \\\n",
       "0                        ...                             NotShown   \n",
       "1                        ...                          NotAnswered   \n",
       "\n",
       "         v_280        v_281        v_282        v_283        v_284  \\\n",
       "0     NotShown     NotShown  NotAnswered  NotAnswered     NotShown   \n",
       "1  NotAnswered  NotAnswered  NotAnswered  NotAnswered  NotAnswered   \n",
       "\n",
       "         v_285        v_286        v_194  \\\n",
       "0     NotShown     NotShown      Nothing   \n",
       "1  NotAnswered  NotAnswered  NotAnswered   \n",
       "\n",
       "                                               v_297  \n",
       "0  Since systems we developed face the natural en...  \n",
       "1                                        NotAnswered  \n",
       "\n",
       "[2 rows x 165 columns]"
      ]
     },
     "execution_count": 3,
     "metadata": {},
     "output_type": "execute_result"
    }
   ],
   "source": [
    "df = pd.read_csv('../../data/napire_truth.csv', sep=';')\n",
    "df.head(2)"
   ]
  },
  {
   "cell_type": "code",
   "execution_count": 4,
   "metadata": {},
   "outputs": [
    {
     "data": {
      "text/plain": [
       "(488, 165)"
      ]
     },
     "execution_count": 4,
     "metadata": {},
     "output_type": "execute_result"
    }
   ],
   "source": [
    "df.shape"
   ]
  },
  {
   "cell_type": "code",
   "execution_count": 5,
   "metadata": {},
   "outputs": [],
   "source": [
    "basedir = '../../data/freetext'\n",
    "short_vars = sorted([x for x in os.listdir(basedir) if 'short' in x],\n",
    "      key=lambda x:int(x.split('_')[1]))"
   ]
  },
  {
   "cell_type": "code",
   "execution_count": 6,
   "metadata": {},
   "outputs": [
    {
     "data": {
      "text/plain": [
       "['v_2_short_87.csv',\n",
       " 'v_3_short_488.csv',\n",
       " 'v_5_short_29.csv',\n",
       " 'v_15_short_5.csv',\n",
       " 'v_18_short_40.csv',\n",
       " 'v_19_short_488.csv',\n",
       " 'v_20_short_403.csv',\n",
       " 'v_22_short_13.csv',\n",
       " 'v_35_short_16.csv',\n",
       " 'v_46_short_24.csv',\n",
       " 'v_52_short_18.csv',\n",
       " 'v_60_short_27.csv',\n",
       " 'v_67_short_13.csv',\n",
       " 'v_81_short_15.csv',\n",
       " 'v_96_short_22.csv',\n",
       " 'v_105_short_11.csv',\n",
       " 'v_113_short_43.csv',\n",
       " 'v_164_short_16.csv',\n",
       " 'v_166_short_18.csv',\n",
       " 'v_194_short_191.csv']"
      ]
     },
     "execution_count": 6,
     "metadata": {},
     "output_type": "execute_result"
    }
   ],
   "source": [
    "short_vars"
   ]
  },
  {
   "cell_type": "code",
   "execution_count": 7,
   "metadata": {},
   "outputs": [],
   "source": [
    "def get_var_file(varno:int, lfdn=False, df=False):\n",
    "    basedir = '../../data/freetext'\n",
    "    short_vars = sorted(\n",
    "        [x for x in os.listdir(basedir) if 'short' in x],\n",
    "          key=lambda x:int(x.split('_')[1]))\n",
    "    this_file = [x for x in short_vars if int(x.split('_')[1]) == varno][0]\n",
    "    print(this_file)\n",
    "    if df:\n",
    "        return pd.read_csv(f'{basedir}/{this_file}')\n",
    "    elif not lfdn:\n",
    "        return pd.read_csv(f'{basedir}/{this_file}')[f'v_{varno}'].values\n",
    "    else:\n",
    "        return pd.read_csv(f'{basedir}/{this_file}').values"
   ]
  },
  {
   "cell_type": "code",
   "execution_count": 8,
   "metadata": {},
   "outputs": [],
   "source": [
    "def prepare_for_excel_people(var, varname):\n",
    "    varx = get_var_file(var, df=True)\n",
    "    varx[f'v_{var}_lower'] = [x.lower() for x in varx[f'v_{var}']]\n",
    "    varx['tag'] = ''\n",
    "    varx.sort_values([f'v_{var}_lower', 'lfdn']\n",
    "                    ).drop(f'v_{var}_lower', axis=1).to_csv(\n",
    "            f'../../data/freetext_tocode/v_{var}_{varname}_{len(varx)}.csv', sep=';', index=False)"
   ]
  },
  {
   "cell_type": "markdown",
   "metadata": {},
   "source": [
    "___\n",
    "___"
   ]
  },
  {
   "cell_type": "markdown",
   "metadata": {},
   "source": [
    "### Variable 2<a id=\"v_2\"></a>"
   ]
  },
  {
   "cell_type": "markdown",
   "metadata": {},
   "source": [
    "#### Please select the main industrial sector of your project and the application domain of the software you build.\n",
    "\n",
    "Options presented in `v_1`:\n",
    "1. Agriculture\n",
    "2. Automotive\n",
    "3. Finance\n",
    "4. Healthcare\n",
    "5. Security\n",
    "6. Manufacturing \n",
    "7. Energy\n",
    "8. Logistics\n",
    "9. Railway\n",
    "10. Avionics\n",
    "12. Insurance\n",
    "13. Education\n",
    "14. Public sector\n",
    "15. Enterprise resource planning \n",
    "16. Human resources\n",
    "17. e-Government\n",
    "18. Telecommunication\n",
    "19. Games engineering\n",
    "20. Public transportation\n",
    "21. e-Commerce\n",
    "22. Other (please specify)\n",
    "\n",
    "`v_2` used to specify `Other`."
   ]
  },
  {
   "cell_type": "markdown",
   "metadata": {},
   "source": [
    "Potential coding principles:\n",
    "\n",
    "* Aviation, Aerospace, Defence, Defense -> `Avionics`\n",
    "* Bank, Banking Sector, Financial Market -> `Finance`\n",
    "* Medical Research -> `Health`\n",
    "* ERP Product -> `Enterprise resource planning`\n",
    "* Insurance -> `Insurance`\n",
    "* Rename Telecommunication to `ICT` and group with the Telecommunication answers: Communications, \n",
    "* **New** category `Media`: Film, Television, Radio\n",
    "* **New** category `Food`\n",
    "* **New** category `Consulting`\n",
    "* **New** category `Diverse`\n",
    "* ...\n",
    "\n",
    "___\n",
    "\n",
    "##### Suggestion: `Code Back` then `New Tags` then `Drop` `v_2`"
   ]
  },
  {
   "cell_type": "code",
   "execution_count": 21,
   "metadata": {},
   "outputs": [
    {
     "name": "stdout",
     "output_type": "stream",
     "text": [
      "v_2_short_87.csv\n"
     ]
    }
   ],
   "source": [
    "#prepare_for_excel_people(2, 'sectors')"
   ]
  },
  {
   "cell_type": "code",
   "execution_count": 82,
   "metadata": {},
   "outputs": [
    {
     "name": "stdout",
     "output_type": "stream",
     "text": [
      "v_2_short_87.csv\n"
     ]
    },
    {
     "data": {
      "text/plain": [
       "{' waste collection and management',\n",
       " '1 project education + 1 project ecommerce ; industries of project varies ',\n",
       " 'advertising',\n",
       " 'aerospace',\n",
       " 'automation',\n",
       " 'aviation',\n",
       " 'banking',\n",
       " 'banking sector',\n",
       " 'big science (particle physics research facilities)',\n",
       " 'business software',\n",
       " 'calendar app',\n",
       " 'callcenter',\n",
       " 'cloudservices for small and midsize business',\n",
       " 'communications',\n",
       " 'consulting',\n",
       " 'consumer industry',\n",
       " 'contact centers',\n",
       " 'customer engagement ',\n",
       " 'data analysis and visualization ',\n",
       " 'defence',\n",
       " 'defense',\n",
       " 'developed in the context of a product of diverse applicability',\n",
       " 'development of banking software',\n",
       " 'digital out of the home',\n",
       " 'domain-independent tool support for engineering and assurance of safety-criticla systems',\n",
       " 'environment',\n",
       " 'erp product',\n",
       " 'film',\n",
       " 'financial market',\n",
       " 'food industry',\n",
       " 'food industry - custom software',\n",
       " 'fraud detection',\n",
       " 'gastronomy',\n",
       " 'gdpr - general data protection regulation',\n",
       " 'grant management',\n",
       " 'high tech',\n",
       " 'hmi',\n",
       " 'hobby, entrepreneur, and iot projects',\n",
       " 'i consult to projects in many different sectors.  ',\n",
       " 'ict',\n",
       " 'imports',\n",
       " 'information technology',\n",
       " 'insurance',\n",
       " 'internet of things startup',\n",
       " 'it',\n",
       " 'it consulting',\n",
       " 'it outsourcing services',\n",
       " 'low-code platform',\n",
       " 'marketing',\n",
       " 'media - sale of subscriptions',\n",
       " 'medical research',\n",
       " 'mobile',\n",
       " 'network management system ',\n",
       " 'not for profit',\n",
       " 'organizations operational development - process/ea modeling, measuring, dashboarding',\n",
       " 'public access ',\n",
       " 'public safety',\n",
       " 'requirements engineering',\n",
       " 'retail',\n",
       " 'robotics',\n",
       " 'sales system',\n",
       " 'satellites',\n",
       " 'software development',\n",
       " 'sports',\n",
       " 'system software',\n",
       " 'technology',\n",
       " 'technology independent software vendor (isv)',\n",
       " 'television/radio',\n",
       " 'tourism',\n",
       " 'trade',\n",
       " 'trade / retail',\n",
       " 'we are consultants, so have projects across public and private sectors.',\n",
       " 'web development for companies',\n",
       " 'websites / apps'}"
      ]
     },
     "execution_count": 82,
     "metadata": {},
     "output_type": "execute_result"
    }
   ],
   "source": [
    "set(x.lower() for x in get_var_file(2))"
   ]
  },
  {
   "cell_type": "markdown",
   "metadata": {},
   "source": [
    "___\n",
    "___"
   ]
  },
  {
   "cell_type": "markdown",
   "metadata": {},
   "source": [
    "### Variable 3<a id=\"v_3\"></a>"
   ]
  },
  {
   "cell_type": "markdown",
   "metadata": {},
   "source": [
    "#### How many people are involved in your project?\n",
    "\n",
    "Coding Mode: Manual\n",
    "\n",
    "Coder: CC\n",
    "\n",
    "Note: Most entries were already integers. Where ranges were specified, I went with the lower bound.\n",
    "\n",
    "___\n",
    "\n",
    "###### Suggestion: Replace `v_3` by its coded version in the coded truth."
   ]
  },
  {
   "cell_type": "markdown",
   "metadata": {},
   "source": [
    "___\n",
    "___"
   ]
  },
  {
   "cell_type": "markdown",
   "metadata": {},
   "source": [
    "### Variable 5<a id=\"v_5\"></a>"
   ]
  },
  {
   "cell_type": "markdown",
   "metadata": {},
   "source": [
    "#### Please select the class of systems or services you work on in the context of your project.\n",
    "Options presented in `v_4`:\n",
    "* Software-intensive embedded systems\n",
    "* Business information systems\n",
    "* Hybrid of both software-intensive embedded systems and business\n",
    "* Other (please specify)\n",
    "\n",
    "`v_5` used to specify `Other`.\n",
    "___\n",
    "\n",
    "##### Suggestion: `Code Back` then `Drop`  `v_5`"
   ]
  },
  {
   "cell_type": "code",
   "execution_count": 24,
   "metadata": {},
   "outputs": [
    {
     "name": "stdout",
     "output_type": "stream",
     "text": [
      "v_5_short_29.csv\n"
     ]
    }
   ],
   "source": [
    "#prepare_for_excel_people(5, 'systems_class')"
   ]
  },
  {
   "cell_type": "code",
   "execution_count": 101,
   "metadata": {},
   "outputs": [
    {
     "name": "stdout",
     "output_type": "stream",
     "text": [
      "v_5_short_29.csv\n"
     ]
    },
    {
     "data": {
      "text/plain": [
       "array(['Electrical lines', 'Hardware subsystem incl. SW',\n",
       "       'Power electronics control with FPGA.',\n",
       "       'varies based on the project, and I work on several at a time.  Mostly software to support state agency operations/services for Department of Health',\n",
       "       'middleware', 'Railway Control Systems',\n",
       "       'All aspects of IT support to the enterprise - infrastructure, applications, user interface, storage, etc.',\n",
       "       'Software Intensive Embedded Systems, FPGA, IoT, Hybrid of last 3 entries',\n",
       "       'PLM', 'Web-Application', 'Integrations between systems ',\n",
       "       'applications for mobile devices',\n",
       "       'applications for mobile devices',\n",
       "       'IT Infrastructure and Security', 'AZURE',\n",
       "       'Backend support and administration', 'Software as a Service',\n",
       "       'Access Control (SW and Installations)', 'Web system',\n",
       "       'Software Analysis Suite', 'ERP', 'Point of sale software',\n",
       "       'Maschine controlling software', 'Mobile applications',\n",
       "       'E-Commerce Platform and end product for the customer',\n",
       "       'Web based Software Systems',\n",
       "       'software-intensive embedded system, web-based software and infrastructure as code.',\n",
       "       'Social Netowrks', 'Software as a Service / Services Platform '],\n",
       "      dtype=object)"
      ]
     },
     "execution_count": 101,
     "metadata": {},
     "output_type": "execute_result"
    }
   ],
   "source": [
    "get_var_file(5)"
   ]
  },
  {
   "cell_type": "markdown",
   "metadata": {},
   "source": [
    "___\n",
    "\n",
    "___"
   ]
  },
  {
   "cell_type": "markdown",
   "metadata": {},
   "source": [
    "### Variable 15<a id=\"v_15\"></a>"
   ]
  },
  {
   "cell_type": "markdown",
   "metadata": {},
   "source": [
    "#### Are there quality attributes which are of particularly high importance for your development project? If yes, which one(s)?\n",
    "\n",
    "Situation: \n",
    "\n",
    "Here, we have five answers only, i.e. `v_14` is quoted six times in the `df`, and five respondents specified the `Other` in `v_15`.\n",
    "\n",
    "Of the five answers, three (`lfdn` 82, 84, and 560) don't really specify an `Other`. \n",
    "\n",
    "The remaining two answers are `scalability` (`lfdn` 512) and a phrase in Portuguese (`lfdn` 1894) along the lines of `modularity` and `developability` (in the sense of suitability for agile development).\n",
    "The respondents involved also quoted many other quality requirements (see below).\n",
    "\n",
    "___\n",
    "\n",
    "###### Suggestion: `Drop` `v_14` and `v_15`"
   ]
  },
  {
   "cell_type": "code",
   "execution_count": 27,
   "metadata": {},
   "outputs": [
    {
     "data": {
      "text/html": [
       "<div>\n",
       "<style scoped>\n",
       "    .dataframe tbody tr th:only-of-type {\n",
       "        vertical-align: middle;\n",
       "    }\n",
       "\n",
       "    .dataframe tbody tr th {\n",
       "        vertical-align: top;\n",
       "    }\n",
       "\n",
       "    .dataframe thead th {\n",
       "        text-align: right;\n",
       "    }\n",
       "</style>\n",
       "<table border=\"1\" class=\"dataframe\">\n",
       "  <thead>\n",
       "    <tr style=\"text-align: right;\">\n",
       "      <th></th>\n",
       "      <th>11</th>\n",
       "      <th>12</th>\n",
       "      <th>121</th>\n",
       "      <th>129</th>\n",
       "      <th>134</th>\n",
       "      <th>466</th>\n",
       "    </tr>\n",
       "  </thead>\n",
       "  <tbody>\n",
       "    <tr>\n",
       "      <th>v_14</th>\n",
       "      <td>quoted</td>\n",
       "      <td>quoted</td>\n",
       "      <td>quoted</td>\n",
       "      <td>quoted</td>\n",
       "      <td>quoted</td>\n",
       "      <td>quoted</td>\n",
       "    </tr>\n",
       "    <tr>\n",
       "      <th>v_15</th>\n",
       "      <td>Quality in works plays a main role.</td>\n",
       "      <td>This is reverse-engeneering project - old syst...</td>\n",
       "      <td>scalability</td>\n",
       "      <td>NotAnswered</td>\n",
       "      <td>Satisfying the job to be done</td>\n",
       "      <td>Evolução rápida em módulos compartimentados, p...</td>\n",
       "    </tr>\n",
       "  </tbody>\n",
       "</table>\n",
       "</div>"
      ],
      "text/plain": [
       "                                       11   \\\n",
       "v_14                                quoted   \n",
       "v_15  Quality in works plays a main role.    \n",
       "\n",
       "                                                    12           121  \\\n",
       "v_14                                             quoted       quoted   \n",
       "v_15  This is reverse-engeneering project - old syst...  scalability   \n",
       "\n",
       "              129                            134  \\\n",
       "v_14       quoted                         quoted   \n",
       "v_15  NotAnswered  Satisfying the job to be done   \n",
       "\n",
       "                                                    466  \n",
       "v_14                                             quoted  \n",
       "v_15  Evolução rápida em módulos compartimentados, p...  "
      ]
     },
     "execution_count": 27,
     "metadata": {},
     "output_type": "execute_result"
    }
   ],
   "source": [
    "df[df.v_14 == 'quoted'].T.loc[['v_14', 'v_15']]"
   ]
  },
  {
   "cell_type": "code",
   "execution_count": 84,
   "metadata": {},
   "outputs": [
    {
     "name": "stdout",
     "output_type": "stream",
     "text": [
      "v_15_short_5.csv\n"
     ]
    },
    {
     "data": {
      "text/plain": [
       "array(['Quality in works plays a main role. ',\n",
       "       'This is reverse-engeneering project - old system has to be re-developed on the base of modern technologies',\n",
       "       'scalability', 'Satisfying the job to be done',\n",
       "       'Evolução rápida em módulos compartimentados, para permitir desenvolvimento de modulos com sprints paralelos geridos por equipas em paralelo'],\n",
       "      dtype=object)"
      ]
     },
     "execution_count": 84,
     "metadata": {},
     "output_type": "execute_result"
    }
   ],
   "source": [
    "get_var_file(15)"
   ]
  },
  {
   "cell_type": "code",
   "execution_count": 23,
   "metadata": {
    "scrolled": true
   },
   "outputs": [
    {
     "data": {
      "text/html": [
       "<div>\n",
       "<style scoped>\n",
       "    .dataframe tbody tr th:only-of-type {\n",
       "        vertical-align: middle;\n",
       "    }\n",
       "\n",
       "    .dataframe tbody tr th {\n",
       "        vertical-align: top;\n",
       "    }\n",
       "\n",
       "    .dataframe thead th {\n",
       "        text-align: right;\n",
       "    }\n",
       "</style>\n",
       "<table border=\"1\" class=\"dataframe\">\n",
       "  <thead>\n",
       "    <tr style=\"text-align: right;\">\n",
       "      <th></th>\n",
       "      <th>121</th>\n",
       "    </tr>\n",
       "  </thead>\n",
       "  <tbody>\n",
       "    <tr>\n",
       "      <th>v_6</th>\n",
       "      <td>quoted</td>\n",
       "    </tr>\n",
       "    <tr>\n",
       "      <th>v_7</th>\n",
       "      <td>quoted</td>\n",
       "    </tr>\n",
       "    <tr>\n",
       "      <th>v_8</th>\n",
       "      <td>quoted</td>\n",
       "    </tr>\n",
       "    <tr>\n",
       "      <th>v_9</th>\n",
       "      <td>quoted</td>\n",
       "    </tr>\n",
       "    <tr>\n",
       "      <th>v_10</th>\n",
       "      <td>quoted</td>\n",
       "    </tr>\n",
       "    <tr>\n",
       "      <th>v_11</th>\n",
       "      <td>quoted</td>\n",
       "    </tr>\n",
       "    <tr>\n",
       "      <th>v_12</th>\n",
       "      <td>not quoted</td>\n",
       "    </tr>\n",
       "    <tr>\n",
       "      <th>v_13</th>\n",
       "      <td>quoted</td>\n",
       "    </tr>\n",
       "    <tr>\n",
       "      <th>v_14</th>\n",
       "      <td>quoted</td>\n",
       "    </tr>\n",
       "    <tr>\n",
       "      <th>v_15</th>\n",
       "      <td>scalability</td>\n",
       "    </tr>\n",
       "  </tbody>\n",
       "</table>\n",
       "</div>"
      ],
      "text/plain": [
       "              121\n",
       "v_6        quoted\n",
       "v_7        quoted\n",
       "v_8        quoted\n",
       "v_9        quoted\n",
       "v_10       quoted\n",
       "v_11       quoted\n",
       "v_12   not quoted\n",
       "v_13       quoted\n",
       "v_14       quoted\n",
       "v_15  scalability"
      ]
     },
     "execution_count": 23,
     "metadata": {},
     "output_type": "execute_result"
    }
   ],
   "source": [
    "df[df.lfdn == 512].T.loc[[f'v_{x}' for x in range(6,16)]]"
   ]
  },
  {
   "cell_type": "code",
   "execution_count": 24,
   "metadata": {},
   "outputs": [
    {
     "data": {
      "text/html": [
       "<div>\n",
       "<style scoped>\n",
       "    .dataframe tbody tr th:only-of-type {\n",
       "        vertical-align: middle;\n",
       "    }\n",
       "\n",
       "    .dataframe tbody tr th {\n",
       "        vertical-align: top;\n",
       "    }\n",
       "\n",
       "    .dataframe thead th {\n",
       "        text-align: right;\n",
       "    }\n",
       "</style>\n",
       "<table border=\"1\" class=\"dataframe\">\n",
       "  <thead>\n",
       "    <tr style=\"text-align: right;\">\n",
       "      <th></th>\n",
       "      <th>466</th>\n",
       "    </tr>\n",
       "  </thead>\n",
       "  <tbody>\n",
       "    <tr>\n",
       "      <th>v_6</th>\n",
       "      <td>not quoted</td>\n",
       "    </tr>\n",
       "    <tr>\n",
       "      <th>v_7</th>\n",
       "      <td>quoted</td>\n",
       "    </tr>\n",
       "    <tr>\n",
       "      <th>v_8</th>\n",
       "      <td>not quoted</td>\n",
       "    </tr>\n",
       "    <tr>\n",
       "      <th>v_9</th>\n",
       "      <td>not quoted</td>\n",
       "    </tr>\n",
       "    <tr>\n",
       "      <th>v_10</th>\n",
       "      <td>not quoted</td>\n",
       "    </tr>\n",
       "    <tr>\n",
       "      <th>v_11</th>\n",
       "      <td>not quoted</td>\n",
       "    </tr>\n",
       "    <tr>\n",
       "      <th>v_12</th>\n",
       "      <td>quoted</td>\n",
       "    </tr>\n",
       "    <tr>\n",
       "      <th>v_13</th>\n",
       "      <td>quoted</td>\n",
       "    </tr>\n",
       "    <tr>\n",
       "      <th>v_14</th>\n",
       "      <td>quoted</td>\n",
       "    </tr>\n",
       "    <tr>\n",
       "      <th>v_15</th>\n",
       "      <td>Evolução rápida em módulos compartimentados, p...</td>\n",
       "    </tr>\n",
       "  </tbody>\n",
       "</table>\n",
       "</div>"
      ],
      "text/plain": [
       "                                                    466\n",
       "v_6                                          not quoted\n",
       "v_7                                              quoted\n",
       "v_8                                          not quoted\n",
       "v_9                                          not quoted\n",
       "v_10                                         not quoted\n",
       "v_11                                         not quoted\n",
       "v_12                                             quoted\n",
       "v_13                                             quoted\n",
       "v_14                                             quoted\n",
       "v_15  Evolução rápida em módulos compartimentados, p..."
      ]
     },
     "execution_count": 24,
     "metadata": {},
     "output_type": "execute_result"
    }
   ],
   "source": [
    "df[df.lfdn ==1894].T.loc[[f'v_{x}' for x in range(6,16)]]"
   ]
  },
  {
   "cell_type": "markdown",
   "metadata": {},
   "source": [
    "___\n",
    "___"
   ]
  },
  {
   "cell_type": "markdown",
   "metadata": {},
   "source": [
    "### Variable 18<a id=\"v_18\"></a>"
   ]
  },
  {
   "cell_type": "markdown",
   "metadata": {},
   "source": [
    "#### What is the main role you occupy in your project?\n",
    "\n",
    "Options presented in `v_17`:\n",
    "\n",
    "1. Business Analyst\n",
    "2. Customer\n",
    "3. Developer\n",
    "4. Project Lead / Project Manager \n",
    "5. Product Owner\n",
    "6. Product Manager\n",
    "7. Scrum Master\n",
    "8. Architect\n",
    "9. Test Manager / Tester \n",
    "10. Marketing\n",
    "11. Requirements Engineer\n",
    "12. Other (please specify)\n",
    "\n",
    "`v_18` used to specify `Other`.\n",
    "\n",
    "___\n",
    "\n",
    "##### Suggestion: `Code Back` then `Drop`  `v_18`"
   ]
  },
  {
   "cell_type": "code",
   "execution_count": 9,
   "metadata": {},
   "outputs": [
    {
     "name": "stdout",
     "output_type": "stream",
     "text": [
      "v_18_short_40.csv\n"
     ]
    }
   ],
   "source": [
    "#prepare_for_excel_people(18, 'respondent_role')"
   ]
  },
  {
   "cell_type": "code",
   "execution_count": 85,
   "metadata": {
    "scrolled": false
   },
   "outputs": [
    {
     "name": "stdout",
     "output_type": "stream",
     "text": [
      "v_18_short_40.csv\n"
     ]
    },
    {
     "data": {
      "text/plain": [
       "array(['Observer', 'System analyst (requirements engineering included)',\n",
       "       'PM SE RE Support Engineer (PMO)', 'Systems Architect',\n",
       "       'Administrator', 'qa', 'Certification Engineer, System Engineer',\n",
       "       'Senior System Analyst',\n",
       "       'All in one solution, I do everything myself',\n",
       "       'Requirements Tooling Strategy', 'Frontend Developer',\n",
       "       'design engineer', 'Analyst and UX Designer', 'CEO', 'Analyst',\n",
       "       'Agile Coach', 'CIO', 'PMO', 'Business Analyst',\n",
       "       'Process Quality Analyst (QA)',\n",
       "       'Product Owner and Requirements Engineer',\n",
       "       'Hybrid  Analyst/Project manager', 'DBA', 'Team Lead',\n",
       "       'Analyst and Developer', 'System Engineer', 'Requirements Manager',\n",
       "       'Engineering manager, fulfilling the PM and some other roles.',\n",
       "       'Data scientist', 'Senior management', 'Security Manager',\n",
       "       'Process analyst', ' ', 'Development Functional Manager',\n",
       "       'Release Train Engineer (acc to Scaled Agile Framework, SAFe)',\n",
       "       'Engagement Manager', 'Service designer', 'Sponsor',\n",
       "       'Service designer',\n",
       "       'Senior Technical (includes several of the above roles.  Mostly Architect, Developer and Project Lead)'],\n",
       "      dtype=object)"
      ]
     },
     "execution_count": 85,
     "metadata": {},
     "output_type": "execute_result"
    }
   ],
   "source": [
    "get_var_file(18)"
   ]
  },
  {
   "cell_type": "markdown",
   "metadata": {},
   "source": [
    "___\n",
    "___"
   ]
  },
  {
   "cell_type": "markdown",
   "metadata": {},
   "source": [
    "### Variable 19<a id=\"v_19\"></a>"
   ]
  },
  {
   "cell_type": "markdown",
   "metadata": {},
   "source": [
    "#### How many years of industrial experience do you have in your role?\n",
    "\n",
    "Coding Mode: Manual\n",
    "\n",
    "Coder: CC\n",
    "\n",
    "Note: Where multiple values were given, I went with the total experience specified.\n",
    "___\n",
    "###### Suggestion: Replace `v_19` by its coded version in the coded truth."
   ]
  },
  {
   "cell_type": "markdown",
   "metadata": {},
   "source": [
    "___\n",
    "___"
   ]
  },
  {
   "cell_type": "markdown",
   "metadata": {},
   "source": [
    "### Variable 20<a id=\"v_20\"></a>"
   ]
  },
  {
   "cell_type": "markdown",
   "metadata": {},
   "source": [
    "#### Do you have a certification in this role? If yes, which one?\n",
    "___\n",
    "\n",
    "##### Suggestion: `New Tags` then `Drop`  `v_20` "
   ]
  },
  {
   "cell_type": "code",
   "execution_count": 25,
   "metadata": {},
   "outputs": [
    {
     "name": "stdout",
     "output_type": "stream",
     "text": [
      "v_20_short_403.csv\n"
     ]
    }
   ],
   "source": [
    "#prepare_for_excel_people(20, 'certifications')"
   ]
  },
  {
   "cell_type": "code",
   "execution_count": 70,
   "metadata": {},
   "outputs": [],
   "source": [
    "from collections import Counter"
   ]
  },
  {
   "cell_type": "code",
   "execution_count": 71,
   "metadata": {},
   "outputs": [
    {
     "name": "stdout",
     "output_type": "stream",
     "text": [
      "v_20_short_403.csv\n"
     ]
    },
    {
     "data": {
      "text/plain": [
       "Counter({'#VALUE!': 1,\n",
       "         '-': 3,\n",
       "         'Agile Scrum master': 1,\n",
       "         'BCS Business Analysis Foundation': 1,\n",
       "         'BCS International Diploma in Business Analysis, IREB CPRE Foundation, Professional Scrum Master I, Professional Scrum Product Owner I': 1,\n",
       "         'BEng & Doulos': 1,\n",
       "         'BPM PROCESS ANALYST': 1,\n",
       "         'BS in Computer Science': 1,\n",
       "         \"Bachelor's degree\": 1,\n",
       "         'Business System Analysis Certificate (BSAC), Schulich Business Analyst Masters Certificate': 1,\n",
       "         'CBAP': 4,\n",
       "         'CBAP, SAFe Agilist': 1,\n",
       "         'CCBA': 1,\n",
       "         'CERTIFICATES OF VARIOUS COURSES': 1,\n",
       "         'CISCO': 1,\n",
       "         'CPRE': 3,\n",
       "         'CPRE (Foundation Level)': 1,\n",
       "         'CPRE AL': 1,\n",
       "         'CPRE Advanced Level (Modeling)': 1,\n",
       "         'CPRE FL': 1,\n",
       "         'CPRE Foundation': 1,\n",
       "         'CPRE Foundation Level': 1,\n",
       "         'CPRE-FL': 2,\n",
       "         'CPREFL': 1,\n",
       "         'CSM': 2,\n",
       "         'CSM and CSPO': 1,\n",
       "         'CSM/CPO': 1,\n",
       "         'CSPO - Certified Scrum Product Owner': 1,\n",
       "         'CSPO, CSM': 1,\n",
       "         'CTFL': 1,\n",
       "         'CTFL - Certified Tester Foundation Level': 1,\n",
       "         'Cbap': 1,\n",
       "         'Certificatiosn for Tools and Methods': 1,\n",
       "         'Certified Professional for Requirements Engineering (Foundation and Advanced), Professional Scrum Product Owner, Professional Scrum Master, PMP': 1,\n",
       "         'Certified Requirements Engineer Foundation and Advanced Level, Certified Srum Master and Product Owner': 1,\n",
       "         'Certified Scrum Master even if it is not specifically for my role': 1,\n",
       "         'Certified Scrum Product Owner': 2,\n",
       "         'Certified Scrum Product Owner - Certified IBM Rational Requirements Management w / Use Cases;': 1,\n",
       "         'Certified Scrum Product Owner and PMP': 1,\n",
       "         'Certified architect from Dataföreningen in Sweden': 1,\n",
       "         'Community College': 1,\n",
       "         'Crea-rs': 1,\n",
       "         'DO NOT': 56,\n",
       "         'DO-178C Like': 1,\n",
       "         'Degree in Computer Science': 1,\n",
       "         'Degree in Information Systems': 1,\n",
       "         'Design thinkers group': 1,\n",
       "         'ECBA only': 1,\n",
       "         \"I have a master's degree in Software Engineering and a PhD in Computer Science\": 1,\n",
       "         'I have certificates in Business modelling': 1,\n",
       "         'IBM': 1,\n",
       "         'IBM RUP': 1,\n",
       "         'ICP, AGILE PO': 1,\n",
       "         'IMPA Level (Project Management Technician) Certified Project Management Associate': 1,\n",
       "         'IPMA': 1,\n",
       "         'IPMA C': 1,\n",
       "         'IPMA/B': 1,\n",
       "         'IREB': 1,\n",
       "         'IREB CPRE Foundation Level, Automotive Functional Safety Professional': 1,\n",
       "         'IREB Foundation': 2,\n",
       "         'IREB Foundation & Advanced levels': 1,\n",
       "         'IREB Fundamental': 1,\n",
       "         'IREB foundation': 2,\n",
       "         'IREB, Product Owner': 1,\n",
       "         'IREB_CPRE_Foundation_Level': 1,\n",
       "         'ISO / IEC 25000': 1,\n",
       "         'ISO27001': 1,\n",
       "         'ISPMA': 1,\n",
       "         'ISTQB': 3,\n",
       "         'ISTQB Advanced Level Test Manager': 1,\n",
       "         'ISTQB Certified Tester': 1,\n",
       "         'ISTQB Foundation level': 1,\n",
       "         'ISTQB Test Foundation': 1,\n",
       "         'ISTQB Tester, Scrum Master, Project Manager (IPMA)': 1,\n",
       "         'ISTQB foundation level': 1,\n",
       "         'ISTQB,CSM': 1,\n",
       "         'ITIL': 1,\n",
       "         'ITIL, PMP': 1,\n",
       "         'Information Systems Engineer': 1,\n",
       "         'Information systems engineer degree': 1,\n",
       "         'Isqtb': 1,\n",
       "         'Itilv3': 1,\n",
       "         'JAVA FUNDAMENTALS PROGRAMMING - CEC-EPN / JAVA Advanced Programming CEC-EPN': 1,\n",
       "         'Java Certification': 1,\n",
       "         'MBA': 1,\n",
       "         'MBA in Project Management': 1,\n",
       "         'MBA, PMP': 1,\n",
       "         'MCTS': 1,\n",
       "         'MSc': 1,\n",
       "         'Master degree': 1,\n",
       "         'Master in Computer Engineering': 1,\n",
       "         'Master in Computing Engineering/Science': 1,\n",
       "         'Microsoft Certified Professinal': 1,\n",
       "         'NO': 1,\n",
       "         'NOVELL CERTIFIED ENGINIEER': 1,\n",
       "         'Network Engineering': 1,\n",
       "         'No': 94,\n",
       "         'No certification. Certification helps to get a new contract, but is of limited use during the project.': 1,\n",
       "         'No, I do not.': 1,\n",
       "         'No, but I have a PhD related to that RE': 1,\n",
       "         'No.': 4,\n",
       "         'Not yet': 1,\n",
       "         'OCP 9i, ITILV3 Certified, Exa-data Certified': 1,\n",
       "         'OMG Certified UML Professional': 1,\n",
       "         'ORACLE': 1,\n",
       "         'ORACLE ISO-803. JAVA PROGRAMing JE. BASIC ANDROID. JAVA JSF JSP': 1,\n",
       "         'Ongoing Masters degree (awaiting thesis)': 1,\n",
       "         'Oracle CERTIFICATION, ISO 803, JAVA PROGRAMer, ENTERPRISE, JSF, JRE, basic ANDROID, ADVANCED ANDROID, SERVER, JSP': 1,\n",
       "         'Oracle Certified Java Developer': 1,\n",
       "         'P Eng': 1,\n",
       "         'PM': 1,\n",
       "         'PMI Extension course - UNISINOS': 1,\n",
       "         'PMI PMP, PRINCE2 Practitioner, CompTIA Project+': 1,\n",
       "         'PMI, ITIL and COBIT': 1,\n",
       "         'PMI-PMP': 1,\n",
       "         'PMP': 7,\n",
       "         'PMP, CSPO': 1,\n",
       "         'PMP, PEng': 1,\n",
       "         'PMP, PSM I and CSM': 1,\n",
       "         'PMP, SCM': 1,\n",
       "         'PMP, SCRUM MASTER': 1,\n",
       "         'PMP. CBAP': 1,\n",
       "         'PRINCE2': 1,\n",
       "         'PSM': 1,\n",
       "         'PhD': 1,\n",
       "         'Prince2': 1,\n",
       "         'Product Owner': 1,\n",
       "         'Programmer': 1,\n",
       "         'RUP, ScrumMaster, ITIL': 1,\n",
       "         'Requirement Engineering': 1,\n",
       "         'Requirements Engineering': 1,\n",
       "         'SAFe': 1,\n",
       "         'SEI Software Architecture Professional Certificate': 1,\n",
       "         'SQL MCTS and Azure MCSA': 1,\n",
       "         'Scrum Master': 1,\n",
       "         'Scrum Master (Microsoft)': 1,\n",
       "         'Software engineering degree': 1,\n",
       "         'Specialist in Systems Analysis': 1,\n",
       "         'TOGAF': 1,\n",
       "         'TOGAF 7/ COBIT': 1,\n",
       "         'TOGAF, PMP': 1,\n",
       "         'Trained as an internal auditor': 1,\n",
       "         'Training ISPMA (Product Management) and training in Agile methodologies': 1,\n",
       "         'Uninorte and Fucapi': 1,\n",
       "         'VMWARE. ORACLE JAVA DEVELOPER Master. ANDROID developer. PHP, C ++, JavaScript': 1,\n",
       "         'Y': 1,\n",
       "         'Yes': 2,\n",
       "         'Yes CISSP': 1,\n",
       "         'Yes, CBAP': 1,\n",
       "         'Yes, Cettified Agile coach': 1,\n",
       "         'Yes, IPMA Certificate': 1,\n",
       "         'Yes, IREB Foundation': 1,\n",
       "         'Yes, IREB foundation (and many courses like: projectmanagement, process managagement, information management etc)': 1,\n",
       "         'Yes, Master degree of software engineering in requirements engineering': 1,\n",
       "         'Yes, REQB practitioner': 1,\n",
       "         'Yes, Software Architecture Proffesional': 1,\n",
       "         'Yes, university degree': 1,\n",
       "         'cbap': 1,\n",
       "         'civil engineering': 1,\n",
       "         'computer engineering': 1,\n",
       "         'do not': 24,\n",
       "         'irep': 1,\n",
       "         'istqb': 1,\n",
       "         'no': 36,\n",
       "         'pmo -CP': 1,\n",
       "         'pmp': 1,\n",
       "         'scrum manager': 2,\n",
       "         'yes': 2,\n",
       "         'yes - CPRE-FL': 1,\n",
       "         'yes many': 1,\n",
       "         'yes, CBAP (also PSM I and CSM)': 1})"
      ]
     },
     "execution_count": 71,
     "metadata": {},
     "output_type": "execute_result"
    }
   ],
   "source": [
    "Counter(get_var_file(20))"
   ]
  },
  {
   "cell_type": "markdown",
   "metadata": {},
   "source": [
    "___\n",
    "___"
   ]
  },
  {
   "cell_type": "markdown",
   "metadata": {},
   "source": [
    "### Variable 22<a id=\"v_22\"></a>"
   ]
  },
  {
   "cell_type": "markdown",
   "metadata": {},
   "source": [
    "#### Which organisational role does your project team have in your project?\n",
    "\n",
    "Options presented in `v_21`:\n",
    "\n",
    "1. Customer\n",
    "2. Main contractor (main responsible for the development project)\n",
    "3. Sub-contractor (responsible for part of a larger development project) \n",
    "4. In-house development\n",
    "6. Other (please specify)\n",
    "\n",
    "`v_22` used to specify the `Other`.\n",
    "\n",
    "___\n",
    "\n",
    "##### Suggestion: `Drop` `v_22`"
   ]
  },
  {
   "cell_type": "code",
   "execution_count": 86,
   "metadata": {},
   "outputs": [
    {
     "name": "stdout",
     "output_type": "stream",
     "text": [
      "v_22_short_13.csv\n"
     ]
    },
    {
     "data": {
      "text/plain": [
       "array(['Mix: Customer and Main-Contractor',\n",
       "       'Part Customer, part Main contractor, part In-house development',\n",
       "       'Co-Development of project',\n",
       "       'All in one solution, I do everything myself',\n",
       "       'Consultant for Business Analysis and Project Management',\n",
       "       'Quality control', 'SA', 'own business', 'test factory',\n",
       "       'In_house: Business Analysis to Design', '  ',\n",
       "       'It is In-house development, but composed of external consultants',\n",
       "       'Service designer'], dtype=object)"
      ]
     },
     "execution_count": 86,
     "metadata": {},
     "output_type": "execute_result"
    }
   ],
   "source": [
    "get_var_file(22)"
   ]
  },
  {
   "cell_type": "markdown",
   "metadata": {},
   "source": [
    "___\n",
    "___"
   ]
  },
  {
   "cell_type": "markdown",
   "metadata": {},
   "source": [
    "### Variable 35<a id=\"v_35\"></a>"
   ]
  },
  {
   "cell_type": "markdown",
   "metadata": {},
   "source": [
    "#### How are the requirements elicited in your project?\n",
    "\n",
    "Options: \n",
    "\n",
    "* v_28: We elicit and / or refine requirements in several iterations\n",
    "* v_29: We elicit and / or refine requirements in a specifically dedicated project phase\n",
    "* v_34: Other (please specify)\n",
    "* v_35: Short Free Text Specification"
   ]
  },
  {
   "cell_type": "markdown",
   "metadata": {},
   "source": [
    "Situation:\n",
    "\n",
    "Here, we have 16 answers, and some of them might be interpreted as `v_28` or `v_29`, others might not.\n",
    "Those answers that might not be plausibly 'coded back' into the options originally presented mainly refer to options presented as part of the next question (see below, `v_46`).\n",
    "\n",
    "___\n",
    "\n",
    "###### Suggestion: Drop `v_34` and `v_35` \n",
    "\n",
    "For the next survey, rethink the allocation of answer options to the individual questions regarding Requirements Elicitation (e.g., moving 'We do not elicit...ourselves' to this question)."
   ]
  },
  {
   "cell_type": "code",
   "execution_count": 36,
   "metadata": {},
   "outputs": [
    {
     "data": {
      "text/html": [
       "<div>\n",
       "<style scoped>\n",
       "    .dataframe tbody tr th:only-of-type {\n",
       "        vertical-align: middle;\n",
       "    }\n",
       "\n",
       "    .dataframe tbody tr th {\n",
       "        vertical-align: top;\n",
       "    }\n",
       "\n",
       "    .dataframe thead th {\n",
       "        text-align: right;\n",
       "    }\n",
       "</style>\n",
       "<table border=\"1\" class=\"dataframe\">\n",
       "  <thead>\n",
       "    <tr style=\"text-align: right;\">\n",
       "      <th></th>\n",
       "      <th>29</th>\n",
       "      <th>34</th>\n",
       "      <th>42</th>\n",
       "      <th>61</th>\n",
       "      <th>152</th>\n",
       "      <th>166</th>\n",
       "      <th>218</th>\n",
       "      <th>228</th>\n",
       "      <th>337</th>\n",
       "      <th>345</th>\n",
       "      <th>386</th>\n",
       "      <th>398</th>\n",
       "      <th>404</th>\n",
       "      <th>441</th>\n",
       "      <th>449</th>\n",
       "      <th>476</th>\n",
       "    </tr>\n",
       "  </thead>\n",
       "  <tbody>\n",
       "    <tr>\n",
       "      <th>lfdn</th>\n",
       "      <td>147</td>\n",
       "      <td>163</td>\n",
       "      <td>180</td>\n",
       "      <td>249</td>\n",
       "      <td>683</td>\n",
       "      <td>742</td>\n",
       "      <td>928</td>\n",
       "      <td>952</td>\n",
       "      <td>1321</td>\n",
       "      <td>1344</td>\n",
       "      <td>1457</td>\n",
       "      <td>1483</td>\n",
       "      <td>1542</td>\n",
       "      <td>1744</td>\n",
       "      <td>1763</td>\n",
       "      <td>1928</td>\n",
       "    </tr>\n",
       "    <tr>\n",
       "      <th>v_28</th>\n",
       "      <td>not quoted</td>\n",
       "      <td>quoted</td>\n",
       "      <td>not quoted</td>\n",
       "      <td>not quoted</td>\n",
       "      <td>not quoted</td>\n",
       "      <td>not quoted</td>\n",
       "      <td>not quoted</td>\n",
       "      <td>not quoted</td>\n",
       "      <td>not quoted</td>\n",
       "      <td>not quoted</td>\n",
       "      <td>not quoted</td>\n",
       "      <td>not quoted</td>\n",
       "      <td>not quoted</td>\n",
       "      <td>not quoted</td>\n",
       "      <td>not quoted</td>\n",
       "      <td>not quoted</td>\n",
       "    </tr>\n",
       "    <tr>\n",
       "      <th>v_29</th>\n",
       "      <td>not quoted</td>\n",
       "      <td>quoted</td>\n",
       "      <td>not quoted</td>\n",
       "      <td>not quoted</td>\n",
       "      <td>not quoted</td>\n",
       "      <td>not quoted</td>\n",
       "      <td>not quoted</td>\n",
       "      <td>quoted</td>\n",
       "      <td>not quoted</td>\n",
       "      <td>not quoted</td>\n",
       "      <td>not quoted</td>\n",
       "      <td>not quoted</td>\n",
       "      <td>not quoted</td>\n",
       "      <td>not quoted</td>\n",
       "      <td>not quoted</td>\n",
       "      <td>not quoted</td>\n",
       "    </tr>\n",
       "    <tr>\n",
       "      <th>v_34</th>\n",
       "      <td>quoted</td>\n",
       "      <td>quoted</td>\n",
       "      <td>quoted</td>\n",
       "      <td>quoted</td>\n",
       "      <td>quoted</td>\n",
       "      <td>quoted</td>\n",
       "      <td>quoted</td>\n",
       "      <td>quoted</td>\n",
       "      <td>quoted</td>\n",
       "      <td>quoted</td>\n",
       "      <td>quoted</td>\n",
       "      <td>quoted</td>\n",
       "      <td>quoted</td>\n",
       "      <td>quoted</td>\n",
       "      <td>quoted</td>\n",
       "      <td>quoted</td>\n",
       "    </tr>\n",
       "    <tr>\n",
       "      <th>v_35</th>\n",
       "      <td>We try to elicit requirements in dedicated pha...</td>\n",
       "      <td>Depends upon the project</td>\n",
       "      <td>Waterfall</td>\n",
       "      <td>I create my own projects and so I write my own...</td>\n",
       "      <td>HYBRID</td>\n",
       "      <td>Long waterfall process (6 months)  which is it...</td>\n",
       "      <td>Based on the source code of the current versio...</td>\n",
       "      <td>Customer and vendor choosing analysis models a...</td>\n",
       "      <td>It is handled by the product manager</td>\n",
       "      <td>Work meetings</td>\n",
       "      <td>Workshops and forms</td>\n",
       "      <td>WORKSHOPS (several iterations)</td>\n",
       "      <td>We will like to refine them in several iterati...</td>\n",
       "      <td>We hardly do</td>\n",
       "      <td>Requirements are usually elicited by project m...</td>\n",
       "      <td>This is taken by someone else. But we do make ...</td>\n",
       "    </tr>\n",
       "  </tbody>\n",
       "</table>\n",
       "</div>"
      ],
      "text/plain": [
       "                                                    29   \\\n",
       "lfdn                                                147   \n",
       "v_28                                         not quoted   \n",
       "v_29                                         not quoted   \n",
       "v_34                                             quoted   \n",
       "v_35  We try to elicit requirements in dedicated pha...   \n",
       "\n",
       "                           34          42   \\\n",
       "lfdn                       163         180   \n",
       "v_28                    quoted  not quoted   \n",
       "v_29                    quoted  not quoted   \n",
       "v_34                    quoted      quoted   \n",
       "v_35  Depends upon the project   Waterfall   \n",
       "\n",
       "                                                    61          152  \\\n",
       "lfdn                                                249         683   \n",
       "v_28                                         not quoted  not quoted   \n",
       "v_29                                         not quoted  not quoted   \n",
       "v_34                                             quoted      quoted   \n",
       "v_35  I create my own projects and so I write my own...      HYBRID   \n",
       "\n",
       "                                                    166  \\\n",
       "lfdn                                                742   \n",
       "v_28                                         not quoted   \n",
       "v_29                                         not quoted   \n",
       "v_34                                             quoted   \n",
       "v_35  Long waterfall process (6 months)  which is it...   \n",
       "\n",
       "                                                    218  \\\n",
       "lfdn                                                928   \n",
       "v_28                                         not quoted   \n",
       "v_29                                         not quoted   \n",
       "v_34                                             quoted   \n",
       "v_35  Based on the source code of the current versio...   \n",
       "\n",
       "                                                    228  \\\n",
       "lfdn                                                952   \n",
       "v_28                                         not quoted   \n",
       "v_29                                             quoted   \n",
       "v_34                                             quoted   \n",
       "v_35  Customer and vendor choosing analysis models a...   \n",
       "\n",
       "                                       337            345  \\\n",
       "lfdn                                  1321           1344   \n",
       "v_28                            not quoted     not quoted   \n",
       "v_29                            not quoted     not quoted   \n",
       "v_34                                quoted         quoted   \n",
       "v_35  It is handled by the product manager  Work meetings   \n",
       "\n",
       "                      386                             398  \\\n",
       "lfdn                 1457                            1483   \n",
       "v_28           not quoted                      not quoted   \n",
       "v_29           not quoted                      not quoted   \n",
       "v_34               quoted                          quoted   \n",
       "v_35  Workshops and forms  WORKSHOPS (several iterations)   \n",
       "\n",
       "                                                    404           441  \\\n",
       "lfdn                                               1542          1744   \n",
       "v_28                                         not quoted    not quoted   \n",
       "v_29                                         not quoted    not quoted   \n",
       "v_34                                             quoted        quoted   \n",
       "v_35  We will like to refine them in several iterati...  We hardly do   \n",
       "\n",
       "                                                    449  \\\n",
       "lfdn                                               1763   \n",
       "v_28                                         not quoted   \n",
       "v_29                                         not quoted   \n",
       "v_34                                             quoted   \n",
       "v_35  Requirements are usually elicited by project m...   \n",
       "\n",
       "                                                    476  \n",
       "lfdn                                               1928  \n",
       "v_28                                         not quoted  \n",
       "v_29                                         not quoted  \n",
       "v_34                                             quoted  \n",
       "v_35  This is taken by someone else. But we do make ...  "
      ]
     },
     "execution_count": 36,
     "metadata": {},
     "output_type": "execute_result"
    }
   ],
   "source": [
    "df[df.v_34 == 'quoted'].T.loc[['lfdn'] + [f'v_{x}' for x in [28,29,34,35]]]"
   ]
  },
  {
   "cell_type": "code",
   "execution_count": 74,
   "metadata": {},
   "outputs": [
    {
     "name": "stdout",
     "output_type": "stream",
     "text": [
      "v_35_short_16.csv\n"
     ]
    },
    {
     "data": {
      "text/plain": [
       "array(['We try to elicit requirements in dedicated phase, but end up eliciting requirements througout the project on an ad-hoc basis.',\n",
       "       'Depends upon the project', 'Waterfall',\n",
       "       'I create my own projects and so I write my own requirements',\n",
       "       'HYBRID', 'Long waterfall process (6 months)  which is iterated.',\n",
       "       'Based on the source code of the current version of the product, adding improvements and corrections identified, assessing the impact of the project.',\n",
       "       'Customer and vendor choosing analysis models and check its fit or resolve our business needs.',\n",
       "       'It is handled by the product manager', 'Work meetings',\n",
       "       'Workshops and forms', 'WORKSHOPS (several iterations)',\n",
       "       'We will like to refine them in several iterations with the project team in an agile way, but that does hardly happen and in many cases requirements are either solely elicited from the PO and many times refined during the development (e.g. the sprint)',\n",
       "       'We hardly do',\n",
       "       'Requirements are usually elicited by project managers.',\n",
       "       'This is taken by someone else. But we do make adjustments to what were the requirements if needed during the project.'],\n",
       "      dtype=object)"
      ]
     },
     "execution_count": 74,
     "metadata": {},
     "output_type": "execute_result"
    }
   ],
   "source": [
    "get_var_file(35)"
   ]
  },
  {
   "cell_type": "markdown",
   "metadata": {},
   "source": [
    "___\n",
    "___"
   ]
  },
  {
   "cell_type": "markdown",
   "metadata": {},
   "source": [
    "### Variable 46<a id=\"v_46\"></a>"
   ]
  },
  {
   "cell_type": "markdown",
   "metadata": {},
   "source": [
    "#### Which techniques do you use for your requirements elicitations?\n",
    "\n",
    "Options:\n",
    "\n",
    "* v_36: Interviews\n",
    "* v_37: Analysis of existing documents\n",
    "* v_38: Risk analyses\n",
    "* v_39: Prototyping\n",
    "* v_40: Workshops and focus groups\n",
    "* v_41: (Requirements) Reuse databases and guidelines\n",
    "* v_42: Design Thinking / Lean Startup\n",
    "* v_43: External experts\n",
    "* v_44: Observations\n",
    "* v_47: We do not elicit requirements (ourselves)\n",
    "* v_45: Other\n",
    "* v_46: Short Free Text to specify `Other`\n",
    "\n",
    "___\n",
    "\n",
    "##### Suggestion: `Drop` `v_45` and `v_46`"
   ]
  },
  {
   "cell_type": "code",
   "execution_count": 78,
   "metadata": {},
   "outputs": [
    {
     "data": {
      "text/html": [
       "<div>\n",
       "<style scoped>\n",
       "    .dataframe tbody tr th:only-of-type {\n",
       "        vertical-align: middle;\n",
       "    }\n",
       "\n",
       "    .dataframe tbody tr th {\n",
       "        vertical-align: top;\n",
       "    }\n",
       "\n",
       "    .dataframe thead th {\n",
       "        text-align: right;\n",
       "    }\n",
       "</style>\n",
       "<table border=\"1\" class=\"dataframe\">\n",
       "  <thead>\n",
       "    <tr style=\"text-align: right;\">\n",
       "      <th></th>\n",
       "      <th>12</th>\n",
       "      <th>18</th>\n",
       "      <th>20</th>\n",
       "      <th>48</th>\n",
       "      <th>58</th>\n",
       "      <th>61</th>\n",
       "      <th>62</th>\n",
       "      <th>162</th>\n",
       "      <th>185</th>\n",
       "      <th>204</th>\n",
       "      <th>...</th>\n",
       "      <th>290</th>\n",
       "      <th>356</th>\n",
       "      <th>386</th>\n",
       "      <th>404</th>\n",
       "      <th>434</th>\n",
       "      <th>441</th>\n",
       "      <th>459</th>\n",
       "      <th>470</th>\n",
       "      <th>476</th>\n",
       "      <th>487</th>\n",
       "    </tr>\n",
       "  </thead>\n",
       "  <tbody>\n",
       "    <tr>\n",
       "      <th>lfdn</th>\n",
       "      <td>84</td>\n",
       "      <td>114</td>\n",
       "      <td>118</td>\n",
       "      <td>199</td>\n",
       "      <td>230</td>\n",
       "      <td>249</td>\n",
       "      <td>258</td>\n",
       "      <td>729</td>\n",
       "      <td>839</td>\n",
       "      <td>896</td>\n",
       "      <td>...</td>\n",
       "      <td>1161</td>\n",
       "      <td>1357</td>\n",
       "      <td>1457</td>\n",
       "      <td>1542</td>\n",
       "      <td>1717</td>\n",
       "      <td>1744</td>\n",
       "      <td>1840</td>\n",
       "      <td>1909</td>\n",
       "      <td>1928</td>\n",
       "      <td>1969</td>\n",
       "    </tr>\n",
       "    <tr>\n",
       "      <th>v_36</th>\n",
       "      <td>not quoted</td>\n",
       "      <td>not quoted</td>\n",
       "      <td>not quoted</td>\n",
       "      <td>not quoted</td>\n",
       "      <td>quoted</td>\n",
       "      <td>not quoted</td>\n",
       "      <td>quoted</td>\n",
       "      <td>quoted</td>\n",
       "      <td>quoted</td>\n",
       "      <td>quoted</td>\n",
       "      <td>...</td>\n",
       "      <td>quoted</td>\n",
       "      <td>quoted</td>\n",
       "      <td>not quoted</td>\n",
       "      <td>quoted</td>\n",
       "      <td>quoted</td>\n",
       "      <td>not quoted</td>\n",
       "      <td>not quoted</td>\n",
       "      <td>not quoted</td>\n",
       "      <td>not quoted</td>\n",
       "      <td>quoted</td>\n",
       "    </tr>\n",
       "    <tr>\n",
       "      <th>v_37</th>\n",
       "      <td>quoted</td>\n",
       "      <td>quoted</td>\n",
       "      <td>quoted</td>\n",
       "      <td>not quoted</td>\n",
       "      <td>quoted</td>\n",
       "      <td>not quoted</td>\n",
       "      <td>not quoted</td>\n",
       "      <td>quoted</td>\n",
       "      <td>quoted</td>\n",
       "      <td>not quoted</td>\n",
       "      <td>...</td>\n",
       "      <td>not quoted</td>\n",
       "      <td>not quoted</td>\n",
       "      <td>not quoted</td>\n",
       "      <td>not quoted</td>\n",
       "      <td>not quoted</td>\n",
       "      <td>not quoted</td>\n",
       "      <td>not quoted</td>\n",
       "      <td>not quoted</td>\n",
       "      <td>not quoted</td>\n",
       "      <td>quoted</td>\n",
       "    </tr>\n",
       "    <tr>\n",
       "      <th>v_38</th>\n",
       "      <td>not quoted</td>\n",
       "      <td>not quoted</td>\n",
       "      <td>quoted</td>\n",
       "      <td>not quoted</td>\n",
       "      <td>quoted</td>\n",
       "      <td>not quoted</td>\n",
       "      <td>not quoted</td>\n",
       "      <td>quoted</td>\n",
       "      <td>not quoted</td>\n",
       "      <td>not quoted</td>\n",
       "      <td>...</td>\n",
       "      <td>not quoted</td>\n",
       "      <td>not quoted</td>\n",
       "      <td>not quoted</td>\n",
       "      <td>not quoted</td>\n",
       "      <td>not quoted</td>\n",
       "      <td>not quoted</td>\n",
       "      <td>not quoted</td>\n",
       "      <td>not quoted</td>\n",
       "      <td>not quoted</td>\n",
       "      <td>quoted</td>\n",
       "    </tr>\n",
       "    <tr>\n",
       "      <th>v_39</th>\n",
       "      <td>not quoted</td>\n",
       "      <td>not quoted</td>\n",
       "      <td>not quoted</td>\n",
       "      <td>quoted</td>\n",
       "      <td>quoted</td>\n",
       "      <td>not quoted</td>\n",
       "      <td>not quoted</td>\n",
       "      <td>quoted</td>\n",
       "      <td>quoted</td>\n",
       "      <td>quoted</td>\n",
       "      <td>...</td>\n",
       "      <td>not quoted</td>\n",
       "      <td>quoted</td>\n",
       "      <td>quoted</td>\n",
       "      <td>not quoted</td>\n",
       "      <td>quoted</td>\n",
       "      <td>not quoted</td>\n",
       "      <td>not quoted</td>\n",
       "      <td>not quoted</td>\n",
       "      <td>not quoted</td>\n",
       "      <td>quoted</td>\n",
       "    </tr>\n",
       "    <tr>\n",
       "      <th>v_40</th>\n",
       "      <td>not quoted</td>\n",
       "      <td>not quoted</td>\n",
       "      <td>not quoted</td>\n",
       "      <td>not quoted</td>\n",
       "      <td>quoted</td>\n",
       "      <td>not quoted</td>\n",
       "      <td>not quoted</td>\n",
       "      <td>quoted</td>\n",
       "      <td>quoted</td>\n",
       "      <td>quoted</td>\n",
       "      <td>...</td>\n",
       "      <td>quoted</td>\n",
       "      <td>quoted</td>\n",
       "      <td>quoted</td>\n",
       "      <td>not quoted</td>\n",
       "      <td>quoted</td>\n",
       "      <td>not quoted</td>\n",
       "      <td>quoted</td>\n",
       "      <td>not quoted</td>\n",
       "      <td>not quoted</td>\n",
       "      <td>quoted</td>\n",
       "    </tr>\n",
       "    <tr>\n",
       "      <th>v_41</th>\n",
       "      <td>not quoted</td>\n",
       "      <td>quoted</td>\n",
       "      <td>quoted</td>\n",
       "      <td>quoted</td>\n",
       "      <td>not quoted</td>\n",
       "      <td>not quoted</td>\n",
       "      <td>not quoted</td>\n",
       "      <td>not quoted</td>\n",
       "      <td>not quoted</td>\n",
       "      <td>not quoted</td>\n",
       "      <td>...</td>\n",
       "      <td>not quoted</td>\n",
       "      <td>quoted</td>\n",
       "      <td>not quoted</td>\n",
       "      <td>not quoted</td>\n",
       "      <td>quoted</td>\n",
       "      <td>not quoted</td>\n",
       "      <td>not quoted</td>\n",
       "      <td>not quoted</td>\n",
       "      <td>not quoted</td>\n",
       "      <td>not quoted</td>\n",
       "    </tr>\n",
       "    <tr>\n",
       "      <th>v_42</th>\n",
       "      <td>not quoted</td>\n",
       "      <td>not quoted</td>\n",
       "      <td>not quoted</td>\n",
       "      <td>not quoted</td>\n",
       "      <td>not quoted</td>\n",
       "      <td>not quoted</td>\n",
       "      <td>not quoted</td>\n",
       "      <td>not quoted</td>\n",
       "      <td>not quoted</td>\n",
       "      <td>not quoted</td>\n",
       "      <td>...</td>\n",
       "      <td>not quoted</td>\n",
       "      <td>not quoted</td>\n",
       "      <td>not quoted</td>\n",
       "      <td>not quoted</td>\n",
       "      <td>not quoted</td>\n",
       "      <td>not quoted</td>\n",
       "      <td>not quoted</td>\n",
       "      <td>not quoted</td>\n",
       "      <td>not quoted</td>\n",
       "      <td>not quoted</td>\n",
       "    </tr>\n",
       "    <tr>\n",
       "      <th>v_43</th>\n",
       "      <td>quoted</td>\n",
       "      <td>not quoted</td>\n",
       "      <td>not quoted</td>\n",
       "      <td>not quoted</td>\n",
       "      <td>not quoted</td>\n",
       "      <td>not quoted</td>\n",
       "      <td>not quoted</td>\n",
       "      <td>not quoted</td>\n",
       "      <td>not quoted</td>\n",
       "      <td>not quoted</td>\n",
       "      <td>...</td>\n",
       "      <td>not quoted</td>\n",
       "      <td>not quoted</td>\n",
       "      <td>not quoted</td>\n",
       "      <td>not quoted</td>\n",
       "      <td>not quoted</td>\n",
       "      <td>not quoted</td>\n",
       "      <td>not quoted</td>\n",
       "      <td>not quoted</td>\n",
       "      <td>not quoted</td>\n",
       "      <td>not quoted</td>\n",
       "    </tr>\n",
       "    <tr>\n",
       "      <th>v_44</th>\n",
       "      <td>not quoted</td>\n",
       "      <td>not quoted</td>\n",
       "      <td>not quoted</td>\n",
       "      <td>not quoted</td>\n",
       "      <td>quoted</td>\n",
       "      <td>not quoted</td>\n",
       "      <td>quoted</td>\n",
       "      <td>quoted</td>\n",
       "      <td>quoted</td>\n",
       "      <td>not quoted</td>\n",
       "      <td>...</td>\n",
       "      <td>not quoted</td>\n",
       "      <td>quoted</td>\n",
       "      <td>not quoted</td>\n",
       "      <td>not quoted</td>\n",
       "      <td>quoted</td>\n",
       "      <td>not quoted</td>\n",
       "      <td>not quoted</td>\n",
       "      <td>not quoted</td>\n",
       "      <td>not quoted</td>\n",
       "      <td>quoted</td>\n",
       "    </tr>\n",
       "    <tr>\n",
       "      <th>v_45</th>\n",
       "      <td>quoted</td>\n",
       "      <td>quoted</td>\n",
       "      <td>quoted</td>\n",
       "      <td>quoted</td>\n",
       "      <td>quoted</td>\n",
       "      <td>quoted</td>\n",
       "      <td>quoted</td>\n",
       "      <td>quoted</td>\n",
       "      <td>quoted</td>\n",
       "      <td>quoted</td>\n",
       "      <td>...</td>\n",
       "      <td>quoted</td>\n",
       "      <td>quoted</td>\n",
       "      <td>quoted</td>\n",
       "      <td>quoted</td>\n",
       "      <td>quoted</td>\n",
       "      <td>quoted</td>\n",
       "      <td>quoted</td>\n",
       "      <td>quoted</td>\n",
       "      <td>quoted</td>\n",
       "      <td>quoted</td>\n",
       "    </tr>\n",
       "    <tr>\n",
       "      <th>v_46</th>\n",
       "      <td>The main source of the requirements is the sou...</td>\n",
       "      <td>stakeholder requests from customer</td>\n",
       "      <td>requirement specification form customer</td>\n",
       "      <td>Reverse Engineering</td>\n",
       "      <td>Many times, requirements also come from the cu...</td>\n",
       "      <td>I have my own way of doing things. I combine a...</td>\n",
       "      <td>Mockups</td>\n",
       "      <td>Participation in the team of a specific profil...</td>\n",
       "      <td>BEAM*</td>\n",
       "      <td>Market analysis and analysis of similar products</td>\n",
       "      <td>...</td>\n",
       "      <td>Expert users of each area define needs, and is...</td>\n",
       "      <td>NATIVE SOFTWARE REVIEW</td>\n",
       "      <td>AS IS / TOBE</td>\n",
       "      <td>Mainly Wireframes of the UI instead of a real ...</td>\n",
       "      <td>SOURCE CODE REVIEW</td>\n",
       "      <td>No specificerat way, more like meetings over p...</td>\n",
       "      <td>Regulations from EU</td>\n",
       "      <td>We have been in the area of transport for many...</td>\n",
       "      <td>Wouldn't know</td>\n",
       "      <td>Often use Subject Matter Experts (SMEs).  They...</td>\n",
       "    </tr>\n",
       "  </tbody>\n",
       "</table>\n",
       "<p>12 rows × 24 columns</p>\n",
       "</div>"
      ],
      "text/plain": [
       "                                                    12   \\\n",
       "lfdn                                                 84   \n",
       "v_36                                         not quoted   \n",
       "v_37                                             quoted   \n",
       "v_38                                         not quoted   \n",
       "v_39                                         not quoted   \n",
       "v_40                                         not quoted   \n",
       "v_41                                         not quoted   \n",
       "v_42                                         not quoted   \n",
       "v_43                                             quoted   \n",
       "v_44                                         not quoted   \n",
       "v_45                                             quoted   \n",
       "v_46  The main source of the requirements is the sou...   \n",
       "\n",
       "                                     18   \\\n",
       "lfdn                                 114   \n",
       "v_36                          not quoted   \n",
       "v_37                              quoted   \n",
       "v_38                          not quoted   \n",
       "v_39                          not quoted   \n",
       "v_40                          not quoted   \n",
       "v_41                              quoted   \n",
       "v_42                          not quoted   \n",
       "v_43                          not quoted   \n",
       "v_44                          not quoted   \n",
       "v_45                              quoted   \n",
       "v_46  stakeholder requests from customer   \n",
       "\n",
       "                                          20                   48   \\\n",
       "lfdn                                      118                  199   \n",
       "v_36                               not quoted           not quoted   \n",
       "v_37                                   quoted           not quoted   \n",
       "v_38                                   quoted           not quoted   \n",
       "v_39                               not quoted               quoted   \n",
       "v_40                               not quoted           not quoted   \n",
       "v_41                                   quoted               quoted   \n",
       "v_42                               not quoted           not quoted   \n",
       "v_43                               not quoted           not quoted   \n",
       "v_44                               not quoted           not quoted   \n",
       "v_45                                   quoted               quoted   \n",
       "v_46  requirement specification form customer  Reverse Engineering   \n",
       "\n",
       "                                                    58   \\\n",
       "lfdn                                                230   \n",
       "v_36                                             quoted   \n",
       "v_37                                             quoted   \n",
       "v_38                                             quoted   \n",
       "v_39                                             quoted   \n",
       "v_40                                             quoted   \n",
       "v_41                                         not quoted   \n",
       "v_42                                         not quoted   \n",
       "v_43                                         not quoted   \n",
       "v_44                                             quoted   \n",
       "v_45                                             quoted   \n",
       "v_46  Many times, requirements also come from the cu...   \n",
       "\n",
       "                                                    61          62   \\\n",
       "lfdn                                                249         258   \n",
       "v_36                                         not quoted      quoted   \n",
       "v_37                                         not quoted  not quoted   \n",
       "v_38                                         not quoted  not quoted   \n",
       "v_39                                         not quoted  not quoted   \n",
       "v_40                                         not quoted  not quoted   \n",
       "v_41                                         not quoted  not quoted   \n",
       "v_42                                         not quoted  not quoted   \n",
       "v_43                                         not quoted  not quoted   \n",
       "v_44                                         not quoted      quoted   \n",
       "v_45                                             quoted      quoted   \n",
       "v_46  I have my own way of doing things. I combine a...     Mockups   \n",
       "\n",
       "                                                    162         185  \\\n",
       "lfdn                                                729         839   \n",
       "v_36                                             quoted      quoted   \n",
       "v_37                                             quoted      quoted   \n",
       "v_38                                             quoted  not quoted   \n",
       "v_39                                             quoted      quoted   \n",
       "v_40                                             quoted      quoted   \n",
       "v_41                                         not quoted  not quoted   \n",
       "v_42                                         not quoted  not quoted   \n",
       "v_43                                         not quoted  not quoted   \n",
       "v_44                                             quoted      quoted   \n",
       "v_45                                             quoted      quoted   \n",
       "v_46  Participation in the team of a specific profil...       BEAM*   \n",
       "\n",
       "                                                   204  \\\n",
       "lfdn                                               896   \n",
       "v_36                                            quoted   \n",
       "v_37                                        not quoted   \n",
       "v_38                                        not quoted   \n",
       "v_39                                            quoted   \n",
       "v_40                                            quoted   \n",
       "v_41                                        not quoted   \n",
       "v_42                                        not quoted   \n",
       "v_43                                        not quoted   \n",
       "v_44                                        not quoted   \n",
       "v_45                                            quoted   \n",
       "v_46  Market analysis and analysis of similar products   \n",
       "\n",
       "                            ...                          \\\n",
       "lfdn                        ...                           \n",
       "v_36                        ...                           \n",
       "v_37                        ...                           \n",
       "v_38                        ...                           \n",
       "v_39                        ...                           \n",
       "v_40                        ...                           \n",
       "v_41                        ...                           \n",
       "v_42                        ...                           \n",
       "v_43                        ...                           \n",
       "v_44                        ...                           \n",
       "v_45                        ...                           \n",
       "v_46                        ...                           \n",
       "\n",
       "                                                    290  \\\n",
       "lfdn                                               1161   \n",
       "v_36                                             quoted   \n",
       "v_37                                         not quoted   \n",
       "v_38                                         not quoted   \n",
       "v_39                                         not quoted   \n",
       "v_40                                             quoted   \n",
       "v_41                                         not quoted   \n",
       "v_42                                         not quoted   \n",
       "v_43                                         not quoted   \n",
       "v_44                                         not quoted   \n",
       "v_45                                             quoted   \n",
       "v_46  Expert users of each area define needs, and is...   \n",
       "\n",
       "                         356           386  \\\n",
       "lfdn                    1357          1457   \n",
       "v_36                  quoted    not quoted   \n",
       "v_37              not quoted    not quoted   \n",
       "v_38              not quoted    not quoted   \n",
       "v_39                  quoted        quoted   \n",
       "v_40                  quoted        quoted   \n",
       "v_41                  quoted    not quoted   \n",
       "v_42              not quoted    not quoted   \n",
       "v_43              not quoted    not quoted   \n",
       "v_44                  quoted    not quoted   \n",
       "v_45                  quoted        quoted   \n",
       "v_46  NATIVE SOFTWARE REVIEW  AS IS / TOBE   \n",
       "\n",
       "                                                    404                 434  \\\n",
       "lfdn                                               1542                1717   \n",
       "v_36                                             quoted              quoted   \n",
       "v_37                                         not quoted          not quoted   \n",
       "v_38                                         not quoted          not quoted   \n",
       "v_39                                         not quoted              quoted   \n",
       "v_40                                         not quoted              quoted   \n",
       "v_41                                         not quoted              quoted   \n",
       "v_42                                         not quoted          not quoted   \n",
       "v_43                                         not quoted          not quoted   \n",
       "v_44                                         not quoted              quoted   \n",
       "v_45                                             quoted              quoted   \n",
       "v_46  Mainly Wireframes of the UI instead of a real ...  SOURCE CODE REVIEW   \n",
       "\n",
       "                                                    441                  459  \\\n",
       "lfdn                                               1744                 1840   \n",
       "v_36                                         not quoted           not quoted   \n",
       "v_37                                         not quoted           not quoted   \n",
       "v_38                                         not quoted           not quoted   \n",
       "v_39                                         not quoted           not quoted   \n",
       "v_40                                         not quoted               quoted   \n",
       "v_41                                         not quoted           not quoted   \n",
       "v_42                                         not quoted           not quoted   \n",
       "v_43                                         not quoted           not quoted   \n",
       "v_44                                         not quoted           not quoted   \n",
       "v_45                                             quoted               quoted   \n",
       "v_46  No specificerat way, more like meetings over p...  Regulations from EU   \n",
       "\n",
       "                                                    470            476  \\\n",
       "lfdn                                               1909           1928   \n",
       "v_36                                         not quoted     not quoted   \n",
       "v_37                                         not quoted     not quoted   \n",
       "v_38                                         not quoted     not quoted   \n",
       "v_39                                         not quoted     not quoted   \n",
       "v_40                                         not quoted     not quoted   \n",
       "v_41                                         not quoted     not quoted   \n",
       "v_42                                         not quoted     not quoted   \n",
       "v_43                                         not quoted     not quoted   \n",
       "v_44                                         not quoted     not quoted   \n",
       "v_45                                             quoted         quoted   \n",
       "v_46  We have been in the area of transport for many...  Wouldn't know   \n",
       "\n",
       "                                                    487  \n",
       "lfdn                                               1969  \n",
       "v_36                                             quoted  \n",
       "v_37                                             quoted  \n",
       "v_38                                             quoted  \n",
       "v_39                                             quoted  \n",
       "v_40                                             quoted  \n",
       "v_41                                         not quoted  \n",
       "v_42                                         not quoted  \n",
       "v_43                                         not quoted  \n",
       "v_44                                             quoted  \n",
       "v_45                                             quoted  \n",
       "v_46  Often use Subject Matter Experts (SMEs).  They...  \n",
       "\n",
       "[12 rows x 24 columns]"
      ]
     },
     "execution_count": 78,
     "metadata": {},
     "output_type": "execute_result"
    }
   ],
   "source": [
    "df[df.v_46 != 'NotAnswered'][['lfdn']+[f'v_{x}' for x in range(36,47)]].T"
   ]
  },
  {
   "cell_type": "code",
   "execution_count": 72,
   "metadata": {},
   "outputs": [
    {
     "name": "stdout",
     "output_type": "stream",
     "text": [
      "v_46_short_24.csv\n"
     ]
    },
    {
     "data": {
      "text/plain": [
       "array(['The main source of the requirements is the source program code of old system.',\n",
       "       'stakeholder requests from customer',\n",
       "       'requirement specification form customer', 'Reverse Engineering',\n",
       "       'Many times, requirements also come from the customer. Although we still need to refine to assure we understand their needs/wants. ',\n",
       "       'I have my own way of doing things. I combine all techniques from school and indy projects to understand what I am doing.',\n",
       "       'Mockups',\n",
       "       'Participation in the team of a specific profile with expertise in the \\u200b\\u200bindustry sector the project is developed',\n",
       "       'BEAM*', 'Market analysis and analysis of similar products',\n",
       "       'Early validation of development for corrections in flight where possible',\n",
       "       'We are working together with the future stakeholder of the new product. The prototype is implemented in that way that we can use productive data in order to simulate the workflows. There requirements are formulated after a gap is identified',\n",
       "       'analysis of similar projects',\n",
       "       'Very detailed requirements documents from our customer',\n",
       "       'Expert users of each area define needs, and is accompanied with a solutions guide',\n",
       "       'NATIVE SOFTWARE REVIEW', 'AS IS / TOBE',\n",
       "       'Mainly Wireframes of the UI instead of a real prototyping and several conversations and agreements with the stakeholders (but no real feedback from the end customer), in the end the user stories need to be rewritten or re-refined',\n",
       "       'SOURCE CODE REVIEW',\n",
       "       'No specificerat way, more like meetings over phone',\n",
       "       'Regulations from EU',\n",
       "       'We have been in the area of transport for many years, so we have a lot of experience in the area; We follow this with input from customers to evolve the design of the solution',\n",
       "       \"Wouldn't know\",\n",
       "       'Often use Subject Matter Experts (SMEs).  They are usually Internal experts, but can be external.'],\n",
       "      dtype=object)"
      ]
     },
     "execution_count": 72,
     "metadata": {},
     "output_type": "execute_result"
    }
   ],
   "source": [
    "get_var_file(46)"
   ]
  },
  {
   "cell_type": "markdown",
   "metadata": {},
   "source": [
    "___\n",
    "___"
   ]
  },
  {
   "cell_type": "markdown",
   "metadata": {},
   "source": [
    "### Variable 52<a id=\"v_52\"></a>"
   ]
  },
  {
   "cell_type": "markdown",
   "metadata": {},
   "source": [
    "#### Who has the primary responsibility for eliciting requirements?\n",
    "\n",
    "Options presented in `v_51`:\n",
    "\n",
    "1. Marketing\n",
    "2. Business Analyst\n",
    "3. Requirements Engineer\n",
    "4. Project Lead / Project Manager \n",
    "5. Scrum Master\n",
    "6. Product Owner\n",
    "7. Product Manager\n",
    "8. Architect\n",
    "9. Developer\n",
    "10. Customer\n",
    "12. Other\n",
    "13. Nobody has the primary responsibility\n",
    "\n",
    "`v_52` used to specify `Other`.\n",
    "\n",
    "___\n",
    "\n",
    "##### Suggestion:  `Drop`  `v_52` "
   ]
  },
  {
   "cell_type": "code",
   "execution_count": 98,
   "metadata": {},
   "outputs": [
    {
     "name": "stdout",
     "output_type": "stream",
     "text": [
      "v_52_short_18.csv\n"
     ]
    },
    {
     "data": {
      "text/plain": [
       "array(['Engineering Manager ', 'Main contractor', 'System Analyst',\n",
       "       'All in one solution, I create my own project and I am responsible for everything',\n",
       "       'end user',\n",
       "       \"As 'Systems Design Engineer' I have primary responsibility for eliciting requirements; I also act as Product Owner for software development.\",\n",
       "       'Customers use to have the business requirement defined and documented at a high level + team implementing specific features digs deep with the support of Manager&ScrumMaster',\n",
       "       'Business Analyst together with Project Manager and Heads of Development',\n",
       "       'In contact with end users', 'functional analyst',\n",
       "       'research team and UX / UI design', 'Systems Analyst',\n",
       "       'Domain expert', 'All team members participate',\n",
       "       'Consultants (no software development projects)',\n",
       "       'Mostly the PO, in some cases the business stakeholders write the stories and they are passed like that to the team, or other POs write them when there are dependencies, sometimes the team lead writes his own technical stories',\n",
       "       'There is a separate department at the company who elicit high level requirements, teams are responsible for refining them',\n",
       "       'Product Management (3 people) together with our Product Owners'],\n",
       "      dtype=object)"
      ]
     },
     "execution_count": 98,
     "metadata": {},
     "output_type": "execute_result"
    }
   ],
   "source": [
    "get_var_file(52)"
   ]
  },
  {
   "cell_type": "markdown",
   "metadata": {},
   "source": [
    "___\n",
    "___"
   ]
  },
  {
   "cell_type": "markdown",
   "metadata": {},
   "source": [
    "### Variable 60<a id=\"v_60\"></a>"
   ]
  },
  {
   "cell_type": "markdown",
   "metadata": {},
   "source": [
    "#### At what level of granularity do you document requirements, and when?\n",
    "\n",
    "Options presented in `v_59`:\n",
    "\n",
    "1. We document detailed requirements at the beginning of the project.\n",
    "2. We document high-level requirements at beginning of the project and refine them to detailed requirements when needed (for instance, we document epics and refine them to user stories for the sprints).\n",
    "3. We do not document requirements.\n",
    "4. Other (please specify)\n",
    "\n",
    "`v_60` used to specify `Other`.\n",
    "\n",
    "___\n",
    "\n",
    "##### Suggestion: `Code Back` then `Drop`  `v_60` "
   ]
  },
  {
   "cell_type": "code",
   "execution_count": 26,
   "metadata": {},
   "outputs": [
    {
     "name": "stdout",
     "output_type": "stream",
     "text": [
      "v_60_short_27.csv\n"
     ]
    }
   ],
   "source": [
    "#prepare_for_excel_people(60, 'documentation_granularity')"
   ]
  },
  {
   "cell_type": "code",
   "execution_count": 88,
   "metadata": {},
   "outputs": [
    {
     "name": "stdout",
     "output_type": "stream",
     "text": [
      "v_60_short_27.csv\n"
     ]
    },
    {
     "data": {
      "text/plain": [
       "array(['we document detailed requirements through the analysis of the existing business logic implemented in the old system - component by component, already more than 1,5 year ',\n",
       "       'We document high-level requirements, PMO expects this to be enough information and then we have to refine them during development, sometimes delaying the delivery of an increment.',\n",
       "       'Actualy we have bouth first two point, we create detailed requirementes and we detalaize and improve them in the process',\n",
       "       'I apply every technique that I know to decompose the problem state until I can visualize the requirements. ',\n",
       "       'mix of epics for for the next year and detail them for the next 2 months. Challenge is, that we have an external company developing. So far we did plans for a year. So we needed to know what we wanted to do next year.',\n",
       "       'Depends on the risk and the complexity, simple straightforward aspects high level, sw agile, complex aspect with lots of detail if needed',\n",
       "       'We deliver both Agile and Traditional Waterfall projects, with capturing of Epics and User Stories for the former, and detailed fully-fledged requirements for the latter',\n",
       "       'We mix high-level requirements and detailed requirements depending of the pre-system-architecture and the ISO 26262 FTA-Events.',\n",
       "       'Documented at the end of the project',\n",
       "       'We in ital document high level business requirements (based on the customer provided business capability statements) and then refined these into detailed requirements in a single analysis phase.',\n",
       "       'We take a hybrid approach between high-level and no documentation at the outset, but refine documents during the development/pilot phase of the project',\n",
       "       'Through UX and a brief presentation',\n",
       "       'Brief user stories and acceptance criteria',\n",
       "       'we briefly document core requirements early in the project',\n",
       "       'As requirements are specific not much level of granularity is needed, as the project is ongoing the project manager documents requirements when a customer requests it',\n",
       "       'For  known  architectural elements we document detailed requirements at the beginning of the project, the remainder are refined as required over time',\n",
       "       'depending on the complexity of the project; all of the above mentioned approaches',\n",
       "       \"It's kind of a cross-over of point 1/2 in this question. We're bound to the EN62304 requiring quite complete documentation of requirements at all phases of the project.\",\n",
       "       'We document high-level requirements usually starting the quarter, the the PO refines them close to the sprint where they will be tackled and hey are re-refined with the team during planning or development',\n",
       "       'the company uses very detailed specification documents, which are written in parallel to development',\n",
       "       'Documented during execution/deploy',\n",
       "       'It is a very dynamic System with changing requirements, we document per module and and refine in each iteration',\n",
       "       'We document semi detailed requirements at beginning of the project and refine them to detailed requirements when needed (for instance, we document epics and refine them to user stories for the sprints).',\n",
       "       'Short briefing in a handover meeting',\n",
       "       'We continously update our requirements in each sprint and if needed during the sprint. The documentation and refinement of the requirements are made by me but they are then reviewed and accepted by the customer.',\n",
       "       'Document at high level only',\n",
       "       \"Not sure for other team. In my team it doesn't really apply as it is mainly product maintenance\"],\n",
       "      dtype=object)"
      ]
     },
     "execution_count": 88,
     "metadata": {},
     "output_type": "execute_result"
    }
   ],
   "source": [
    "get_var_file(60)"
   ]
  },
  {
   "cell_type": "markdown",
   "metadata": {},
   "source": [
    "___\n",
    "___"
   ]
  },
  {
   "cell_type": "markdown",
   "metadata": {},
   "source": [
    "### Variable 67<a id=\"v_67\"></a>"
   ]
  },
  {
   "cell_type": "markdown",
   "metadata": {},
   "source": [
    "#### How do you make use of the documented requirements?\n",
    "\n",
    "Options presented in `v_61` to `v_66`:\n",
    "* They are the basis for the implementation.\n",
    "* They are source for tests.\n",
    "* They are used in customer acceptance.\n",
    "* They are part of the contract.\n",
    "* They are a reminder for further discussions with the customer, product owner, and / or other team members\n",
    "* Other (please specify)\n",
    "\n",
    "`v_67` used to specify `Other`.\n",
    "\n",
    "___\n",
    "\n",
    "##### Suggestion: `Drop` `v_66` and  `v_67` "
   ]
  },
  {
   "cell_type": "code",
   "execution_count": 79,
   "metadata": {},
   "outputs": [
    {
     "name": "stdout",
     "output_type": "stream",
     "text": [
      "v_67_short_13.csv\n"
     ]
    },
    {
     "data": {
      "text/plain": [
       "array(['Basic for Stakeholders', 'Document previously developed Software',\n",
       "       'Documents become the plan to execute',\n",
       "       'They are the specification of the system that is in production/live',\n",
       "       'Compliance / Quality Gates',\n",
       "       'Manage change & impact, traceability, mbse', 'ISO 26262',\n",
       "       'Frequently an initial understanding of a requirement is enriched and sometimes better understood and changed as we go - we just keep an eye on anything that flip-flops, as this will blow the timeframes.',\n",
       "       'EN62304',\n",
       "       'Many features have several requirements, they get implemented along several documenteduser stories, the user stories we write, serve also as a basis for tracking the work and commiting the code and traceability becomes very poor',\n",
       "       'they are used to decide who is responsible for an issues and what budget needs to be spent in oder to solve this issue',\n",
       "       \"Wouldn't know\", 'To final documentation'], dtype=object)"
      ]
     },
     "execution_count": 79,
     "metadata": {},
     "output_type": "execute_result"
    }
   ],
   "source": [
    "get_var_file(67)"
   ]
  },
  {
   "cell_type": "markdown",
   "metadata": {},
   "source": [
    "___\n",
    "___"
   ]
  },
  {
   "cell_type": "markdown",
   "metadata": {},
   "source": [
    "### Variable 81<a id=\"v_81\"></a>"
   ]
  },
  {
   "cell_type": "markdown",
   "metadata": {},
   "source": [
    "#### For which information do you make an explicit distinction when documenting your requirements?\n",
    "\n",
    "Options presented in `v_68` to `v_80`:\n",
    "\n",
    "* Architectural constraints\n",
    "* Development process aspects\n",
    "* Formal properties\n",
    "* Functional properties of the system\n",
    "* Goals\n",
    "* Quality properties\n",
    "* Rules (e.g., business rules)\n",
    "* Stakeholdes\n",
    "* System behavior\n",
    "* Technical interfaces\n",
    "* Usage scenarios\n",
    "* User interface(s)\n",
    "* Other (please specify)\n",
    "\n",
    "`v_81` used to specify `Other`."
   ]
  },
  {
   "cell_type": "markdown",
   "metadata": {},
   "source": [
    "Situation:\n",
    "\n",
    "We have 15 short answers, most of which show (implicitly or explictly) that the respondent did not understand the question.\n",
    "\n",
    "___\n",
    "\n",
    "###### Suggestion: `Drop`  `v_80` and `v_81`"
   ]
  },
  {
   "cell_type": "code",
   "execution_count": 73,
   "metadata": {},
   "outputs": [
    {
     "name": "stdout",
     "output_type": "stream",
     "text": [
      "v_81_short_15.csv\n"
     ]
    },
    {
     "data": {
      "text/plain": [
       "array(['Documents produced by the system, case properties',\n",
       "       \"Don't quite understand the question: Of course we have a data model, consisting of requirements types and relationships, at various levels.\",\n",
       "       'Mixed Levels, Written with a knowledge of existing Software',\n",
       "       'Everything above', 'I do not understand this question',\n",
       "       'Scope, statement of purpose, glossary',\n",
       "       'Depending on project type',\n",
       "       'Inputs, calculations, outputs for the developer and non-functional specs for the quality of output.',\n",
       "       'Business process, domain model', 'Security',\n",
       "       'All of the above - depending on the requirement',\n",
       "       'Also dependencies with other stories when the feature has to be developed through several teams (e.g. platform, logistics, customer service tool)',\n",
       "       'Specific programming interface (IF, API), for integrated control-systems that interface our software and system.',\n",
       "       'I do not produce requirement documents', 'acceptance criteria'],\n",
       "      dtype=object)"
      ]
     },
     "execution_count": 73,
     "metadata": {},
     "output_type": "execute_result"
    }
   ],
   "source": [
    "get_var_file(81)"
   ]
  },
  {
   "cell_type": "markdown",
   "metadata": {},
   "source": [
    "___\n",
    "___"
   ]
  },
  {
   "cell_type": "markdown",
   "metadata": {},
   "source": [
    "### Variable 96<a id=\"v_96\"></a>"
   ]
  },
  {
   "cell_type": "markdown",
   "metadata": {},
   "source": [
    "#### How do you document requirements?\n",
    "\n",
    "Options shown in `v_95` were:\n",
    "\n",
    "* Activity diagrams\n",
    "* Business process models\n",
    "* Class diagrams\n",
    "* Goal models\n",
    "* Natural language / informal (plain) text\n",
    "* Prototypes / User screens\n",
    "* Sequence diagrams\n",
    "* Sketches\n",
    "* State machines\n",
    "* Structured lists of requirements\n",
    "* Use case diagrams\n",
    "* Use cases\n",
    "* User stories\n",
    "* Other (please specify)\n",
    "\n",
    "`v_96` used to specify `Other`.\n",
    "\n",
    "___\n",
    "\n",
    "##### Suggestion:  `Drop`  `v_96` "
   ]
  },
  {
   "cell_type": "code",
   "execution_count": 89,
   "metadata": {},
   "outputs": [
    {
     "name": "stdout",
     "output_type": "stream",
     "text": [
      "v_96_short_22.csv\n"
     ]
    },
    {
     "data": {
      "text/plain": [
       "array(['Work sketches, for billing ',\n",
       "       'natural language in phrase templates',\n",
       "       'Supplemental specifications, document specifications, case property specifications, Context Diagram, ERD/Conceptual Data Model, User Interface Specification',\n",
       "       'Semi structured list of requirements',\n",
       "       'We capture requirements on different levels in different forms.',\n",
       "       \"formal text (using the Sophist template for specifying RQ's in text)\",\n",
       "       'Data model', 'Any and all techniques and methods',\n",
       "       'formal plain text as Requirements Templates (Satzschablonen)',\n",
       "       'Any means to clearafy what has to be realized.',\n",
       "       \"Task descriptions. Look like use cases but don't specify a dialog. Specify what the users want to achive. The supplier specifies how his system supports the users. \",\n",
       "       'SysML Requirements Models',\n",
       "       'Sentence templates with regard to the SOPHIST Group',\n",
       "       'Story mapping',\n",
       "       'A short text (like User Stories) recorded in a software tool (Redmine, gitlab)',\n",
       "       'Varies, depending on the project and user bias.  Often reviewing the tests is a useful way to finalise requirements',\n",
       "       'ACCEPTANCE CRITERIA', 'Specification by example with BDD',\n",
       "       'mental models', 'Process diagrams via swim lanes',\n",
       "       'User Stories are used to collaborate among the team but they are not included in official specification',\n",
       "       \"I don't\"], dtype=object)"
      ]
     },
     "execution_count": 89,
     "metadata": {},
     "output_type": "execute_result"
    }
   ],
   "source": [
    "get_var_file(96)"
   ]
  },
  {
   "cell_type": "markdown",
   "metadata": {},
   "source": [
    "___\n",
    "___"
   ]
  },
  {
   "cell_type": "markdown",
   "metadata": {},
   "source": [
    "### Variable 105<a id=\"v_105\"></a>"
   ]
  },
  {
   "cell_type": "markdown",
   "metadata": {},
   "source": [
    "#### Which classes of non-functional requirements do you explicitly consider in your requirements documentation?\n",
    "\n",
    "`v_97` to `v_103` and `v_303` mention different classes of quality requirements; `v_104` offers `Other (please specify)`.\n",
    "\n",
    "`v_105` used for specification of `Other`.\n",
    "\n",
    "___\n",
    "\n",
    "##### Suggestion: `Drop`  `v_104` and `v_105` "
   ]
  },
  {
   "cell_type": "code",
   "execution_count": 90,
   "metadata": {},
   "outputs": [
    {
     "name": "stdout",
     "output_type": "stream",
     "text": [
      "v_105_short_11.csv\n"
     ]
    },
    {
     "data": {
      "text/plain": [
       "array([\"We consider relevant non-functional requirements, but what's relevant can change from project to project.\",\n",
       "       'Weak in this area, still learning', 'Quality',\n",
       "       'All above (acoording to ISO 9126/25010)', 'Data conversion',\n",
       "       'legal, functional safety, ',\n",
       "       'Nenhum em especial, mas qualquer um deles se destacado como especialmente importante pelo PO naquela história',\n",
       "       'Nenhum',\n",
       "       'Los atributos de calidad o requerimientos no funcionales se definen independientemente de los requisitos funcionales u ordinarios.',\n",
       "       'No documentation', \"I don't do requirement documents\"],\n",
       "      dtype=object)"
      ]
     },
     "execution_count": 90,
     "metadata": {},
     "output_type": "execute_result"
    }
   ],
   "source": [
    "get_var_file(105)"
   ]
  },
  {
   "cell_type": "markdown",
   "metadata": {},
   "source": [
    "___\n",
    "___"
   ]
  },
  {
   "cell_type": "markdown",
   "metadata": {},
   "source": [
    "### Variable 113<a id=\"v_113\"></a>"
   ]
  },
  {
   "cell_type": "markdown",
   "metadata": {},
   "source": [
    "#### How do you verify and / or validate your requirements?\n",
    "\n",
    "Options offered in `v_106` to `v_112`:\n",
    "\n",
    "* Automatic checking\n",
    "* Informal peer reviews\n",
    "* Inspections (formal technical reviews using reading techniques or checklists)\n",
    "* Simulations\n",
    "* Walkthroughs\n",
    "* We do not verify and / or validate our requirements\n",
    "* Other (please specify)\n",
    "\n",
    "`v_113` used to specify `Other`.\n",
    "\n",
    "Note: `and / or` is a very awkward 'Operator'.\n",
    "\n",
    "___\n",
    "\n",
    "##### Suggestion: `Code Back` then `Drop`  `v_112` and `v_113` "
   ]
  },
  {
   "cell_type": "code",
   "execution_count": 27,
   "metadata": {},
   "outputs": [
    {
     "name": "stdout",
     "output_type": "stream",
     "text": [
      "v_113_short_43.csv\n"
     ]
    }
   ],
   "source": [
    "#prepare_for_excel_people(113, 'verification_validation')"
   ]
  },
  {
   "cell_type": "code",
   "execution_count": 91,
   "metadata": {},
   "outputs": [
    {
     "name": "stdout",
     "output_type": "stream",
     "text": [
      "v_113_short_43.csv\n"
     ]
    },
    {
     "data": {
      "text/plain": [
       "array(['Regression/formal tests', 'close contact with testers',\n",
       "       'in a feedback phase with the customers',\n",
       "       'verification (known as check) and validation (know as approval) of the functional/engineering specifications acting as a requirements register',\n",
       "       'Does the requirement match the visual cue',\n",
       "       'informal reviews by team members (which are not in the RE-Role and have no RE-certificate but are the end users so the stake holders) and they must undertand what is ordered. Then we do workshops with the developers.',\n",
       "       'Prototyping, sketches', 'Metric reviews',\n",
       "       'Get feedback from stakeholders including suppliers',\n",
       "       'verification & validation review by selected stakeholders',\n",
       "       'according A-SPICE (Level 2)', 'desk check review made via mail',\n",
       "       'Rules for attributes and sentence patterns (e.g. active, always name the actor, ...)',\n",
       "       'with meetings', 'Acceptance Criteria on User Stories',\n",
       "       \"There's formal step where a technical analyst verifies the requirements.\",\n",
       "       'Wireframes and prototypes presentations to the direct users of the counterpart, and the counterpart team which was involved in the requirement elicitation',\n",
       "       'it is validated directly with the customer', 'Testing',\n",
       "       'Verified and validated with the customer',\n",
       "       'Use prototypes as validation technique requirements',\n",
       "       'We often workshop the second requirements draft, and if agreement is unclear, we might challenge the issue with examples to better understand where the edges of the requirement are',\n",
       "       'Test with the customer',\n",
       "       'Validation of the requirements with the client',\n",
       "       'Customer review', 'Workshop ', 'customer, integration tests',\n",
       "       'Using escenarios performed by the user in a production environment',\n",
       "       'Testing', 'manual check',\n",
       "       'Review by developer and product manager', 'PROTOTYPing',\n",
       "       'Consultation with subject matter expert(s)', 'Testing groups',\n",
       "       'Acceptance by the PO, then Sprint reviews with the stakeholders (if the requirements are not validated, it is usually very painful to roll the commits back)',\n",
       "       'dedicated QA', 'test',\n",
       "       'Selected parts of the requirements (acceptance requirements), are presented (incl. walkthough) to customers at delivery meetings',\n",
       "       'No verification',\n",
       "       'Demos, accepting meetings, and also through usability testing',\n",
       "       'Demos of implemented requirement', \"I don't\",\n",
       "       'Quality tests with outsiders QA Labs'], dtype=object)"
      ]
     },
     "execution_count": 91,
     "metadata": {},
     "output_type": "execute_result"
    }
   ],
   "source": [
    "get_var_file(113)"
   ]
  },
  {
   "cell_type": "markdown",
   "metadata": {},
   "source": [
    "___\n",
    "___"
   ]
  },
  {
   "cell_type": "markdown",
   "metadata": {},
   "source": [
    "### Variable 164<a id=\"v_164\"></a>"
   ]
  },
  {
   "cell_type": "markdown",
   "metadata": {},
   "source": [
    "#### How do you align software testing with requirements?\n",
    "\n",
    "Options shown in `v_158` to `v_163` were:\n",
    "\n",
    "* Testers participate in requirements reviews.\n",
    "* We check the coverage of requirements with tests.\n",
    "* We define acceptance criteria and tests for requirements.\n",
    "* We derive tests from system models.\n",
    "* We do not align tests and requirements.\n",
    "* Other (please specify)\n",
    "\n",
    "`v_164` used to specify `Other`.\n",
    "\n",
    "___\n",
    "\n",
    "##### Suggestion: `Drop`  `v_163` and `v_164` "
   ]
  },
  {
   "cell_type": "code",
   "execution_count": 92,
   "metadata": {},
   "outputs": [
    {
     "name": "stdout",
     "output_type": "stream",
     "text": [
      "v_164_short_16.csv\n"
     ]
    },
    {
     "data": {
      "text/plain": [
       "array(['Use cases are the base for development of uat cases',\n",
       "       'We need to test some electrical equipments',\n",
       "       'Does testing result in the desired effect',\n",
       "       'We check that each requirement is met. Each requirement has a reference to the parts of the test script that tests it.',\n",
       "       'Acceptance Test Driven Development, by involving testers during creation of reqs',\n",
       "       'we have completely outsourced all testing activities', 'UAT, BAT',\n",
       "       'Sometimes free testing shows up variations, changes or additions to requirements.  ',\n",
       "       'deriving escenarios (BDD)',\n",
       "       'testing is part of the development, not a separate step.',\n",
       "       'WHILE THE SCRUM is performed, testing is performed',\n",
       "       \"We're early in a lean startup mode, so we're just prototyping to test different hypothesis with customers\",\n",
       "       'The QA team is not co-located, they mainly do functional manual testing according to the agreed testing scenarios and coverage with the PO, however many technical aspects (e.g. DB records, events triggered, etc) cannot be really tested by them',\n",
       "       'testers create formal test cases based on written specification documents',\n",
       "       'Do not know', \"I don't\"], dtype=object)"
      ]
     },
     "execution_count": 92,
     "metadata": {},
     "output_type": "execute_result"
    }
   ],
   "source": [
    "get_var_file(164)"
   ]
  },
  {
   "cell_type": "markdown",
   "metadata": {},
   "source": [
    "___\n",
    "___"
   ]
  },
  {
   "cell_type": "markdown",
   "metadata": {},
   "source": [
    "### Variable 166<a id=\"v_166\"></a>"
   ]
  },
  {
   "cell_type": "markdown",
   "metadata": {},
   "source": [
    "#### How do you deal with changing requirements after the initial release of the system (or parts of it)?\n",
    "\n",
    "Options shown in `v_165` (select one):\n",
    "* We work with change requests, but do not further update our requirements specification once formally accepted.\n",
    "* We update our product backlog.\n",
    "* We work with change requests and continuously update our requirements specification accordingly also after formally accepted.\n",
    "* Other (please specify)\n",
    "* We don't update our requirements (documentation) at all.\n",
    "\n",
    "`v_166` used to specify `Other`.\n",
    "\n",
    "___\n",
    "\n",
    "##### Suggestion:  `Drop`  `v_166` "
   ]
  },
  {
   "cell_type": "code",
   "execution_count": 93,
   "metadata": {},
   "outputs": [
    {
     "name": "stdout",
     "output_type": "stream",
     "text": [
      "v_166_short_18.csv\n"
     ]
    },
    {
     "data": {
      "text/plain": [
       "array(['We update the requirements, but not the official requirements documentation.',\n",
       "       'We perform changes on the system description in each iteration. Tool support is key here (baselining and baseline compare, suspect links, workflow states reflecting chanages, etc.)',\n",
       "       'Change request for change in scope',\n",
       "       \"I don't implement until all requirements are finalized, hybrid waterfall, incremental, and iterative build \",\n",
       "       'we upate until officially handed over to external development. After that we either create new requirements or add notes to exsiting ones, clarifying them.',\n",
       "       'for software, we use SCRUM Teams ',\n",
       "       'Changes requests for Waterfall projects - ideally in a Requirements Management system like BluePrint - update the Product Backlog for Agile projects',\n",
       "       'change management addenda are made but the previously accepted specification is unchanged',\n",
       "       'The idea is to use change requests, but there is no concept yet.',\n",
       "       'I have not dealt with that issue.',\n",
       "       'We use git and we create an issue of improvement over there, but we do not update the original document. However, in the application we can view the original document and the changes made through the project.',\n",
       "       'We update our product backlog and as the item is being prioritized, its requirements are explored and its specification is updated',\n",
       "       'Our process is a bit less formal, so we most often update during test, and very rarely in UAT, and reconfirm with the business as we go.  Usually a necessary requirement which has been missed is obvious.  The exception is scope change.',\n",
       "       'By updating the analysis document',\n",
       "       'We update the impacted requirement but relate them to a change item describing the change. We snapshot every release in documentation. ',\n",
       "       'We create new user stories or bugs (depending) to address the changes, but do not update our previous requirements',\n",
       "       'Do not know', 'We review the project backlog'], dtype=object)"
      ]
     },
     "execution_count": 93,
     "metadata": {},
     "output_type": "execute_result"
    }
   ],
   "source": [
    "get_var_file(166)"
   ]
  },
  {
   "cell_type": "markdown",
   "metadata": {},
   "source": [
    "___\n",
    "___"
   ]
  },
  {
   "cell_type": "markdown",
   "metadata": {},
   "source": [
    "### Variable 194<a id=\"v_194\"></a>"
   ]
  },
  {
   "cell_type": "markdown",
   "metadata": {},
   "source": [
    "#### Besides the problems listed in the previous questions, is there another prominent problem you experienced in your project? If so, which one?\n",
    "\n",
    "Problems mentioned in previous questions:\n",
    "\n",
    "* Communication flaws within the project team \n",
    "* Communication flaws between the project and the customer \n",
    "* Terminological problems\n",
    "* Incomplete or hidden requirements\n",
    "* Insufficient support by project lead\n",
    "* Insufficient support by customer\n",
    "* Stakeholders with difficulties in separating requirements from solution designs\n",
    "* Inconsistent requirements\n",
    "* Missing traceability\n",
    "* Moving targets (changing goals, business processes and / or requirements)\n",
    "* Gold plating (implementation of features without corresponding\n",
    "* Weak access to customer needs and / or (internal) business information\n",
    "* Weak knowledge about customer's application domain\n",
    "* Weak relationship between customer and project lead\n",
    "* Time boxing / Not enough time in general\n",
    "* Discrepancy between high degree of innovation and need for formal requirements acceptance of (potentially wrong / incomplete / unknown) requirements\n",
    "* Technically unfeasible requirements\n",
    "* Underspecified requirements that are too abstract and allow for various interpretations\n",
    "* Unclear / unmeasurable non-functional requirements\n",
    "* Volatile customer's business domain regarding, e.g., changing points of contact, business processes or requirements\n",
    "\n",
    "___\n",
    "\n",
    "##### Suggestion: `Special Treatment` - group additional problems mentioned, label, and count them - then report results separately (no integration into (copy of) df) and use to improve future survey - then `Drop` `v_194`"
   ]
  },
  {
   "cell_type": "code",
   "execution_count": 28,
   "metadata": {},
   "outputs": [
    {
     "name": "stdout",
     "output_type": "stream",
     "text": [
      "v_194_short_191.csv\n"
     ]
    }
   ],
   "source": [
    "#prepare_for_excel_people(194, 'other_reproblem')"
   ]
  },
  {
   "cell_type": "code",
   "execution_count": 97,
   "metadata": {
    "scrolled": false
   },
   "outputs": [
    {
     "name": "stdout",
     "output_type": "stream",
     "text": [
      "v_194_short_191.csv\n"
     ]
    },
    {
     "data": {
      "text/plain": [
       "array(['Nothing', ' ', 'No',\n",
       "       'General dissatisfaction in customers because the system is not the same as the old one.',\n",
       "       'politics getting in the way of engineering', 'None',\n",
       "       'Lack of support from management to use agile processes. While management says that they understand it and are in agreement, in practice they still hold onto the traditional ways of thinking, and expect the outcomes of agile but with waterfall practices. Also, some regulated industries insert an extra layer of requirements that serve a purpose, but are also very constraining.',\n",
       "       'Requriments engineering have a bad rep in agile development. It is seen as constricting.  lets just start and see how we do  seems to be the best practice in scrum.',\n",
       "       'Ownership of project and project goal on business side is missing.',\n",
       "       'Incompetent vendor project team',\n",
       "       'missing willingness to understand the customers needs by project people. Sometimes they behave like a proxy between customer and developer.',\n",
       "       'There is no common vision on the project, no concern about delivering a product that actually meets the customer needs and is maintainable.',\n",
       "       \"RE approaches/methodologies are too often focussed/designed for software engineering practices and not sufficiently suited for systems engineering (or plant engineering). SW engineers insist in promoting a methodology that is not well necessarily well suited for complex systems and subject matter experts are often annoyed by implementing a methodology they don't understand.\",\n",
       "       'This project runs exceptionally well. Therefore, we do not experience the problems cited. The survey forced me to pick some. So I picked those that pose the biggest risk to projects that are not as well run as this one.',\n",
       "       'no',\n",
       "       'Scrum master not really enforcing Scrum process and not living agile principles  software architect not being team ready',\n",
       "       'Do not', 'Team capacity to complete the work ',\n",
       "       'We are ongoing a transformation phase so difficult to cope with all mandates',\n",
       "       'A personal axiom:  A shortcut in a decent process will result in twice (or more) additional costs to the project and associated schedule delays. ',\n",
       "       'Without a replacement or a suitable replacement for an engineer who left the project.',\n",
       "       'Organization does not respect role of PM or BA as leaders',\n",
       "       'changing resources (they cannot focus in our project, due they have to do other line management tasks); poor availability of stakeholders;',\n",
       "       'I fixed that we do use to much different tools for RE and it can take to much resources for RE activities. In many cases we have specific big tools for specific RE activities and goals, but how much time we spent on use of those tools. Does those tools support possibility to access to requirements to all involved persons, how easy those requirements we can export and import in situation when we change tools. Does the cost of tool, spent time on them and the result is in balance?   And during the project we do forget about the future - do we will have complete requirements and related information?  After the 6 month or more we do not remember what was in the solutions and how looks the last version of those requirements. We usually forgot to update requirements and do only partial documentation of requirements and changes. And in the result we have problems to find out what is the actual version and if we want to make changes in solutions we need to spent lot of time of existing solutions investigation. Of course we do not need to create big heavy documentation. We can use tool for requirements documentation and more, for example, for documented communication, requirements distribution etc.',\n",
       "       'Learning on the fly', 'No.',\n",
       "       'Lack of resources with given time frame',\n",
       "       'Bad stakeholder analyze ',\n",
       "       'internal conflicts at the customer because of different priorities',\n",
       "       'This was a COTS-based acquisition. To deploy the most important parts on time, we accepted and paid an  almost  complete delivery, assuming the rest was just maintenance. However, the Financial incentive disappeared and the rest went very slowly.',\n",
       "       ' high-level Monitoring meetings of steering commitee where attending directors / managers who do not have daily visibility of the project and compromise dates and scope without the opinion of the rest of the team',\n",
       "       'Replacement of some of the stakeholders during the project, resulting in loss of knowledge, affecting the scope of the project because of new insights. We fixed that by working closely with product management and the application engineers to reduce the level of impact on the project.',\n",
       "       'it is always the magical three points: Time - Cost - Requirements    All Projects must be cheap as possible in the shortest time with millions of requirements and use cases!',\n",
       "       'Disturbance by customer side development department.  They are due to the presence significance of their own,  interfere with us.',\n",
       "       'administration effort  approval and authorisation procedure  (internal and external) coordination and alignment',\n",
       "       'This project, while dealing with software development, was mainly a business change project where the customer was expected to standardize the business processes. The assumption of standardization by the customer was the basis for the development of the software. When the customer was unwilling to change, many developed features of the software became obsolete or needed to be re-designed to fit customized processes.',\n",
       "       'To define and use other complexity metrics than McCabe in projects.   Release-planning and quality could be improved.',\n",
       "       'Different levels of documentation would be required. In this project, requirements are only documented in rather low level system design descriptions. No higher level business requirement documentation is available for analysts, developers and new users.',\n",
       "       'the lack of develop and proper test environments',\n",
       "       'the budget for technology upgrades is viewed as a cost', 'Do not',\n",
       "       'no one comes to mind',\n",
       "       'Be conform to Regulations and Standards and satisfy the customer.   Exchange of requirements in tool chains (e.g. Medini - Polarion - Rhapsody)',\n",
       "       'no',\n",
       "       'by the way., I did not experience any of these, but in my eyes they are the top 5 worst ones that could happen...',\n",
       "       'Delayed responses from the client to doubts of the teams', 'No',\n",
       "       'A lot of, but today no time to explain', 'Not really',\n",
       "       'Project methodologies are required to ensure good governance and control. IT have a habit of managing the project plan rather than the project. The Agile Manifesto is largely misunderstood.',\n",
       "       'Client requests a considerable amount of analysis which is seemingly wasted effort',\n",
       "       'Large scale projects can go through several release phases and take several years to complete - during this time technology inevitably evolves and implemeting upgrades can be difficult',\n",
       "       'Do not.', 'not that I can recall at this time', 'No',\n",
       "       \"System capabilities mentioned in the contract don't match with the customer's real needs.\",\n",
       "       'no',\n",
       "       'The project was for an industry in another country, so we optimized instances survey / validation / classroom training (which were not many), and to work well with teleconferences throughout the project, leading to sometimes all the customer partners are not available that would have been necessary, which led to having to plan and manage time well, because sometimes a demonstration, validation, etc. lingered. Either way, it is understood that while it was different from a project that could have had more face communication, it not qualifies as a problem in itself, as it did not stop carrying out the project and its implementation according to the project plan.',\n",
       "       'It is important to figure out which requirements have the highest priority and business value for the company and get the team to understand',\n",
       "       'none',\n",
       "       \"Developers not using the documentation when coding the solution - making assumptions and getting it wrong. Our issue was communication within the project team - specifically developers and the BAs and Solution Architects who provided design documents that the developers didn't follow either.\",\n",
       "       'Mismatch between needs of management to report on a waterfall structure vs needs if team to design and build in an agile way',\n",
       "       \"We don't have any of the problems listed in the previous question, we are fortunate in that we have a good relationship within the team and with our customers.  The only issue that sometimes occurs is that because we have a relatively high level of autonomy within our organisation, we sometimes hit up against rigid corporate IT policies, however, we are generally able to resolve these with approval and support from IT management.\",\n",
       "       'No',\n",
       "       'Better analysis by the Business Analyst in the client documentation.',\n",
       "       'Implementation of agile methods. Inaccurate estimates.', 'No',\n",
       "       'No', 'No.',\n",
       "       'Scope of work not define and requirements are not clear.', 'NP',\n",
       "       'No.',\n",
       "       'The biggest problem occurs in the changes of requirements already implemented that will have changes due to bad requirements gathering',\n",
       "       'No', 'no', 'no.',\n",
       "       \"There is always a big challenge in the balance between technology and the client's perceived value for each delivery, between technical excellence and perception of value, quality and value, it is a constant challenge in relation to layers, frameworks, automation, etc.\",\n",
       "       \"Key customer stakeholders aren't sufficiently involved many times\",\n",
       "       'no',\n",
       "       'The project runs a mix of IT- and Building/Installation types of domains, which leads to unnecessary misunderstandings from time to time.',\n",
       "       'Lack of interest in the project from stakeholders and prospective end users',\n",
       "       'No slack time to improve. The invest into education and learning is far too low',\n",
       "       'Discontinuity of the project by the company board after the project ends',\n",
       "       'No.', 'Lack of a change management plan.', 'No', 'NO',\n",
       "       'Lack of commitment from management.', 'NO', 'NO', 'NO', 'NO',\n",
       "       'NO', 'NO', 'NO', 'No.', 'NO', 'NO', 'NO', 'NO', 'NO', 'NO', 'NO',\n",
       "       'NO', 'NO', 'impossible to fulfil (resource) constraints',\n",
       "       'Training needs, and technical enhancements for client / company, the need to comply with safety and operation standards for the project.',\n",
       "       'Customer claim managers', 'none',\n",
       "       \"Lack of separate environments for development, testing and approval, strong dependence on the client's team for solving some problems, unavailability of the client\",\n",
       "       'NO', 'NO', 'TURNOVER LACK OF BUDGET', 'NO', 'NO', 'NO',\n",
       "       'CONTRACTS NOT ALLOW if required CHANGES SHOULD BE PREPARED WHICH IS COMPLEX and takes time',\n",
       "       'NO', 'NO', 'NO', 'NO', 'YES, lack of financial resources',\n",
       "       'YES, SOME OF THE AGREEMENT ON CONTRACT WHICH DO NOT ALLOW CHANGES',\n",
       "       'NO', 'NO', 'NO', 'NO', 'NO', 'None relevant.',\n",
       "       'This is an SAAS project. Marketing and Sales often fail to remember that more features, that no one uses, are not  a good thing  to have. Basic usability principles are not considered when making feature suggestions or requests.',\n",
       "       'NO', 'NO', 'YES, DISMISSAL OF STAFF', 'NO',\n",
       "       'Is necessary to CONSTANTLY communicate REQUIREMENTS to the customer.',\n",
       "       'NO', 'NO', 'NO', 'NO', 'NO',\n",
       "       'SI; LACK OF CONFIDENCE AND TRUST Being a relatively new company',\n",
       "       'NO',\n",
       "       'YES, BUGS IN DEVELOPMENT TOOLS OR WHEN THEY ARE NOT FREE SOFTWARE. High staff turnover thet elicited requirements. LACK OF EXECUTION OF AGREEMENTS WITH CUSTOMERS OR END USERS. Unsigned meeting summaries.',\n",
       "       'NO', 'NO', 'NO',\n",
       "       'Lack of initiative shown by people bogged down by parts of the process.',\n",
       "       'NO', 'NO', 'NO', 'NO',\n",
       "       'Requirements changing during an iteration',\n",
       "       'Poor collaboration culture, when an error or failure occurs, the team spririt and collaboration are not much present, as long as it does not concern the team',\n",
       "       'Lack of visibility of Business Analysts to the customer and how they influence the final result. Tought relationship as to the person  who writes meeting notes  ',\n",
       "       'No the above are the most prominent problems we face. ',\n",
       "       'lack of sufficiently knowledgable resource in the team ie. team member with skill not particularly required for the project.',\n",
       "       'NO', 'NO', 'NO',\n",
       "       \"we have lots of small stories and I think having to timebox all these stories bites us the most. Otherwise we wouldn't be able to meet all our deliverables.\",\n",
       "       'NO', 'NO', 'No', 'NO', 'NO', 'NO', 'NO', 'NO', 'NO',\n",
       "       'There is no mechanism to balance out various stakeholders.  One individual requires discussion on a large share of low value requirements.',\n",
       "       'NO', 'NO', 'Lack of knowledge in way of working agile',\n",
       "       'Not enough support from HQ, not allowed to make decisions', 'No',\n",
       "       'Finance and cost ', 'sdf',\n",
       "       'Lack of experience and not enough funding to bring in experienced staff.',\n",
       "       'No',\n",
       "       'Junior developers misunderstanding requirements, and therefore building the wrong thing.',\n",
       "       'problems with agreeing scope', 'No', 'No', 'No.', 'none relevant',\n",
       "       \"I was not able to answer question 29 and 30, no checkbox appeared.    But in my team we don't really deal with requirements due to the nature of the team (fix bugs affect other projects in a timely manner and small improvements). What I do notice in other teams is the time provided to implement the requirements they have. There is a very delicate balance between what the client finds acceptable to deliver something which usual does not correspond to what the time that is needed to do the whole process (from design to delivery) properly.\",\n",
       "       'The lack of an agile way of tracking the status of each requirement throughout the development process until delivery to the client. Different tools for the various stages of the process without direct integration.',\n",
       "       'nope', 'Not applicable.', 'x',\n",
       "       \"People generally don't understand that before you can solve a problem you have to know what it is first.  They generally do not see the value in requirements elicitation because they do not understand the consequences of doing it poorly.  They generally lack the experience to know what doing it well looks like.\"],\n",
       "      dtype=object)"
      ]
     },
     "execution_count": 97,
     "metadata": {},
     "output_type": "execute_result"
    }
   ],
   "source": [
    "get_var_file(194)"
   ]
  },
  {
   "cell_type": "markdown",
   "metadata": {},
   "source": [
    "The End."
   ]
  }
 ],
 "metadata": {
  "kernelspec": {
   "display_name": "Python [conda env:tum]",
   "language": "python",
   "name": "conda-env-tum-py"
  },
  "language_info": {
   "codemirror_mode": {
    "name": "ipython",
    "version": 3
   },
   "file_extension": ".py",
   "mimetype": "text/x-python",
   "name": "python",
   "nbconvert_exporter": "python",
   "pygments_lexer": "ipython3",
   "version": "3.6.4"
  }
 },
 "nbformat": 4,
 "nbformat_minor": 2
}
