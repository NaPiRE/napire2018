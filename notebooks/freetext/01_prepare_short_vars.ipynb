{
 "cells": [
  {
   "cell_type": "markdown",
   "metadata": {},
   "source": [
    "### Short Free Text Variable Coding plus Documentation"
   ]
  },
  {
   "cell_type": "markdown",
   "metadata": {},
   "source": [
    "### Table of Contents\n",
    "\n",
    "* [Variable 2](#v_2)\n",
    "* [Variable 3](#v_3)\n",
    "* [Variable 5](#v_5)\n",
    "* [Variable 15](#v_15)\n",
    "* [Variable 18](#v_18)\n",
    "* [Variable 19](#v_19)\n",
    "* [Variable 20](#v_20)\n",
    "* [Variable 22](#v_22)\n",
    "* [Variable 35](#v_35)\n",
    "* [Variable 46](#v_46)\n",
    "* [Variable 52](#v_52)\n",
    "* [Variable 60](#v_60)\n",
    "* [Variable 67](#v_67)\n",
    "* [Variable 81](#v_81)\n",
    "* [Variable 96](#v_96)\n",
    "* [Variable 105](#v_105)\n",
    "* [Variable 113](#v_113)\n",
    "* [Variable 164](#v_164)\n",
    "* [Variable 166](#v_166)\n",
    "* [Variable 194](#v_194)"
   ]
  },
  {
   "cell_type": "markdown",
   "metadata": {},
   "source": [
    "### Preparations and Explorations"
   ]
  },
  {
   "cell_type": "code",
   "execution_count": 2,
   "metadata": {},
   "outputs": [],
   "source": [
    "import pandas as pd\n",
    "import re, os"
   ]
  },
  {
   "cell_type": "code",
   "execution_count": 14,
   "metadata": {},
   "outputs": [
    {
     "data": {
      "text/html": [
       "<div>\n",
       "<style scoped>\n",
       "    .dataframe tbody tr th:only-of-type {\n",
       "        vertical-align: middle;\n",
       "    }\n",
       "\n",
       "    .dataframe tbody tr th {\n",
       "        vertical-align: top;\n",
       "    }\n",
       "\n",
       "    .dataframe thead th {\n",
       "        text-align: right;\n",
       "    }\n",
       "</style>\n",
       "<table border=\"1\" class=\"dataframe\">\n",
       "  <thead>\n",
       "    <tr style=\"text-align: right;\">\n",
       "      <th></th>\n",
       "      <th>lfdn</th>\n",
       "      <th>v_300</th>\n",
       "      <th>v_23</th>\n",
       "      <th>v_3</th>\n",
       "      <th>v_1</th>\n",
       "      <th>v_2</th>\n",
       "      <th>v_4</th>\n",
       "      <th>v_5</th>\n",
       "      <th>v_6</th>\n",
       "      <th>v_7</th>\n",
       "      <th>...</th>\n",
       "      <th>v_279</th>\n",
       "      <th>v_280</th>\n",
       "      <th>v_281</th>\n",
       "      <th>v_282</th>\n",
       "      <th>v_283</th>\n",
       "      <th>v_284</th>\n",
       "      <th>v_285</th>\n",
       "      <th>v_286</th>\n",
       "      <th>v_194</th>\n",
       "      <th>v_297</th>\n",
       "    </tr>\n",
       "  </thead>\n",
       "  <tbody>\n",
       "    <tr>\n",
       "      <th>0</th>\n",
       "      <td>30</td>\n",
       "      <td>English</td>\n",
       "      <td>Japan</td>\n",
       "      <td>7</td>\n",
       "      <td>Agriculture</td>\n",
       "      <td>NotAnswered</td>\n",
       "      <td>Software-intensive embedded systems</td>\n",
       "      <td>NotAnswered</td>\n",
       "      <td>not quoted</td>\n",
       "      <td>quoted</td>\n",
       "      <td>...</td>\n",
       "      <td>NotShown</td>\n",
       "      <td>NotShown</td>\n",
       "      <td>NotShown</td>\n",
       "      <td>NotAnswered</td>\n",
       "      <td>NotAnswered</td>\n",
       "      <td>NotShown</td>\n",
       "      <td>NotShown</td>\n",
       "      <td>NotShown</td>\n",
       "      <td>Nothing</td>\n",
       "      <td>Since systems we developed face the natural en...</td>\n",
       "    </tr>\n",
       "    <tr>\n",
       "      <th>1</th>\n",
       "      <td>33</td>\n",
       "      <td>English</td>\n",
       "      <td>Argentina</td>\n",
       "      <td>5</td>\n",
       "      <td>Manufacturing</td>\n",
       "      <td>NotAnswered</td>\n",
       "      <td>Software-intensive embedded systems</td>\n",
       "      <td>NotAnswered</td>\n",
       "      <td>quoted</td>\n",
       "      <td>not quoted</td>\n",
       "      <td>...</td>\n",
       "      <td>NotAnswered</td>\n",
       "      <td>NotAnswered</td>\n",
       "      <td>NotAnswered</td>\n",
       "      <td>NotAnswered</td>\n",
       "      <td>NotAnswered</td>\n",
       "      <td>NotAnswered</td>\n",
       "      <td>NotAnswered</td>\n",
       "      <td>NotAnswered</td>\n",
       "      <td>NotAnswered</td>\n",
       "      <td>NotAnswered</td>\n",
       "    </tr>\n",
       "  </tbody>\n",
       "</table>\n",
       "<p>2 rows × 165 columns</p>\n",
       "</div>"
      ],
      "text/plain": [
       "   lfdn    v_300       v_23 v_3            v_1          v_2  \\\n",
       "0    30  English      Japan   7    Agriculture  NotAnswered   \n",
       "1    33  English  Argentina   5  Manufacturing  NotAnswered   \n",
       "\n",
       "                                   v_4          v_5         v_6         v_7  \\\n",
       "0  Software-intensive embedded systems  NotAnswered  not quoted      quoted   \n",
       "1  Software-intensive embedded systems  NotAnswered      quoted  not quoted   \n",
       "\n",
       "                         ...                                v_279  \\\n",
       "0                        ...                             NotShown   \n",
       "1                        ...                          NotAnswered   \n",
       "\n",
       "         v_280        v_281        v_282        v_283        v_284  \\\n",
       "0     NotShown     NotShown  NotAnswered  NotAnswered     NotShown   \n",
       "1  NotAnswered  NotAnswered  NotAnswered  NotAnswered  NotAnswered   \n",
       "\n",
       "         v_285        v_286        v_194  \\\n",
       "0     NotShown     NotShown      Nothing   \n",
       "1  NotAnswered  NotAnswered  NotAnswered   \n",
       "\n",
       "                                               v_297  \n",
       "0  Since systems we developed face the natural en...  \n",
       "1                                        NotAnswered  \n",
       "\n",
       "[2 rows x 165 columns]"
      ]
     },
     "execution_count": 14,
     "metadata": {},
     "output_type": "execute_result"
    }
   ],
   "source": [
    "df = pd.read_csv('../../data/napire_truth.csv', sep=';')\n",
    "df.head(2)"
   ]
  },
  {
   "cell_type": "code",
   "execution_count": 40,
   "metadata": {},
   "outputs": [],
   "source": [
    "basedir = '../../data/freetext'\n",
    "short_vars = sorted([x for x in os.listdir(basedir) if ('short' in x and 'coded' not in x)],\n",
    "      key=lambda x:int(x.split('_')[1]))"
   ]
  },
  {
   "cell_type": "code",
   "execution_count": 41,
   "metadata": {},
   "outputs": [
    {
     "data": {
      "text/plain": [
       "['v_2_short_87.csv',\n",
       " 'v_3_short_488.csv',\n",
       " 'v_5_short_29.csv',\n",
       " 'v_15_short_5.csv',\n",
       " 'v_18_short_40.csv',\n",
       " 'v_19_short_488.csv',\n",
       " 'v_20_short_403.csv',\n",
       " 'v_22_short_13.csv',\n",
       " 'v_35_short_16.csv',\n",
       " 'v_46_short_24.csv',\n",
       " 'v_52_short_18.csv',\n",
       " 'v_60_short_27.csv',\n",
       " 'v_67_short_13.csv',\n",
       " 'v_81_short_15.csv',\n",
       " 'v_96_short_22.csv',\n",
       " 'v_105_short_11.csv',\n",
       " 'v_113_short_43.csv',\n",
       " 'v_164_short_16.csv',\n",
       " 'v_166_short_18.csv',\n",
       " 'v_194_short_191.csv']"
      ]
     },
     "execution_count": 41,
     "metadata": {},
     "output_type": "execute_result"
    }
   ],
   "source": [
    "short_vars"
   ]
  },
  {
   "cell_type": "code",
   "execution_count": 50,
   "metadata": {},
   "outputs": [],
   "source": [
    "def get_var_file(varno:int, lfdn=False):\n",
    "    basedir = '../../data/freetext'\n",
    "    short_vars = sorted(\n",
    "        [x for x in os.listdir(basedir) if ('short' in x and 'coded' not in x)],\n",
    "          key=lambda x:int(x.split('_')[1]))\n",
    "    this_file = [x for x in short_vars if int(x.split('_')[1]) == varno][0]\n",
    "    if not lfdn:\n",
    "        return pd.read_csv(f'{basedir}/{this_file}')[f'v_{varno}'].values\n",
    "    else:\n",
    "        return pd.read_csv(f'{basedir}/{this_file}').values"
   ]
  },
  {
   "cell_type": "markdown",
   "metadata": {},
   "source": [
    "___\n",
    "___"
   ]
  },
  {
   "cell_type": "markdown",
   "metadata": {},
   "source": [
    "### Variable 2<a id=\"v_2\"></a>"
   ]
  },
  {
   "cell_type": "markdown",
   "metadata": {},
   "source": [
    "# TODO"
   ]
  },
  {
   "cell_type": "markdown",
   "metadata": {},
   "source": [
    "#### Please select the main industrial sector of your project and the application domain of the software you build.\n",
    "\n",
    "Options presented in `v_1`:\n",
    "1. Agriculture\n",
    "2. Automotive\n",
    "3. Finance\n",
    "4. Healthcare\n",
    "5. Security\n",
    "6. Manufacturing \n",
    "7. Energy\n",
    "8. Logistics\n",
    "9. Railway\n",
    "10. Avionics\n",
    "12. Insurance\n",
    "13. Education\n",
    "14. Public sector\n",
    "15. Enterprise resource planning \n",
    "16. Human resources\n",
    "17. e-Government\n",
    "18. Telecommunication\n",
    "19. Games engineering\n",
    "20. Public transportation\n",
    "21. e-Commerce\n",
    "22. Other (please specify)\n",
    "\n",
    "`v_2` used to specify `Other`."
   ]
  },
  {
   "cell_type": "code",
   "execution_count": 52,
   "metadata": {},
   "outputs": [
    {
     "data": {
      "text/plain": [
       "array(['Satellites', 'Software Development', 'Retail', 'Defence',\n",
       "       'Big science (particle physics research facilities)',\n",
       "       'Not for profit', 'marketing',\n",
       "       'GDPR - General Data Protection Regulation', 'High Tech',\n",
       "       'Data Analysis and Visualization ',\n",
       "       'Hobby, Entrepreneur, and IoT Projects', 'trade', 'Aerospace',\n",
       "       'Grant management', 'Requirements Engineering', 'Aviation',\n",
       "       'Banking', 'Network management system ', 'banking', 'Advertising',\n",
       "       'Aviation', 'Insurance', 'Retail', 'Defense', 'Robotics',\n",
       "       'Digital Out of the Home',\n",
       "       '1 project education + 1 project eCommerce ; industries of project varies ',\n",
       "       'development of banking software', 'Sports',\n",
       "       'Internet of Things startup', 'Financial market', 'Sales system',\n",
       "       'We are consultants, so have projects across public and private sectors.',\n",
       "       'Mobile', 'Banking sector', 'IT', 'Information Technology',\n",
       "       'Information Technology', 'Customer engagement ', 'Gastronomy',\n",
       "       'ICT', 'HMI', 'medical research',\n",
       "       'Domain-independent tool support for engineering and assurance of safety-criticla systems',\n",
       "       'Automation', 'Television/Radio', 'Trade / Retail',\n",
       "       'Communications', 'Consulting', 'System Software', 'Callcenter',\n",
       "       'Automation', 'imports', 'Public safety',\n",
       "       'Media - sale of subscriptions', 'Technology', 'Public Access ',\n",
       "       'Organizations operational development - process/EA modeling, measuring, dashboarding',\n",
       "       'Business software', 'IT consulting',\n",
       "       'Food industry - Custom Software', 'Food industry',\n",
       "       'Developed in the context of a product of diverse applicability',\n",
       "       'TOURISM', 'Banking', 'Websites / APPS', 'IT Outsourcing Services',\n",
       "       'Consumer industry', 'It', 'IT', 'Film',\n",
       "       'Web development for companies',\n",
       "       'Cloudservices for small and midsize business', 'Calendar app',\n",
       "       'Banking', 'Technology Independent Software Vendor (ISV)',\n",
       "       'Low-code Platform', 'retail', 'Banking',\n",
       "       ' Waste Collection and Management', 'Fraud detection',\n",
       "       'Contact centers', 'Environment', 'Retail', 'ERP product',\n",
       "       'Tourism', 'I consult to projects in many different sectors.  '],\n",
       "      dtype=object)"
      ]
     },
     "execution_count": 52,
     "metadata": {},
     "output_type": "execute_result"
    }
   ],
   "source": [
    "get_var_file(2)"
   ]
  },
  {
   "cell_type": "markdown",
   "metadata": {},
   "source": [
    "___\n",
    "___"
   ]
  },
  {
   "cell_type": "markdown",
   "metadata": {},
   "source": [
    "### Variable 3<a id=\"v_3\"></a>"
   ]
  },
  {
   "cell_type": "markdown",
   "metadata": {},
   "source": [
    "#### How many people are involved in your project?\n",
    "\n",
    "Coding Mode: Manual\n",
    "\n",
    "Coder: CC\n",
    "\n",
    "Note: Most entries were already integers. Where ranges were specified, I went with the lower bound.\n",
    "\n",
    "###### Suggestion: Replace v_3 by its coded version in the coded truth."
   ]
  },
  {
   "cell_type": "markdown",
   "metadata": {},
   "source": [
    "___\n",
    "___"
   ]
  },
  {
   "cell_type": "markdown",
   "metadata": {},
   "source": [
    "### Variable 15<a id=\"v_15\"></a>"
   ]
  },
  {
   "cell_type": "markdown",
   "metadata": {},
   "source": [
    "#### Are there quality attributes which are of particularly high importance for your development project? If yes, which one(s)?\n",
    "\n",
    "Situation: \n",
    "\n",
    "Here, we have five answers only, i.e. `v_14` is quoted six times in the `df`, and five respondents specified the `Other` in `v_15`.\n",
    "\n",
    "Of the five answers, three (`lfdn` 82, 84, and 560) don't really specify an `Other`. \n",
    "\n",
    "The remaining two answers are `scalability` (`lfdn` 512) and a phrase in Portuguese (`lfdn` 1894) along the lines of `modularity` and `developability` (in the sense of suitability for agile development).\n",
    "The respondents involved also quoted many other quality requirements (see below).\n",
    "\n",
    "___\n",
    "\n",
    "###### Suggestion:\n",
    "\n",
    "Drop `v_14` and `v_15` without further ado."
   ]
  },
  {
   "cell_type": "code",
   "execution_count": 27,
   "metadata": {},
   "outputs": [
    {
     "data": {
      "text/html": [
       "<div>\n",
       "<style scoped>\n",
       "    .dataframe tbody tr th:only-of-type {\n",
       "        vertical-align: middle;\n",
       "    }\n",
       "\n",
       "    .dataframe tbody tr th {\n",
       "        vertical-align: top;\n",
       "    }\n",
       "\n",
       "    .dataframe thead th {\n",
       "        text-align: right;\n",
       "    }\n",
       "</style>\n",
       "<table border=\"1\" class=\"dataframe\">\n",
       "  <thead>\n",
       "    <tr style=\"text-align: right;\">\n",
       "      <th></th>\n",
       "      <th>11</th>\n",
       "      <th>12</th>\n",
       "      <th>121</th>\n",
       "      <th>129</th>\n",
       "      <th>134</th>\n",
       "      <th>466</th>\n",
       "    </tr>\n",
       "  </thead>\n",
       "  <tbody>\n",
       "    <tr>\n",
       "      <th>v_14</th>\n",
       "      <td>quoted</td>\n",
       "      <td>quoted</td>\n",
       "      <td>quoted</td>\n",
       "      <td>quoted</td>\n",
       "      <td>quoted</td>\n",
       "      <td>quoted</td>\n",
       "    </tr>\n",
       "    <tr>\n",
       "      <th>v_15</th>\n",
       "      <td>Quality in works plays a main role.</td>\n",
       "      <td>This is reverse-engeneering project - old syst...</td>\n",
       "      <td>scalability</td>\n",
       "      <td>NotAnswered</td>\n",
       "      <td>Satisfying the job to be done</td>\n",
       "      <td>Evolução rápida em módulos compartimentados, p...</td>\n",
       "    </tr>\n",
       "  </tbody>\n",
       "</table>\n",
       "</div>"
      ],
      "text/plain": [
       "                                       11   \\\n",
       "v_14                                quoted   \n",
       "v_15  Quality in works plays a main role.    \n",
       "\n",
       "                                                    12           121  \\\n",
       "v_14                                             quoted       quoted   \n",
       "v_15  This is reverse-engeneering project - old syst...  scalability   \n",
       "\n",
       "              129                            134  \\\n",
       "v_14       quoted                         quoted   \n",
       "v_15  NotAnswered  Satisfying the job to be done   \n",
       "\n",
       "                                                    466  \n",
       "v_14                                             quoted  \n",
       "v_15  Evolução rápida em módulos compartimentados, p...  "
      ]
     },
     "execution_count": 27,
     "metadata": {},
     "output_type": "execute_result"
    }
   ],
   "source": [
    "df[df.v_14 == 'quoted'].T.loc[['v_14', 'v_15']]"
   ]
  },
  {
   "cell_type": "code",
   "execution_count": 15,
   "metadata": {
    "scrolled": true
   },
   "outputs": [
    {
     "data": {
      "text/plain": [
       "array([[82, 'Quality in works plays a main role. '],\n",
       "       [84,\n",
       "        'This is reverse-engeneering project - old system has to be re-developed on the base of modern technologies'],\n",
       "       [512, 'scalability'],\n",
       "       [560, 'Satisfying the job to be done'],\n",
       "       [1894,\n",
       "        'Evolução rápida em módulos compartimentados, para permitir desenvolvimento de modulos com sprints paralelos geridos por equipas em paralelo']],\n",
       "      dtype=object)"
      ]
     },
     "execution_count": 15,
     "metadata": {},
     "output_type": "execute_result"
    }
   ],
   "source": [
    "pd.read_csv(f'{basedir}/v_15_short_5.csv').values"
   ]
  },
  {
   "cell_type": "code",
   "execution_count": 23,
   "metadata": {
    "scrolled": true
   },
   "outputs": [
    {
     "data": {
      "text/html": [
       "<div>\n",
       "<style scoped>\n",
       "    .dataframe tbody tr th:only-of-type {\n",
       "        vertical-align: middle;\n",
       "    }\n",
       "\n",
       "    .dataframe tbody tr th {\n",
       "        vertical-align: top;\n",
       "    }\n",
       "\n",
       "    .dataframe thead th {\n",
       "        text-align: right;\n",
       "    }\n",
       "</style>\n",
       "<table border=\"1\" class=\"dataframe\">\n",
       "  <thead>\n",
       "    <tr style=\"text-align: right;\">\n",
       "      <th></th>\n",
       "      <th>121</th>\n",
       "    </tr>\n",
       "  </thead>\n",
       "  <tbody>\n",
       "    <tr>\n",
       "      <th>v_6</th>\n",
       "      <td>quoted</td>\n",
       "    </tr>\n",
       "    <tr>\n",
       "      <th>v_7</th>\n",
       "      <td>quoted</td>\n",
       "    </tr>\n",
       "    <tr>\n",
       "      <th>v_8</th>\n",
       "      <td>quoted</td>\n",
       "    </tr>\n",
       "    <tr>\n",
       "      <th>v_9</th>\n",
       "      <td>quoted</td>\n",
       "    </tr>\n",
       "    <tr>\n",
       "      <th>v_10</th>\n",
       "      <td>quoted</td>\n",
       "    </tr>\n",
       "    <tr>\n",
       "      <th>v_11</th>\n",
       "      <td>quoted</td>\n",
       "    </tr>\n",
       "    <tr>\n",
       "      <th>v_12</th>\n",
       "      <td>not quoted</td>\n",
       "    </tr>\n",
       "    <tr>\n",
       "      <th>v_13</th>\n",
       "      <td>quoted</td>\n",
       "    </tr>\n",
       "    <tr>\n",
       "      <th>v_14</th>\n",
       "      <td>quoted</td>\n",
       "    </tr>\n",
       "    <tr>\n",
       "      <th>v_15</th>\n",
       "      <td>scalability</td>\n",
       "    </tr>\n",
       "  </tbody>\n",
       "</table>\n",
       "</div>"
      ],
      "text/plain": [
       "              121\n",
       "v_6        quoted\n",
       "v_7        quoted\n",
       "v_8        quoted\n",
       "v_9        quoted\n",
       "v_10       quoted\n",
       "v_11       quoted\n",
       "v_12   not quoted\n",
       "v_13       quoted\n",
       "v_14       quoted\n",
       "v_15  scalability"
      ]
     },
     "execution_count": 23,
     "metadata": {},
     "output_type": "execute_result"
    }
   ],
   "source": [
    "df[df.lfdn == 512].T.loc[[f'v_{x}' for x in range(6,16)]]"
   ]
  },
  {
   "cell_type": "code",
   "execution_count": 24,
   "metadata": {},
   "outputs": [
    {
     "data": {
      "text/html": [
       "<div>\n",
       "<style scoped>\n",
       "    .dataframe tbody tr th:only-of-type {\n",
       "        vertical-align: middle;\n",
       "    }\n",
       "\n",
       "    .dataframe tbody tr th {\n",
       "        vertical-align: top;\n",
       "    }\n",
       "\n",
       "    .dataframe thead th {\n",
       "        text-align: right;\n",
       "    }\n",
       "</style>\n",
       "<table border=\"1\" class=\"dataframe\">\n",
       "  <thead>\n",
       "    <tr style=\"text-align: right;\">\n",
       "      <th></th>\n",
       "      <th>466</th>\n",
       "    </tr>\n",
       "  </thead>\n",
       "  <tbody>\n",
       "    <tr>\n",
       "      <th>v_6</th>\n",
       "      <td>not quoted</td>\n",
       "    </tr>\n",
       "    <tr>\n",
       "      <th>v_7</th>\n",
       "      <td>quoted</td>\n",
       "    </tr>\n",
       "    <tr>\n",
       "      <th>v_8</th>\n",
       "      <td>not quoted</td>\n",
       "    </tr>\n",
       "    <tr>\n",
       "      <th>v_9</th>\n",
       "      <td>not quoted</td>\n",
       "    </tr>\n",
       "    <tr>\n",
       "      <th>v_10</th>\n",
       "      <td>not quoted</td>\n",
       "    </tr>\n",
       "    <tr>\n",
       "      <th>v_11</th>\n",
       "      <td>not quoted</td>\n",
       "    </tr>\n",
       "    <tr>\n",
       "      <th>v_12</th>\n",
       "      <td>quoted</td>\n",
       "    </tr>\n",
       "    <tr>\n",
       "      <th>v_13</th>\n",
       "      <td>quoted</td>\n",
       "    </tr>\n",
       "    <tr>\n",
       "      <th>v_14</th>\n",
       "      <td>quoted</td>\n",
       "    </tr>\n",
       "    <tr>\n",
       "      <th>v_15</th>\n",
       "      <td>Evolução rápida em módulos compartimentados, p...</td>\n",
       "    </tr>\n",
       "  </tbody>\n",
       "</table>\n",
       "</div>"
      ],
      "text/plain": [
       "                                                    466\n",
       "v_6                                          not quoted\n",
       "v_7                                              quoted\n",
       "v_8                                          not quoted\n",
       "v_9                                          not quoted\n",
       "v_10                                         not quoted\n",
       "v_11                                         not quoted\n",
       "v_12                                             quoted\n",
       "v_13                                             quoted\n",
       "v_14                                             quoted\n",
       "v_15  Evolução rápida em módulos compartimentados, p..."
      ]
     },
     "execution_count": 24,
     "metadata": {},
     "output_type": "execute_result"
    }
   ],
   "source": [
    "df[df.lfdn ==1894].T.loc[[f'v_{x}' for x in range(6,16)]]"
   ]
  },
  {
   "cell_type": "markdown",
   "metadata": {},
   "source": [
    "___\n",
    "___"
   ]
  },
  {
   "cell_type": "markdown",
   "metadata": {},
   "source": [
    "### Variable 18<a id=\"v_18\"></a>"
   ]
  },
  {
   "cell_type": "markdown",
   "metadata": {},
   "source": [
    "# TODO"
   ]
  },
  {
   "cell_type": "markdown",
   "metadata": {},
   "source": [
    "#### What is the main role you occupy in your project?\n",
    "\n",
    "Options presented in `v_17`:\n",
    "\n",
    "1. Business Analyst\n",
    "2. Customer\n",
    "3. Developer\n",
    "4. Project Lead / Project Manager \n",
    "5. Product Owner\n",
    "6. Product Manager\n",
    "7. Scrum Master\n",
    "8. Architect\n",
    "9. Test Manager / Tester \n",
    "10. Marketing\n",
    "11. Requirements Engineer\n",
    "12. Other (please specify)\n",
    "\n",
    "`v_18` used to specify `Other`."
   ]
  },
  {
   "cell_type": "code",
   "execution_count": 53,
   "metadata": {},
   "outputs": [
    {
     "data": {
      "text/plain": [
       "array(['Observer', 'System analyst (requirements engineering included)',\n",
       "       'PM SE RE Support Engineer (PMO)', 'Systems Architect',\n",
       "       'Administrator', 'qa', 'Certification Engineer, System Engineer',\n",
       "       'Senior System Analyst',\n",
       "       'All in one solution, I do everything myself',\n",
       "       'Requirements Tooling Strategy', 'Frontend Developer',\n",
       "       'design engineer', 'Analyst and UX Designer', 'CEO', 'Analyst',\n",
       "       'Agile Coach', 'CIO', 'PMO', 'Business Analyst',\n",
       "       'Process Quality Analyst (QA)',\n",
       "       'Product Owner and Requirements Engineer',\n",
       "       'Hybrid  Analyst/Project manager', 'DBA', 'Team Lead',\n",
       "       'Analyst and Developer', 'System Engineer', 'Requirements Manager',\n",
       "       'Engineering manager, fulfilling the PM and some other roles.',\n",
       "       'Data scientist', 'Senior management', 'Security Manager',\n",
       "       'Process analyst', ' ', 'Development Functional Manager',\n",
       "       'Release Train Engineer (acc to Scaled Agile Framework, SAFe)',\n",
       "       'Engagement Manager', 'Service designer', 'Sponsor',\n",
       "       'Service designer',\n",
       "       'Senior Technical (includes several of the above roles.  Mostly Architect, Developer and Project Lead)'],\n",
       "      dtype=object)"
      ]
     },
     "execution_count": 53,
     "metadata": {},
     "output_type": "execute_result"
    }
   ],
   "source": [
    "get_var_file(18)"
   ]
  },
  {
   "cell_type": "code",
   "execution_count": null,
   "metadata": {},
   "outputs": [],
   "source": []
  },
  {
   "cell_type": "markdown",
   "metadata": {},
   "source": [
    "___\n",
    "___"
   ]
  },
  {
   "cell_type": "markdown",
   "metadata": {},
   "source": [
    "### Variable 19<a id=\"v_19\"></a>"
   ]
  },
  {
   "cell_type": "markdown",
   "metadata": {},
   "source": [
    "#### How many years of industrial experience do you have in your role?\n",
    "\n",
    "Coding Mode: Manual\n",
    "\n",
    "Coder: CC\n",
    "\n",
    "Note: Where multiple values were given, I went with the total experience specified.\n",
    "\n",
    "###### Suggestion: Replace v_19 by its coded version in the coded truth."
   ]
  },
  {
   "cell_type": "markdown",
   "metadata": {},
   "source": [
    "___\n",
    "___"
   ]
  },
  {
   "cell_type": "markdown",
   "metadata": {},
   "source": [
    "### Variable 20<a id=\"v_20\"></a>"
   ]
  },
  {
   "cell_type": "markdown",
   "metadata": {},
   "source": [
    "# TODO"
   ]
  },
  {
   "cell_type": "markdown",
   "metadata": {},
   "source": [
    "#### Do you have a certification in this role? If yes, which one?"
   ]
  },
  {
   "cell_type": "code",
   "execution_count": null,
   "metadata": {},
   "outputs": [],
   "source": []
  },
  {
   "cell_type": "markdown",
   "metadata": {},
   "source": [
    "___\n",
    "___"
   ]
  },
  {
   "cell_type": "markdown",
   "metadata": {},
   "source": [
    "### Variable 22<a id=\"v_22\"></a>"
   ]
  },
  {
   "cell_type": "markdown",
   "metadata": {},
   "source": [
    "# TODO"
   ]
  },
  {
   "cell_type": "markdown",
   "metadata": {},
   "source": [
    "#### Which organisational role does your project team have in your project?\n",
    "\n",
    "Options presented in `v_22`:\n",
    "\n",
    "1. Customer\n",
    "2. Main contractor (main responsible for the development project)\n",
    "3. Sub-contractor (responsible for part of a larger development project) \n",
    "4. In-house development\n",
    "6. Other (please specify)\n",
    "\n",
    "`v_22` used to specify the `Other`."
   ]
  },
  {
   "cell_type": "code",
   "execution_count": 54,
   "metadata": {},
   "outputs": [
    {
     "data": {
      "text/plain": [
       "array(['Mix: Customer and Main-Contractor',\n",
       "       'Part Customer, part Main contractor, part In-house development',\n",
       "       'Co-Development of project',\n",
       "       'All in one solution, I do everything myself',\n",
       "       'Consultant for Business Analysis and Project Management',\n",
       "       'Quality control', 'SA', 'own business', 'test factory',\n",
       "       'In_house: Business Analysis to Design', '  ',\n",
       "       'It is In-house development, but composed of external consultants',\n",
       "       'Service designer'], dtype=object)"
      ]
     },
     "execution_count": 54,
     "metadata": {},
     "output_type": "execute_result"
    }
   ],
   "source": [
    "get_var_file(22)"
   ]
  },
  {
   "cell_type": "markdown",
   "metadata": {},
   "source": [
    "___\n",
    "___"
   ]
  },
  {
   "cell_type": "markdown",
   "metadata": {},
   "source": [
    "### Variable 35<a id=\"v_35\"></a>"
   ]
  },
  {
   "cell_type": "markdown",
   "metadata": {},
   "source": [
    "#### How are the requirements elicited in your project?\n",
    "\n",
    "Options: \n",
    "\n",
    "* v_28: We elicit and / or refine requirements in several iterations\n",
    "* v_29: We elicit and / or refine requirements in a specifically dedicated project phase\n",
    "* v_34: Other (please specify)\n",
    "* v_35: Short Free Text Specification"
   ]
  },
  {
   "cell_type": "markdown",
   "metadata": {},
   "source": [
    "Situation:\n",
    "\n",
    "Here, we have 16 answers, and some of them might be interpreted as `v_28` or `v_29`, others might not.\n",
    "Those answers that might not be plausibly 'coded back' into the options originally presented mainly refer to options presented as part of the next question (see below, `v_46`).\n",
    "\n",
    "___\n",
    "\n",
    "###### Suggestion:\n",
    "\n",
    "Drop `v_34` and `v_35` without further action and ignore the relevant records when aggregating based on how requirements are elicited.\n",
    "\n",
    "For the next survey, rethink the allocation of answer options to the individual questions regarding Requirements Elicitation (e.g., moving 'We do not elicit...ourselves' to this question)."
   ]
  },
  {
   "cell_type": "code",
   "execution_count": 36,
   "metadata": {},
   "outputs": [
    {
     "data": {
      "text/html": [
       "<div>\n",
       "<style scoped>\n",
       "    .dataframe tbody tr th:only-of-type {\n",
       "        vertical-align: middle;\n",
       "    }\n",
       "\n",
       "    .dataframe tbody tr th {\n",
       "        vertical-align: top;\n",
       "    }\n",
       "\n",
       "    .dataframe thead th {\n",
       "        text-align: right;\n",
       "    }\n",
       "</style>\n",
       "<table border=\"1\" class=\"dataframe\">\n",
       "  <thead>\n",
       "    <tr style=\"text-align: right;\">\n",
       "      <th></th>\n",
       "      <th>29</th>\n",
       "      <th>34</th>\n",
       "      <th>42</th>\n",
       "      <th>61</th>\n",
       "      <th>152</th>\n",
       "      <th>166</th>\n",
       "      <th>218</th>\n",
       "      <th>228</th>\n",
       "      <th>337</th>\n",
       "      <th>345</th>\n",
       "      <th>386</th>\n",
       "      <th>398</th>\n",
       "      <th>404</th>\n",
       "      <th>441</th>\n",
       "      <th>449</th>\n",
       "      <th>476</th>\n",
       "    </tr>\n",
       "  </thead>\n",
       "  <tbody>\n",
       "    <tr>\n",
       "      <th>lfdn</th>\n",
       "      <td>147</td>\n",
       "      <td>163</td>\n",
       "      <td>180</td>\n",
       "      <td>249</td>\n",
       "      <td>683</td>\n",
       "      <td>742</td>\n",
       "      <td>928</td>\n",
       "      <td>952</td>\n",
       "      <td>1321</td>\n",
       "      <td>1344</td>\n",
       "      <td>1457</td>\n",
       "      <td>1483</td>\n",
       "      <td>1542</td>\n",
       "      <td>1744</td>\n",
       "      <td>1763</td>\n",
       "      <td>1928</td>\n",
       "    </tr>\n",
       "    <tr>\n",
       "      <th>v_28</th>\n",
       "      <td>not quoted</td>\n",
       "      <td>quoted</td>\n",
       "      <td>not quoted</td>\n",
       "      <td>not quoted</td>\n",
       "      <td>not quoted</td>\n",
       "      <td>not quoted</td>\n",
       "      <td>not quoted</td>\n",
       "      <td>not quoted</td>\n",
       "      <td>not quoted</td>\n",
       "      <td>not quoted</td>\n",
       "      <td>not quoted</td>\n",
       "      <td>not quoted</td>\n",
       "      <td>not quoted</td>\n",
       "      <td>not quoted</td>\n",
       "      <td>not quoted</td>\n",
       "      <td>not quoted</td>\n",
       "    </tr>\n",
       "    <tr>\n",
       "      <th>v_29</th>\n",
       "      <td>not quoted</td>\n",
       "      <td>quoted</td>\n",
       "      <td>not quoted</td>\n",
       "      <td>not quoted</td>\n",
       "      <td>not quoted</td>\n",
       "      <td>not quoted</td>\n",
       "      <td>not quoted</td>\n",
       "      <td>quoted</td>\n",
       "      <td>not quoted</td>\n",
       "      <td>not quoted</td>\n",
       "      <td>not quoted</td>\n",
       "      <td>not quoted</td>\n",
       "      <td>not quoted</td>\n",
       "      <td>not quoted</td>\n",
       "      <td>not quoted</td>\n",
       "      <td>not quoted</td>\n",
       "    </tr>\n",
       "    <tr>\n",
       "      <th>v_34</th>\n",
       "      <td>quoted</td>\n",
       "      <td>quoted</td>\n",
       "      <td>quoted</td>\n",
       "      <td>quoted</td>\n",
       "      <td>quoted</td>\n",
       "      <td>quoted</td>\n",
       "      <td>quoted</td>\n",
       "      <td>quoted</td>\n",
       "      <td>quoted</td>\n",
       "      <td>quoted</td>\n",
       "      <td>quoted</td>\n",
       "      <td>quoted</td>\n",
       "      <td>quoted</td>\n",
       "      <td>quoted</td>\n",
       "      <td>quoted</td>\n",
       "      <td>quoted</td>\n",
       "    </tr>\n",
       "    <tr>\n",
       "      <th>v_35</th>\n",
       "      <td>We try to elicit requirements in dedicated pha...</td>\n",
       "      <td>Depends upon the project</td>\n",
       "      <td>Waterfall</td>\n",
       "      <td>I create my own projects and so I write my own...</td>\n",
       "      <td>HYBRID</td>\n",
       "      <td>Long waterfall process (6 months)  which is it...</td>\n",
       "      <td>Based on the source code of the current versio...</td>\n",
       "      <td>Customer and vendor choosing analysis models a...</td>\n",
       "      <td>It is handled by the product manager</td>\n",
       "      <td>Work meetings</td>\n",
       "      <td>Workshops and forms</td>\n",
       "      <td>WORKSHOPS (several iterations)</td>\n",
       "      <td>We will like to refine them in several iterati...</td>\n",
       "      <td>We hardly do</td>\n",
       "      <td>Requirements are usually elicited by project m...</td>\n",
       "      <td>This is taken by someone else. But we do make ...</td>\n",
       "    </tr>\n",
       "  </tbody>\n",
       "</table>\n",
       "</div>"
      ],
      "text/plain": [
       "                                                    29   \\\n",
       "lfdn                                                147   \n",
       "v_28                                         not quoted   \n",
       "v_29                                         not quoted   \n",
       "v_34                                             quoted   \n",
       "v_35  We try to elicit requirements in dedicated pha...   \n",
       "\n",
       "                           34          42   \\\n",
       "lfdn                       163         180   \n",
       "v_28                    quoted  not quoted   \n",
       "v_29                    quoted  not quoted   \n",
       "v_34                    quoted      quoted   \n",
       "v_35  Depends upon the project   Waterfall   \n",
       "\n",
       "                                                    61          152  \\\n",
       "lfdn                                                249         683   \n",
       "v_28                                         not quoted  not quoted   \n",
       "v_29                                         not quoted  not quoted   \n",
       "v_34                                             quoted      quoted   \n",
       "v_35  I create my own projects and so I write my own...      HYBRID   \n",
       "\n",
       "                                                    166  \\\n",
       "lfdn                                                742   \n",
       "v_28                                         not quoted   \n",
       "v_29                                         not quoted   \n",
       "v_34                                             quoted   \n",
       "v_35  Long waterfall process (6 months)  which is it...   \n",
       "\n",
       "                                                    218  \\\n",
       "lfdn                                                928   \n",
       "v_28                                         not quoted   \n",
       "v_29                                         not quoted   \n",
       "v_34                                             quoted   \n",
       "v_35  Based on the source code of the current versio...   \n",
       "\n",
       "                                                    228  \\\n",
       "lfdn                                                952   \n",
       "v_28                                         not quoted   \n",
       "v_29                                             quoted   \n",
       "v_34                                             quoted   \n",
       "v_35  Customer and vendor choosing analysis models a...   \n",
       "\n",
       "                                       337            345  \\\n",
       "lfdn                                  1321           1344   \n",
       "v_28                            not quoted     not quoted   \n",
       "v_29                            not quoted     not quoted   \n",
       "v_34                                quoted         quoted   \n",
       "v_35  It is handled by the product manager  Work meetings   \n",
       "\n",
       "                      386                             398  \\\n",
       "lfdn                 1457                            1483   \n",
       "v_28           not quoted                      not quoted   \n",
       "v_29           not quoted                      not quoted   \n",
       "v_34               quoted                          quoted   \n",
       "v_35  Workshops and forms  WORKSHOPS (several iterations)   \n",
       "\n",
       "                                                    404           441  \\\n",
       "lfdn                                               1542          1744   \n",
       "v_28                                         not quoted    not quoted   \n",
       "v_29                                         not quoted    not quoted   \n",
       "v_34                                             quoted        quoted   \n",
       "v_35  We will like to refine them in several iterati...  We hardly do   \n",
       "\n",
       "                                                    449  \\\n",
       "lfdn                                               1763   \n",
       "v_28                                         not quoted   \n",
       "v_29                                         not quoted   \n",
       "v_34                                             quoted   \n",
       "v_35  Requirements are usually elicited by project m...   \n",
       "\n",
       "                                                    476  \n",
       "lfdn                                               1928  \n",
       "v_28                                         not quoted  \n",
       "v_29                                         not quoted  \n",
       "v_34                                             quoted  \n",
       "v_35  This is taken by someone else. But we do make ...  "
      ]
     },
     "execution_count": 36,
     "metadata": {},
     "output_type": "execute_result"
    }
   ],
   "source": [
    "df[df.v_34 == 'quoted'].T.loc[['lfdn'] + [f'v_{x}' for x in [28,29,34,35]]]"
   ]
  },
  {
   "cell_type": "code",
   "execution_count": 28,
   "metadata": {},
   "outputs": [
    {
     "data": {
      "text/plain": [
       "array([[147,\n",
       "        'We try to elicit requirements in dedicated phase, but end up eliciting requirements througout the project on an ad-hoc basis.'],\n",
       "       [163, 'Depends upon the project'],\n",
       "       [180, 'Waterfall'],\n",
       "       [249,\n",
       "        'I create my own projects and so I write my own requirements'],\n",
       "       [683, 'HYBRID'],\n",
       "       [742, 'Long waterfall process (6 months)  which is iterated.'],\n",
       "       [928,\n",
       "        'Based on the source code of the current version of the product, adding improvements and corrections identified, assessing the impact of the project.'],\n",
       "       [952,\n",
       "        'Customer and vendor choosing analysis models and check its fit or resolve our business needs.'],\n",
       "       [1321, 'It is handled by the product manager'],\n",
       "       [1344, 'Work meetings'],\n",
       "       [1457, 'Workshops and forms'],\n",
       "       [1483, 'WORKSHOPS (several iterations)'],\n",
       "       [1542,\n",
       "        'We will like to refine them in several iterations with the project team in an agile way, but that does hardly happen and in many cases requirements are either solely elicited from the PO and many times refined during the development (e.g. the sprint)'],\n",
       "       [1744, 'We hardly do'],\n",
       "       [1763, 'Requirements are usually elicited by project managers.'],\n",
       "       [1928,\n",
       "        'This is taken by someone else. But we do make adjustments to what were the requirements if needed during the project.']],\n",
       "      dtype=object)"
      ]
     },
     "execution_count": 28,
     "metadata": {},
     "output_type": "execute_result"
    }
   ],
   "source": [
    "pd.read_csv(f'{basedir}/v_35_short_16.csv').values"
   ]
  },
  {
   "cell_type": "markdown",
   "metadata": {},
   "source": [
    "___\n",
    "___"
   ]
  },
  {
   "cell_type": "markdown",
   "metadata": {},
   "source": [
    "### Variable 46<a id=\"v_46\"></a>"
   ]
  },
  {
   "cell_type": "markdown",
   "metadata": {},
   "source": [
    "# TODO"
   ]
  },
  {
   "cell_type": "markdown",
   "metadata": {},
   "source": [
    "#### Which techniques do you use for your requirements elicitations?\n",
    "\n",
    "Options:\n",
    "\n",
    "* v_36: Interviews\n",
    "* v_37: Analysis of existing documents\n",
    "* v_38: Risk analyses\n",
    "* v_39: Prototyping\n",
    "* v_40: Workshops and focus groups\n",
    "* v_41: (Requirements) Reuse databases and guidelines\n",
    "* v_42: Design Thinking / Lean Startup\n",
    "* v_43: External experts\n",
    "* v_44: Observations\n",
    "* v_47: We do not elicit requirements (ourselves)\n",
    "* v_45: Other\n",
    "* v_46: Short Free Text to specify `Other`"
   ]
  },
  {
   "cell_type": "code",
   "execution_count": 39,
   "metadata": {},
   "outputs": [
    {
     "data": {
      "text/plain": [
       "array([[84,\n",
       "        'The main source of the requirements is the source program code of old system.'],\n",
       "       [114, 'stakeholder requests from customer'],\n",
       "       [118, 'requirement specification form customer'],\n",
       "       [199, 'Reverse Engineering'],\n",
       "       [230,\n",
       "        'Many times, requirements also come from the customer. Although we still need to refine to assure we understand their needs/wants. '],\n",
       "       [249,\n",
       "        'I have my own way of doing things. I combine all techniques from school and indy projects to understand what I am doing.'],\n",
       "       [258, 'Mockups'],\n",
       "       [729,\n",
       "        'Participation in the team of a specific profile with expertise in the \\u200b\\u200bindustry sector the project is developed'],\n",
       "       [839, 'BEAM*'],\n",
       "       [896, 'Market analysis and analysis of similar products'],\n",
       "       [912,\n",
       "        'Early validation of development for corrections in flight where possible'],\n",
       "       [937,\n",
       "        'We are working together with the future stakeholder of the new product. The prototype is implemented in that way that we can use productive data in order to simulate the workflows. There requirements are formulated after a gap is identified'],\n",
       "       [1031, 'analysis of similar projects'],\n",
       "       [1066, 'Very detailed requirements documents from our customer'],\n",
       "       [1161,\n",
       "        'Expert users of each area define needs, and is accompanied with a solutions guide'],\n",
       "       [1357, 'NATIVE SOFTWARE REVIEW'],\n",
       "       [1457, 'AS IS / TOBE'],\n",
       "       [1542,\n",
       "        'Mainly Wireframes of the UI instead of a real prototyping and several conversations and agreements with the stakeholders (but no real feedback from the end customer), in the end the user stories need to be rewritten or re-refined'],\n",
       "       [1717, 'SOURCE CODE REVIEW'],\n",
       "       [1744, 'No specificerat way, more like meetings over phone'],\n",
       "       [1840, 'Regulations from EU'],\n",
       "       [1909,\n",
       "        'We have been in the area of transport for many years, so we have a lot of experience in the area; We follow this with input from customers to evolve the design of the solution'],\n",
       "       [1928, \"Wouldn't know\"],\n",
       "       [1969,\n",
       "        'Often use Subject Matter Experts (SMEs).  They are usually Internal experts, but can be external.']],\n",
       "      dtype=object)"
      ]
     },
     "execution_count": 39,
     "metadata": {},
     "output_type": "execute_result"
    }
   ],
   "source": [
    "pd.read_csv(f'{basedir}/v_46_short_24.csv').values"
   ]
  },
  {
   "cell_type": "markdown",
   "metadata": {},
   "source": [
    "___\n",
    "___"
   ]
  },
  {
   "cell_type": "markdown",
   "metadata": {},
   "source": [
    "### Variable 52<a id=\"v_52\"></a>"
   ]
  },
  {
   "cell_type": "markdown",
   "metadata": {},
   "source": [
    "# TODO"
   ]
  },
  {
   "cell_type": "markdown",
   "metadata": {},
   "source": [
    "#### Who has the primary responsibility for eliciting requirements?\n",
    "\n",
    "Options presented in `v_51`:\n",
    "\n",
    "1. Marketing\n",
    "2. Business Analyst\n",
    "3. Requirements Engineer\n",
    "4. Project Lead / Project Manager \n",
    "5. Scrum Master\n",
    "6. Product Owner\n",
    "7. Product Manager\n",
    "8. Architect\n",
    "9. Developer\n",
    "10. Customer\n",
    "12. Other\n",
    "13. Nobody has the primary responsibility\n",
    "\n",
    "`v_52` used to specify `Other`."
   ]
  },
  {
   "cell_type": "code",
   "execution_count": 51,
   "metadata": {},
   "outputs": [
    {
     "data": {
      "text/plain": [
       "array([[35, 'Engineering Manager '],\n",
       "       [91, 'Main contractor'],\n",
       "       [213, 'System Analyst'],\n",
       "       [249,\n",
       "        'All in one solution, I create my own project and I am responsible for everything'],\n",
       "       [258, 'end user'],\n",
       "       [313,\n",
       "        \"As 'Systems Design Engineer' I have primary responsibility for eliciting requirements; I also act as Product Owner for software development.\"],\n",
       "       [694,\n",
       "        'Customers use to have the business requirement defined and documented at a high level + team implementing specific features digs deep with the support of Manager&ScrumMaster'],\n",
       "       [729,\n",
       "        'Business Analyst together with Project Manager and Heads of Development'],\n",
       "       [750, 'In contact with end users'],\n",
       "       [753, 'functional analyst'],\n",
       "       [896, 'research team and UX / UI design'],\n",
       "       [928, 'Systems Analyst'],\n",
       "       [1129, 'Domain expert'],\n",
       "       [1194, 'All team members participate'],\n",
       "       [1262, 'Consultants (no software development projects)'],\n",
       "       [1542,\n",
       "        'Mostly the PO, in some cases the business stakeholders write the stories and they are passed like that to the team, or other POs write them when there are dependencies, sometimes the team lead writes his own technical stories'],\n",
       "       [1633,\n",
       "        'There is a separate department at the company who elicit high level requirements, teams are responsible for refining them'],\n",
       "       [1741,\n",
       "        'Product Management (3 people) together with our Product Owners']],\n",
       "      dtype=object)"
      ]
     },
     "execution_count": 51,
     "metadata": {},
     "output_type": "execute_result"
    }
   ],
   "source": [
    "get_var_file(52, lfdn=True)"
   ]
  },
  {
   "cell_type": "markdown",
   "metadata": {},
   "source": [
    "___\n",
    "___"
   ]
  },
  {
   "cell_type": "markdown",
   "metadata": {},
   "source": [
    "### Variable 60<a id=\"v_60\"></a>"
   ]
  },
  {
   "cell_type": "markdown",
   "metadata": {},
   "source": [
    "# TODO"
   ]
  },
  {
   "cell_type": "markdown",
   "metadata": {},
   "source": [
    "#### At what level of granularity do you document requirements, and when?\n",
    "\n",
    "Options presented in `v_59`:\n",
    "\n",
    "1. We document detailed requirements at the beginning of the project.\n",
    "2. We document high-level requirements at beginning of the project and refine them to detailed requirements when needed (for instance, we document epics and refine them to user stories for the sprints).\n",
    "3. We do not document requirements.\n",
    "4. Other (please specify)\n",
    "\n",
    "`v_60` used to specify `Other`."
   ]
  },
  {
   "cell_type": "code",
   "execution_count": 55,
   "metadata": {},
   "outputs": [
    {
     "data": {
      "text/plain": [
       "array(['we document detailed requirements through the analysis of the existing business logic implemented in the old system - component by component, already more than 1,5 year ',\n",
       "       'We document high-level requirements, PMO expects this to be enough information and then we have to refine them during development, sometimes delaying the delivery of an increment.',\n",
       "       'Actualy we have bouth first two point, we create detailed requirementes and we detalaize and improve them in the process',\n",
       "       'I apply every technique that I know to decompose the problem state until I can visualize the requirements. ',\n",
       "       'mix of epics for for the next year and detail them for the next 2 months. Challenge is, that we have an external company developing. So far we did plans for a year. So we needed to know what we wanted to do next year.',\n",
       "       'Depends on the risk and the complexity, simple straightforward aspects high level, sw agile, complex aspect with lots of detail if needed',\n",
       "       'We deliver both Agile and Traditional Waterfall projects, with capturing of Epics and User Stories for the former, and detailed fully-fledged requirements for the latter',\n",
       "       'We mix high-level requirements and detailed requirements depending of the pre-system-architecture and the ISO 26262 FTA-Events.',\n",
       "       'Documented at the end of the project',\n",
       "       'We in ital document high level business requirements (based on the customer provided business capability statements) and then refined these into detailed requirements in a single analysis phase.',\n",
       "       'We take a hybrid approach between high-level and no documentation at the outset, but refine documents during the development/pilot phase of the project',\n",
       "       'Through UX and a brief presentation',\n",
       "       'Brief user stories and acceptance criteria',\n",
       "       'we briefly document core requirements early in the project',\n",
       "       'As requirements are specific not much level of granularity is needed, as the project is ongoing the project manager documents requirements when a customer requests it',\n",
       "       'For  known  architectural elements we document detailed requirements at the beginning of the project, the remainder are refined as required over time',\n",
       "       'depending on the complexity of the project; all of the above mentioned approaches',\n",
       "       \"It's kind of a cross-over of point 1/2 in this question. We're bound to the EN62304 requiring quite complete documentation of requirements at all phases of the project.\",\n",
       "       'We document high-level requirements usually starting the quarter, the the PO refines them close to the sprint where they will be tackled and hey are re-refined with the team during planning or development',\n",
       "       'the company uses very detailed specification documents, which are written in parallel to development',\n",
       "       'Documented during execution/deploy',\n",
       "       'It is a very dynamic System with changing requirements, we document per module and and refine in each iteration',\n",
       "       'We document semi detailed requirements at beginning of the project and refine them to detailed requirements when needed (for instance, we document epics and refine them to user stories for the sprints).',\n",
       "       'Short briefing in a handover meeting',\n",
       "       'We continously update our requirements in each sprint and if needed during the sprint. The documentation and refinement of the requirements are made by me but they are then reviewed and accepted by the customer.',\n",
       "       'Document at high level only',\n",
       "       \"Not sure for other team. In my team it doesn't really apply as it is mainly product maintenance\"],\n",
       "      dtype=object)"
      ]
     },
     "execution_count": 55,
     "metadata": {},
     "output_type": "execute_result"
    }
   ],
   "source": [
    "get_var_file(60)"
   ]
  },
  {
   "cell_type": "markdown",
   "metadata": {},
   "source": [
    "___\n",
    "___"
   ]
  },
  {
   "cell_type": "markdown",
   "metadata": {},
   "source": [
    "### Variable 67<a id=\"v_67\"></a>"
   ]
  },
  {
   "cell_type": "markdown",
   "metadata": {},
   "source": [
    "# TODO"
   ]
  },
  {
   "cell_type": "markdown",
   "metadata": {},
   "source": [
    "#### How do you make use of the documented requirements?\n",
    "\n",
    "Options presented in `v_61` to `v_66`:\n",
    "* They are the basis for the implementation.\n",
    "* They are source for tests.\n",
    "* They are used in customer acceptance.\n",
    "* They are part of the contract.\n",
    "* They are a reminder for further discussions with the customer, product owner, and / or other team members\n",
    "* Other (please specify)\n",
    "\n",
    "`v_67` used to specify `Other`."
   ]
  },
  {
   "cell_type": "code",
   "execution_count": 56,
   "metadata": {},
   "outputs": [
    {
     "data": {
      "text/plain": [
       "array(['Basic for Stakeholders', 'Document previously developed Software',\n",
       "       'Documents become the plan to execute',\n",
       "       'They are the specification of the system that is in production/live',\n",
       "       'Compliance / Quality Gates',\n",
       "       'Manage change & impact, traceability, mbse', 'ISO 26262',\n",
       "       'Frequently an initial understanding of a requirement is enriched and sometimes better understood and changed as we go - we just keep an eye on anything that flip-flops, as this will blow the timeframes.',\n",
       "       'EN62304',\n",
       "       'Many features have several requirements, they get implemented along several documenteduser stories, the user stories we write, serve also as a basis for tracking the work and commiting the code and traceability becomes very poor',\n",
       "       'they are used to decide who is responsible for an issues and what budget needs to be spent in oder to solve this issue',\n",
       "       \"Wouldn't know\", 'To final documentation'], dtype=object)"
      ]
     },
     "execution_count": 56,
     "metadata": {},
     "output_type": "execute_result"
    }
   ],
   "source": [
    "get_var_file(67)"
   ]
  },
  {
   "cell_type": "markdown",
   "metadata": {},
   "source": [
    "___\n",
    "___"
   ]
  },
  {
   "cell_type": "markdown",
   "metadata": {},
   "source": [
    "### Variable 81<a id=\"v_81\"></a>"
   ]
  },
  {
   "cell_type": "markdown",
   "metadata": {},
   "source": [
    "# TODO"
   ]
  },
  {
   "cell_type": "markdown",
   "metadata": {},
   "source": [
    "#### For which information do you make an explicit distinction when documenting your requirements?\n",
    "\n",
    "Options presented in `v_68` to `80`:\n",
    "\n",
    "\n",
    "\n",
    "`v_81` used to specify `Other`."
   ]
  },
  {
   "cell_type": "code",
   "execution_count": null,
   "metadata": {},
   "outputs": [],
   "source": []
  },
  {
   "cell_type": "markdown",
   "metadata": {},
   "source": [
    "___\n",
    "___"
   ]
  },
  {
   "cell_type": "markdown",
   "metadata": {},
   "source": [
    "### Variable 96<a id=\"v_96\"></a>"
   ]
  },
  {
   "cell_type": "markdown",
   "metadata": {},
   "source": [
    "# TODO"
   ]
  },
  {
   "cell_type": "markdown",
   "metadata": {},
   "source": []
  },
  {
   "cell_type": "code",
   "execution_count": null,
   "metadata": {},
   "outputs": [],
   "source": []
  },
  {
   "cell_type": "markdown",
   "metadata": {},
   "source": [
    "___\n",
    "___"
   ]
  },
  {
   "cell_type": "markdown",
   "metadata": {},
   "source": [
    "### Variable 105<a id=\"v_105\"></a>"
   ]
  },
  {
   "cell_type": "markdown",
   "metadata": {},
   "source": [
    "# TODO"
   ]
  },
  {
   "cell_type": "markdown",
   "metadata": {},
   "source": []
  },
  {
   "cell_type": "code",
   "execution_count": null,
   "metadata": {},
   "outputs": [],
   "source": []
  },
  {
   "cell_type": "markdown",
   "metadata": {},
   "source": [
    "___\n",
    "___"
   ]
  },
  {
   "cell_type": "markdown",
   "metadata": {},
   "source": [
    "### Variable 113<a id=\"v_113\"></a>"
   ]
  },
  {
   "cell_type": "markdown",
   "metadata": {},
   "source": [
    "# TODO"
   ]
  },
  {
   "cell_type": "markdown",
   "metadata": {},
   "source": []
  },
  {
   "cell_type": "code",
   "execution_count": null,
   "metadata": {},
   "outputs": [],
   "source": []
  },
  {
   "cell_type": "markdown",
   "metadata": {},
   "source": [
    "___\n",
    "___"
   ]
  },
  {
   "cell_type": "markdown",
   "metadata": {},
   "source": [
    "### Variable 164<a id=\"v_164\"></a>"
   ]
  },
  {
   "cell_type": "markdown",
   "metadata": {},
   "source": [
    "# TODO"
   ]
  },
  {
   "cell_type": "markdown",
   "metadata": {},
   "source": []
  },
  {
   "cell_type": "code",
   "execution_count": null,
   "metadata": {},
   "outputs": [],
   "source": []
  },
  {
   "cell_type": "markdown",
   "metadata": {},
   "source": [
    "___\n",
    "___"
   ]
  },
  {
   "cell_type": "markdown",
   "metadata": {},
   "source": [
    "### Variable 166<a id=\"v_166\"></a>"
   ]
  },
  {
   "cell_type": "markdown",
   "metadata": {},
   "source": [
    "# TODO"
   ]
  },
  {
   "cell_type": "markdown",
   "metadata": {},
   "source": []
  },
  {
   "cell_type": "code",
   "execution_count": null,
   "metadata": {},
   "outputs": [],
   "source": []
  },
  {
   "cell_type": "markdown",
   "metadata": {},
   "source": [
    "___\n",
    "___"
   ]
  },
  {
   "cell_type": "markdown",
   "metadata": {},
   "source": [
    "### Variable 194<a id=\"v_194\"></a>"
   ]
  },
  {
   "cell_type": "markdown",
   "metadata": {},
   "source": [
    "# TODO"
   ]
  },
  {
   "cell_type": "markdown",
   "metadata": {},
   "source": []
  },
  {
   "cell_type": "code",
   "execution_count": null,
   "metadata": {},
   "outputs": [],
   "source": []
  }
 ],
 "metadata": {
  "kernelspec": {
   "display_name": "Python [conda env:tum]",
   "language": "python",
   "name": "conda-env-tum-py"
  },
  "language_info": {
   "codemirror_mode": {
    "name": "ipython",
    "version": 3
   },
   "file_extension": ".py",
   "mimetype": "text/x-python",
   "name": "python",
   "nbconvert_exporter": "python",
   "pygments_lexer": "ipython3",
   "version": "3.6.4"
  }
 },
 "nbformat": 4,
 "nbformat_minor": 2
}
