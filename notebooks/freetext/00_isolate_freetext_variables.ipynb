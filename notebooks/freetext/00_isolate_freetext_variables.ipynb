{
 "cells": [
  {
   "cell_type": "code",
   "execution_count": 1,
   "metadata": {},
   "outputs": [],
   "source": [
    "import pandas as pd"
   ]
  },
  {
   "cell_type": "code",
   "execution_count": 5,
   "metadata": {},
   "outputs": [],
   "source": [
    "df = pd.read_csv('../../data/napire_truth.csv', sep=';')"
   ]
  },
  {
   "cell_type": "markdown",
   "metadata": {},
   "source": [
    "We have 23 solo free text variables and three ranges of free text variables.\n",
    "* Short Free Text - List-Supplementing: `sft_paired`\n",
    "* Short Free Text - List-Supplanting: `sft_independent`\n",
    "* Long Free Text - Filtered: `lft_some`\n",
    "* Long Free Text - Not Filtered (i.e., lots of answers): `lft_all`\n",
    "\n",
    "Note that this categorization is rough, so we'll put the total number of not-evidently-NULL-answers in the file names instead (see below)."
   ]
  },
  {
   "cell_type": "code",
   "execution_count": 46,
   "metadata": {},
   "outputs": [],
   "source": [
    "sft_paired =      ['v_2','v_5','v_15','v_18',\n",
    "                   'v_35','v_46','v_52',\n",
    "                   'v_60','v_67','v_81','v_96','v_105',\n",
    "                   'v_113','v_164','v_166',\n",
    "                   'v_194'\n",
    "                  ] \n",
    "sft_independent = ['v_3','v_19','v_20',] \n",
    "lft_some =        ['v_26','v_27'\n",
    "                  ] + [f'v_{x}' for x in list(range(343,352))] \n",
    "lft_all =         [f'v_{x}' for x in range(168,174)\n",
    "                  ] + [f'v_{x}' for x in range(277,287)\n",
    "                      ] + ['v_297']"
   ]
  },
  {
   "cell_type": "code",
   "execution_count": 47,
   "metadata": {},
   "outputs": [
    {
     "data": {
      "text/plain": [
       "47"
      ]
     },
     "execution_count": 47,
     "metadata": {},
     "output_type": "execute_result"
    }
   ],
   "source": [
    "all_vars = sft_paired + sft_independent + lft_some + lft_all\n",
    "len(all_vars) # Yay...not."
   ]
  },
  {
   "cell_type": "code",
   "execution_count": 50,
   "metadata": {},
   "outputs": [],
   "source": [
    "var_dict = {\n",
    "    'short_few': sft_paired,\n",
    "    'short_all': sft_independent,\n",
    "    'long_few':  lft_some,\n",
    "    'long_all':  lft_all\n",
    "}"
   ]
  },
  {
   "cell_type": "code",
   "execution_count": 60,
   "metadata": {},
   "outputs": [],
   "source": [
    "def write_var_files(df, var_dict, basedir='../../data/freetext'):\n",
    "    dffilter = {'NotAnswered','NotApplicable','NotShown'}\n",
    "    for k,v in var_dict.items():\n",
    "        for var in v:\n",
    "            fdf = df[['lfdn', f'{var}']\n",
    "              ][~df[f'{var}'].isin(dffilter)]\n",
    "            fdf.to_csv(f'{basedir}/{var}_{k[:-4]}_{len(fdf)}.csv', index=False)\n",
    "        print(f'Wrote {len(v)} files of type \"{k}\" to directory: {basedir}')"
   ]
  },
  {
   "cell_type": "code",
   "execution_count": 61,
   "metadata": {},
   "outputs": [
    {
     "name": "stdout",
     "output_type": "stream",
     "text": [
      "Wrote 16 files of type \"short_few\" to directory: ../../data/freetext\n",
      "Wrote 3 files of type \"short_all\" to directory: ../../data/freetext\n",
      "Wrote 11 files of type \"long_few\" to directory: ../../data/freetext\n",
      "Wrote 17 files of type \"long_all\" to directory: ../../data/freetext\n"
     ]
    }
   ],
   "source": [
    "write_var_files(df, var_dict)"
   ]
  },
  {
   "cell_type": "markdown",
   "metadata": {},
   "source": [
    "### About the Translations..."
   ]
  },
  {
   "cell_type": "markdown",
   "metadata": {},
   "source": [
    "Manual inspection showed that the following variables still have responses in foreign languages (i.e., the columns were falsely excluded from translation):\n",
    "* v_3\n",
    "* v_15\n",
    "* v_19\n",
    "* v_105\n",
    "\n",
    "Note that only a tiny number of responses are affected in each case, so we might as well hand the task of dealing with the foreign language responses down to our beloved coders. \n",
    "The responses are understandable to all with some knowledge of some Romance languages."
   ]
  },
  {
   "cell_type": "markdown",
   "metadata": {},
   "source": [
    "### About Excel...\n",
    "Look at our nice Excel-produced errors (look out for the `#VALUE!`) - I'm not going to fix them. (**TOLD YOU NOT TO WORK WITH EXCEL**) (*SIGH*)"
   ]
  },
  {
   "cell_type": "code",
   "execution_count": 55,
   "metadata": {},
   "outputs": [
    {
     "data": {
      "text/plain": [
       "array([[1484, 'Español', 'Ecuador', '6', 'Education', 'NotAnswered',\n",
       "        'Business information systems', 'NotAnswered', 'quoted',\n",
       "        'quoted', 'not quoted', 'quoted', 'not quoted', 'quoted',\n",
       "        'not quoted', 'quoted', 'not quoted', 'NotAnswered', 'Yes',\n",
       "        'Test Manager / Tester', 'NotAnswered', '4', 'DO NOT',\n",
       "        'Main contractor (main responsible for the development project)',\n",
       "        'NotAnswered', 'Plan-driven', 'Good', 'NotShown', 'NotShown',\n",
       "        'not quoted', 'quoted', 'not quoted', 'NotAnswered', 'quoted',\n",
       "        'not quoted', 'quoted', 'not quoted', 'quoted', 'not quoted',\n",
       "        'not quoted', 'not quoted', 'not quoted', 'not quoted',\n",
       "        'not quoted', 'NotAnswered', 'Project Lead / Project Manager',\n",
       "        'NotAnswered',\n",
       "        'We document high-level requirements at beginning of the project and refine them to detailed requirements when needed (for instance, we document epics and refine them to user stories for the sprints).',\n",
       "        'NotAnswered', 'quoted', 'quoted', 'not quoted', 'not quoted',\n",
       "        'not quoted', 'not quoted', 'NotAnswered', 'not quoted',\n",
       "        'quoted', 'not quoted', 'not quoted', 'not quoted', 'not quoted',\n",
       "        'quoted', 'not quoted', 'not quoted', 'quoted', 'not quoted',\n",
       "        'quoted', 'not quoted', 'NotAnswered', 'quoted', 'not quoted',\n",
       "        'not quoted', 'not quoted', 'not quoted', 'not quoted',\n",
       "        'not quoted', 'not quoted', 'not quoted', 'not quoted', 'quoted',\n",
       "        'quoted', 'not quoted', 'not quoted', 'NotAnswered', 'quoted',\n",
       "        'not quoted', 'not quoted', 'quoted', 'not quoted', 'not quoted',\n",
       "        'not quoted', 'not quoted', 'not quoted', 'NotAnswered',\n",
       "        '#VALUE!', 'NotShown', 'NotShown', '#VALUE!', 'NotShown',\n",
       "        'NotShown', 'NotShown', 'NotShown', 'NotShown', 'not quoted',\n",
       "        'not quoted', 'quoted', 'not quoted', 'not quoted', 'not quoted',\n",
       "        'not quoted', 'NotAnswered', 'quoted', 'not quoted',\n",
       "        'not quoted', 'not quoted', 'not quoted', 'not quoted',\n",
       "        'NotAnswered',\n",
       "        'We work with change requests and continuously update our requirements specification accordingly also after formally accepted.',\n",
       "        'NotAnswered', 'Satisfied', 'NotShown', 'NotShown', 'NotShown',\n",
       "        'Without TIMELY changes. UNAMBIGUOUS requirements elicited. requirements elicited CORRECTLY',\n",
       "        'no sudden changes', 'NO', 'Rather applies', 'Strongly applies',\n",
       "        'Neutral', 'Rather applies', 'Rather applies', 'Neutral',\n",
       "        'Strongly applies', 'Strongly applies', 'Rather applies',\n",
       "        'Neutral', 'Rather applies', 'Rather applies',\n",
       "        'Strongly applies', 'Neutral', 'Neutral', 'Rather applies',\n",
       "        'Strongly applies', 'Strongly applies', 'Rather applies',\n",
       "        'Rather applies',\n",
       "        'Weak relationship between customer and project lead',\n",
       "        'Communication flaws within the project team',\n",
       "        'Insufficient support by project lead',\n",
       "        'Technically unfeasible requirements',\n",
       "        'Gold plating (implementation of features without corresponding requirements)',\n",
       "        'Restricted access on the application domain',\n",
       "        'Problems caused by unknown application terms', 'NotAnswered',\n",
       "        'NotAnswered', 'NotAnswered', 'poor PORTABILITY',\n",
       "        'CONFUSing and UNCLEAR REQUIREMENTS', 'NotAnswered',\n",
       "        'NotAnswered', 'NotAnswered', 'NO', 'NotAnswered']], dtype=object)"
      ]
     },
     "execution_count": 55,
     "metadata": {},
     "output_type": "execute_result"
    }
   ],
   "source": [
    "df[df.lfdn == 1484].values"
   ]
  },
  {
   "cell_type": "markdown",
   "metadata": {},
   "source": [
    "### How many answers do we have to 'code' (somewhat) in total?"
   ]
  },
  {
   "cell_type": "code",
   "execution_count": 62,
   "metadata": {},
   "outputs": [],
   "source": [
    "import os"
   ]
  },
  {
   "cell_type": "code",
   "execution_count": 70,
   "metadata": {},
   "outputs": [
    {
     "data": {
      "text/plain": [
       "7200"
      ]
     },
     "execution_count": 70,
     "metadata": {},
     "output_type": "execute_result"
    }
   ],
   "source": [
    "sum([int(x.split('_')[-1][:-4]) \n",
    "     for x in os.listdir(f'../../data/freetext') \n",
    "     if x.endswith('.csv')])"
   ]
  },
  {
   "cell_type": "markdown",
   "metadata": {},
   "source": [
    "# OOPS."
   ]
  }
 ],
 "metadata": {
  "kernelspec": {
   "display_name": "Python [conda env:tum]",
   "language": "python",
   "name": "conda-env-tum-py"
  },
  "language_info": {
   "codemirror_mode": {
    "name": "ipython",
    "version": 3
   },
   "file_extension": ".py",
   "mimetype": "text/x-python",
   "name": "python",
   "nbconvert_exporter": "python",
   "pygments_lexer": "ipython3",
   "version": "3.6.4"
  }
 },
 "nbformat": 4,
 "nbformat_minor": 2
}
