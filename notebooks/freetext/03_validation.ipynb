{
 "cells": [
  {
   "cell_type": "markdown",
   "metadata": {},
   "source": [
    "# Validation of Variables prior to integration into truth dataset\n",
    "\n",
    "**Note:** Validation of single variables based on isolated source files prior to merge\n",
    "* How to avoid deleting `NotCodable` tags when cleaning entries?\n",
    "* Ways to automate iterating steps for all files? (Does this even make sense?)"
   ]
  },
  {
   "cell_type": "code",
   "execution_count": null,
   "metadata": {},
   "outputs": [],
   "source": [
    "import pandas as pd\n",
    "import re, os"
   ]
  },
  {
   "cell_type": "code",
   "execution_count": null,
   "metadata": {},
   "outputs": [],
   "source": [
    "def group_and_count(df, varname, sort=True):\n",
    "    if not sort:\n",
    "        return df[['lfdn',varname]].groupby(varname).count()\n",
    "    else:\n",
    "        return df[['lfdn',varname]].groupby(varname).count().sort_values('lfdn', ascending=False)"
   ]
  },
  {
   "cell_type": "markdown",
   "metadata": {},
   "source": [
    "## Overall Validation Status"
   ]
  },
  {
   "cell_type": "markdown",
   "metadata": {},
   "source": [
    "### Quick Checks"
   ]
  },
  {
   "cell_type": "code",
   "execution_count": null,
   "metadata": {
    "scrolled": true
   },
   "outputs": [],
   "source": [
    "#df = pd.read_csv('../../data/freetext_coded/v_350_usability_188_coded.csv', sep=';')\n",
    "#df = pd.read_csv('../../data/freetext_coded/v_285_with_252_total_274_coded.csv', sep=';', encoding='latin-1')\n",
    "#pd.set_option('display.max_rows', None)\n",
    "#df.head(2)"
   ]
  },
  {
   "cell_type": "markdown",
   "metadata": {},
   "source": [
    "### Status"
   ]
  },
  {
   "cell_type": "markdown",
   "metadata": {},
   "source": [
    "| Variable | Content | Coding scheme | Status | Necessary Actions |\n",
    "| :--- | :---: | ---: | --- | --- |\n",
    "| v_2 | Sectors | `New Tags` | OK | None|\n",
    "| v_3 | Project Participants | `New Tags` | OK | None|\n",
    "| v_5 | System Class | `Code Back` | OK | None|\n",
    "| v_18 | Respondent Role | `Code Back` | OK | None|\n",
    "| v_19 | Experience | `New Tags` | OK | None|\n",
    "| v_20 | Certification | `New Tags` | OK | None|\n",
    "|**Relationship customer**|||||\n",
    "| v_26 | Reasons bad Relationship | `New Tags` | OK | None|\n",
    "| v_27 | Reasons good Relationship | `New Tags` | Unicode error (latin-1) - Otherwise OK | None|\n",
    "|**Documentation**|||||\n",
    "| v_60 | Documentation granularity | `Code Back` | OK | None|\n",
    "|**Top Problems: Causes and Effects**|||||\n",
    "| [v_277](#v_277) | Problems - Top 1: Cause | `New Tags` | Unicode error (latin-1), incomplete, category syntax| Clean up &rarr; Re-categorise &rarr; validate|\n",
    "| v_278 | Problems - Top 2: Cause | `New Tags` | Unicode error (latin-1), category syntax, missing values | Clean up &rarr; Re-categorise &rarr; validate|\n",
    "| v_279 | Problems - Top 3: Cause | `New Tags` | Category syntax, missing values (\"?\") | Clean up &rarr; Re-categorise &rarr; validate|\n",
    "| v_280 | Problems - Top 4: Cause | `New Tags` | Unicode error, category syntax, missing values (\"?\") | Clean up &rarr; Re-categorise &rarr; validate|\n",
    "| v_281 | Problems - Top 5: Cause | `New Tags` | Category syntax | Clean up &rarr; Re-categorise &rarr; validate|\n",
    "| v_282 | Problems - Top 1: Effect | `New Tags` | Category syntax | Clean up &rarr; Re-categorise &rarr; validate|\n",
    "| v_283 | Problems - Top 2: Effect | `New Tags` | Category syntax, missing values | Clean up &rarr; Re-categorise &rarr; validate|\n",
    "| v_284 | Problems - Top 3: Effect | `New Tags` | Category syntax, missing values | Clean up &rarr; Re-categorise &rarr; validate|\n",
    "| v_285 | Problems - Top 4: Effect | `New Tags` | Unicode error, category syntax, missing values | Clean up &rarr; Re-categorise &rarr; validate|\n",
    "| v_286 | Problems - Top 5: Effect | `New Tags` | OK | Clean up &rarr; Re-categorise &rarr; validate|\n",
    "|**Documentation NFRs**|||||\n",
    "| v_343 | Compatibility | `New Tags` | OK | None|\n",
    "| v_344 | Maintainability | `New Tags` | OK | None|\n",
    "| v_345 | Performance efficiency | `New Tags` | Missing values | Clean up|\n",
    "| v_346 | Portability | `New Tags` | OK | None|\n",
    "| v_347 | Reliability | `New Tags` | OK | None|\n",
    "| v_348 | Safety | `New Tags` | OK | Check semantics (\"Not\"?)|\n",
    "| v_349 | Security | `New Tags` | OK | None|\n",
    "| v_350 | Usability | `New Tags` | OK | None|"
   ]
  },
  {
   "cell_type": "markdown",
   "metadata": {},
   "source": [
    "### Data Cleaning and Validation"
   ]
  },
  {
   "cell_type": "markdown",
   "metadata": {},
   "source": [
    "#### Variable 277<a id=\"v_2\"></a>"
   ]
  },
  {
   "cell_type": "code",
   "execution_count": null,
   "metadata": {},
   "outputs": [],
   "source": [
    "#df = pd.read_csv('../../data/freetext_coded/v_350_usability_188_coded.csv', sep=';')\n",
    "df = pd.read_csv('../../data/freetext_coded/v_277_with_246_total_365_coded.csv', sep=';', encoding='latin-1')\n",
    "pd.set_option('display.max_rows', None)\n",
    "df.head(2)"
   ]
  },
  {
   "cell_type": "code",
   "execution_count": null,
   "metadata": {},
   "outputs": [],
   "source": [
    "df.shape"
   ]
  },
  {
   "cell_type": "markdown",
   "metadata": {},
   "source": [
    "**To-Do**\n",
    "* Show whole list and note correction items\n",
    "* Remove all Categories per detault\n",
    "* List all entries and save to intermediate file for validation\n",
    "\n",
    "_Manual work - syntactic revision_\n",
    "* Revise missing values\n",
    "* Revise duplicates, inconsistencies, and obvious typos manually based on list\n",
    "* Sum up Rework in notebook as a note\n",
    "\n",
    "_Correction and Interpretation_\n",
    "* Load file for intermediate validation\n",
    "* Add categories\n",
    "* Summarise all tags inluding problem category and answer\n",
    "* Visualise as intermediate _unvalidated_ result\n",
    "* Validate based on sample\n"
   ]
  },
  {
   "cell_type": "markdown",
   "metadata": {},
   "source": [
    "Show whole list"
   ]
  },
  {
   "cell_type": "code",
   "execution_count": null,
   "metadata": {},
   "outputs": [],
   "source": [
    "#df.drop_duplicates(subset='tag', keep=False)\n",
    "df.sort_values('tag')"
   ]
  },
  {
   "cell_type": "markdown",
   "metadata": {},
   "source": [
    "Clean syntactic sugar"
   ]
  },
  {
   "cell_type": "code",
   "execution_count": null,
   "metadata": {},
   "outputs": [],
   "source": [
    "#TBD\n",
    "#if 'NotCodable'not in df['tag']:\n",
    "#        df['tag'] = df['tag'].str.split(':').str[1] #Remove categories\n",
    "#    else: NotCodableCounter +=1\n",
    "#display(NotCodableCounter)"
   ]
  },
  {
   "cell_type": "code",
   "execution_count": null,
   "metadata": {},
   "outputs": [],
   "source": [
    "df['tag'] = df['tag'].str.lstrip() #Remove whitespaces at beginning"
   ]
  },
  {
   "cell_type": "code",
   "execution_count": null,
   "metadata": {
    "scrolled": false
   },
   "outputs": [],
   "source": [
    "df.sort_values('tag')"
   ]
  },
  {
   "cell_type": "markdown",
   "metadata": {},
   "source": [
    "Remove duplicates for coherent view"
   ]
  },
  {
   "cell_type": "code",
   "execution_count": null,
   "metadata": {},
   "outputs": [],
   "source": [
    "df.drop_duplicates(subset='tag', keep=False)"
   ]
  },
  {
   "cell_type": "code",
   "execution_count": null,
   "metadata": {},
   "outputs": [],
   "source": [
    "group_and_count(df, 'tag')"
   ]
  },
  {
   "cell_type": "code",
   "execution_count": null,
   "metadata": {},
   "outputs": [],
   "source": [
    "df.to_csv('../../data/freetext_coded/validation/v_277_with_246_total_365_validation.csv', sep=';', encoding='latin-1')"
   ]
  }
 ],
 "metadata": {
  "kernelspec": {
   "display_name": "Python [default]",
   "language": "python",
   "name": "python3"
  },
  "language_info": {
   "codemirror_mode": {
    "name": "ipython",
    "version": 3
   },
   "file_extension": ".py",
   "mimetype": "text/x-python",
   "name": "python",
   "nbconvert_exporter": "python",
   "pygments_lexer": "ipython3",
   "version": "3.6.4"
  }
 },
 "nbformat": 4,
 "nbformat_minor": 2
}
