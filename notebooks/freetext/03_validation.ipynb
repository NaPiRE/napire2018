{
 "cells": [
  {
   "cell_type": "markdown",
   "metadata": {},
   "source": [
    "# Validation of Variables prior to integration into truth dataset\n",
    "\n",
    "**Note:** Validation of single variables based on isolated source files prior to merge into truth data set"
   ]
  },
  {
   "cell_type": "code",
   "execution_count": null,
   "metadata": {},
   "outputs": [],
   "source": [
    "import pandas as pd\n",
    "import numpy as np\n",
    "import re, os\n",
    "import matplotlib.pyplot as plt\n",
    "%matplotlib inline"
   ]
  },
  {
   "cell_type": "code",
   "execution_count": null,
   "metadata": {},
   "outputs": [],
   "source": [
    "def group_and_count(df, varname, sort=True):\n",
    "    if not sort:\n",
    "        return df[['lfdn',varname]].groupby(varname).count()\n",
    "    else:\n",
    "        return df[['lfdn',varname]].groupby(varname).count().sort_values('lfdn', ascending=False)"
   ]
  },
  {
   "cell_type": "code",
   "execution_count": null,
   "metadata": {},
   "outputs": [],
   "source": [
    "def capitalise(str): \n",
    "    return str[:1].upper() + str[1:] # Capitalise first character only without modifying rest (otherwise title())"
   ]
  },
  {
   "cell_type": "markdown",
   "metadata": {},
   "source": [
    "## Overall Validation Status"
   ]
  },
  {
   "cell_type": "markdown",
   "metadata": {},
   "source": [
    "### Quick Checks\n",
    "(done)"
   ]
  },
  {
   "cell_type": "code",
   "execution_count": null,
   "metadata": {
    "scrolled": true
   },
   "outputs": [],
   "source": [
    "#df = pd.read_csv('../../data/freetext_coded/validation/v_350_usability_188_coded.csv', sep=';')\n",
    "#df = pd.read_csv('../../data/freetext_coded/validation/v_285_with_252_total_274_coded.csv', sep=';', encoding='latin-1')\n",
    "#pd.set_option('display.max_rows', None)\n",
    "#df.head(2)"
   ]
  },
  {
   "cell_type": "markdown",
   "metadata": {},
   "source": [
    "### Resulting Status prior to Data Cleaning"
   ]
  },
  {
   "cell_type": "markdown",
   "metadata": {},
   "source": [
    "| Variable | Content | Coding scheme | Status | Necessary Actions |\n",
    "| :--- | :---: | ---: | --- | --- |\n",
    "| v_2 | Sectors | `New Tags` | OK | None|\n",
    "| v_3 | Project Participants | `New Tags` | OK | None|\n",
    "| v_5 | System Class | `Code Back` | OK | None|\n",
    "| v_18 | Respondent Role | `Code Back` | OK | None|\n",
    "| v_19 | Experience | `New Tags` | OK | None|\n",
    "| v_20 | Certification | `New Tags` | OK | None|\n",
    "|**Relationship customer**|||||\n",
    "| v_26 | Reasons bad Relationship | `New Tags` | OK | None|\n",
    "| v_27 | Reasons good Relationship | `New Tags` | OK | None|\n",
    "|**Documentation**|||||\n",
    "| v_60 | Documentation granularity | `Code Back` | OK | None|\n",
    "|**Top Problems: Causes and Effects**|||||\n",
    "| [v_277](#v_277) | Problems - Top 1: Cause | `New Tags` | Unicode error (latin-1), incomplete, category syntax| Clean up &rarr; Re-categorise &rarr; validate|\n",
    "| [v_278](#v_278) | Problems - Top 2: Cause | `New Tags` | Unicode error (latin-1), category syntax, missing values | Clean up &rarr; Re-categorise &rarr; validate|\n",
    "| [v_279](#v_279) | Problems - Top 3: Cause | `New Tags` | Category syntax, missing values (\"?\") | Clean up &rarr; Re-categorise &rarr; validate|\n",
    "| [v_280](#v_280) | Problems - Top 4: Cause | `New Tags` | Category syntax, missing values (\"?\"), some very strange codes | Clean up &rarr; Re-categorise &rarr; validate|\n",
    "| [v_281](#v_281) | Problems - Top 5: Cause | `New Tags` | Category syntax | Clean up &rarr; Re-categorise &rarr; validate|\n",
    "| [v_282](#v_282) | Problems - Top 1: Effect | `New Tags` | Category syntax | Clean up &rarr; Re-categorise &rarr; validate|\n",
    "| [v_283](#v_283) | Problems - Top 2: Effect | `New Tags` | Category syntax, missing values | Clean up &rarr; Re-categorise &rarr; validate|\n",
    "| [v_284](#v_284) | Problems - Top 3: Effect | `New Tags` | Category syntax, missing values | Clean up &rarr; Re-categorise &rarr; validate|\n",
    "| [v_285](#v_285) | Problems - Top 4: Effect | `New Tags` | Unicode error, category syntax, missing values | Clean up &rarr; Re-categorise &rarr; validate|\n",
    "| [v_286](#v_286) | Problems - Top 5: Effect | `New Tags` | OK | Clean up &rarr; Re-categorise &rarr; validate|\n",
    "|**Documentation NFRs**|||||\n",
    "| v_343 | Compatibility | `New Tags` | OK | None|\n",
    "| v_344 | Maintainability | `New Tags` | OK | None|\n",
    "| [v_345](#v_345) | Performance efficiency | `New Tags` | Missing values | Clean up|\n",
    "| v_346 | Portability | `New Tags` | OK | None|\n",
    "| v_347 | Reliability | `New Tags` | OK | None|\n",
    "| [v_248](#v_248) | Safety | `New Tags` | OK | Check semantics (\"Not\"?)|\n",
    "| v_349 | Security | `New Tags` | OK | None|\n",
    "| v_350 | Usability | `New Tags` | OK | None|"
   ]
  },
  {
   "cell_type": "markdown",
   "metadata": {},
   "source": [
    "### Data Cleaning for Validation"
   ]
  },
  {
   "cell_type": "markdown",
   "metadata": {},
   "source": [
    "**Procedure** \n",
    "* Mark incomplete items \n",
    "* Clean syntactically remove categories and whitespaces\n",
    "* Manually correct inconsistencies based on obvious typos (also check case-sensitive writing)\n",
    "* Save to validation-file"
   ]
  },
  {
   "cell_type": "code",
   "execution_count": null,
   "metadata": {},
   "outputs": [],
   "source": [
    "#df_v277 = pd.read_csv('../../data/freetext_coded/validation/v_277_with_246_total_365_coded.csv', sep=';', encoding='latin-1')\n",
    "#df_v278 = pd.read_csv('../../data/freetext_coded/validation/v_278_with_248_total_344_coded.csv', sep=';', encoding='latin-1')\n",
    "#df_v279 = pd.read_csv('../../data/freetext_coded/validation/v_279_with_250_total_322_coded.csv', sep=';', encoding='latin-1')\n",
    "#df_v280 = pd.read_csv('../../data/freetext_coded/validation/v_280_with_252_total_296_coded.csv', sep=';', encoding='latin-1')\n",
    "df_v281 = pd.read_csv('../../data/freetext_coded/validation/v_281_with_254_total_274_coded.csv', sep=';', encoding='latin-1')\n",
    "#df_v282 = pd.read_csv('../../data/freetext_coded/validation/v_282_with_246_total_334_coded.csv', sep=';', encoding='latin-1')\n",
    "#df_v283 = pd.read_csv('../../data/freetext_coded/validation/v_283_with_248_total_316_coded.csv', sep=';', encoding='latin-1')\n",
    "#df_v284 = pd.read_csv('../../data/freetext_coded/validation/v_284_with_250_total_300_coded.csv', sep=';', encoding='latin-1')\n",
    "#df_v285 = pd.read_csv('../../data/freetext_coded/validation/v_285_with_252_total_274_coded.csv', sep=';', encoding='latin-1')\n",
    "#df_v286 = pd.read_csv('../../data/freetext_coded/validation/v_286_with_254_total_262_coded.csv', sep=';', encoding='latin-1')\n",
    "#df_v345 = pd.read_csv('../../data/freetext_coded/validation/v_345_performance_efficiency_184_coded.csv', sep=';', encoding='latin-1')\n",
    "#df_v348 = pd.read_csv('../../data/freetext_coded/validation/v_348_safety_69_coded.csv', sep=';', encoding='latin-1')\n",
    "pd.set_option('display.max_rows', None)"
   ]
  },
  {
   "cell_type": "markdown",
   "metadata": {},
   "source": [
    "#### Variable 277<a id=\"v_277\"></a>"
   ]
  },
  {
   "cell_type": "code",
   "execution_count": null,
   "metadata": {},
   "outputs": [],
   "source": [
    "df_v277.head(2)"
   ]
  },
  {
   "cell_type": "code",
   "execution_count": null,
   "metadata": {},
   "outputs": [],
   "source": [
    "df_v277.shape #check"
   ]
  },
  {
   "cell_type": "markdown",
   "metadata": {},
   "source": [
    "Show whole list to get an overview"
   ]
  },
  {
   "cell_type": "code",
   "execution_count": null,
   "metadata": {},
   "outputs": [],
   "source": [
    "df_v277.sort_values('tag')"
   ]
  },
  {
   "cell_type": "markdown",
   "metadata": {},
   "source": [
    "Clean syntactic sugar"
   ]
  },
  {
   "cell_type": "code",
   "execution_count": null,
   "metadata": {},
   "outputs": [],
   "source": [
    "df_v277 = df_v277.fillna(\"NEEDS CODING\") # fill empty values"
   ]
  },
  {
   "cell_type": "code",
   "execution_count": null,
   "metadata": {
    "scrolled": true
   },
   "outputs": [],
   "source": [
    "df_v277['tag'] = [str(x).split(':')[-1].lstrip().rstrip() for x in df_v277['tag']] #Remove whitespaces and kill categories"
   ]
  },
  {
   "cell_type": "code",
   "execution_count": null,
   "metadata": {},
   "outputs": [],
   "source": [
    "df_v277['tag'] = [capitalise(x) for x in df_v277['tag']] #Fix capitalisation"
   ]
  },
  {
   "cell_type": "code",
   "execution_count": null,
   "metadata": {
    "scrolled": false
   },
   "outputs": [],
   "source": [
    "df_v277.sort_values('tag')"
   ]
  },
  {
   "cell_type": "markdown",
   "metadata": {},
   "source": [
    "Last checks before export"
   ]
  },
  {
   "cell_type": "code",
   "execution_count": null,
   "metadata": {
    "scrolled": true
   },
   "outputs": [],
   "source": [
    "group_and_count(df_v277, 'tag')"
   ]
  },
  {
   "cell_type": "code",
   "execution_count": null,
   "metadata": {},
   "outputs": [],
   "source": [
    "df_v277.shape"
   ]
  },
  {
   "cell_type": "markdown",
   "metadata": {},
   "source": [
    "#### Variable 278<a id=\"v_278\"></a>"
   ]
  },
  {
   "cell_type": "code",
   "execution_count": null,
   "metadata": {},
   "outputs": [],
   "source": [
    "df_v278.head(2)"
   ]
  },
  {
   "cell_type": "code",
   "execution_count": null,
   "metadata": {},
   "outputs": [],
   "source": [
    "df_v278.shape #check"
   ]
  },
  {
   "cell_type": "markdown",
   "metadata": {},
   "source": [
    "Show whole list to get an overview"
   ]
  },
  {
   "cell_type": "code",
   "execution_count": null,
   "metadata": {},
   "outputs": [],
   "source": [
    "df_v278.sort_values('tag')"
   ]
  },
  {
   "cell_type": "markdown",
   "metadata": {},
   "source": [
    "Clean syntactic sugar"
   ]
  },
  {
   "cell_type": "code",
   "execution_count": null,
   "metadata": {},
   "outputs": [],
   "source": [
    "df_v278 = df_v278.fillna(\"NEEDS CODING\") # fill empty values"
   ]
  },
  {
   "cell_type": "code",
   "execution_count": null,
   "metadata": {
    "scrolled": true
   },
   "outputs": [],
   "source": [
    "df_v278['tag'] = [str(x).split(':')[-1].lstrip().rstrip() for x in df_v278['tag']] #Remove whitespaces and kill categories"
   ]
  },
  {
   "cell_type": "code",
   "execution_count": null,
   "metadata": {},
   "outputs": [],
   "source": [
    "df_v278['tag'] = [capitalise(x) for x in df_v278['tag']] #Fix capitalisation"
   ]
  },
  {
   "cell_type": "code",
   "execution_count": null,
   "metadata": {
    "scrolled": false
   },
   "outputs": [],
   "source": [
    "df_v278.sort_values('tag')"
   ]
  },
  {
   "cell_type": "markdown",
   "metadata": {},
   "source": [
    "Last checks before export"
   ]
  },
  {
   "cell_type": "code",
   "execution_count": null,
   "metadata": {
    "scrolled": true
   },
   "outputs": [],
   "source": [
    "group_and_count(df_v278, 'tag')"
   ]
  },
  {
   "cell_type": "code",
   "execution_count": null,
   "metadata": {},
   "outputs": [],
   "source": [
    "df_v278.shape"
   ]
  },
  {
   "cell_type": "markdown",
   "metadata": {},
   "source": [
    "#### Variable 279<a id=\"v_279\"></a>"
   ]
  },
  {
   "cell_type": "code",
   "execution_count": null,
   "metadata": {},
   "outputs": [],
   "source": [
    "df_v279.head(2)"
   ]
  },
  {
   "cell_type": "code",
   "execution_count": null,
   "metadata": {},
   "outputs": [],
   "source": [
    "df_v279.shape #check"
   ]
  },
  {
   "cell_type": "markdown",
   "metadata": {},
   "source": [
    "Show whole list to get an overview"
   ]
  },
  {
   "cell_type": "code",
   "execution_count": null,
   "metadata": {},
   "outputs": [],
   "source": [
    "df_v279.sort_values('tag')"
   ]
  },
  {
   "cell_type": "markdown",
   "metadata": {},
   "source": [
    "Clean syntactic sugar"
   ]
  },
  {
   "cell_type": "code",
   "execution_count": null,
   "metadata": {},
   "outputs": [],
   "source": [
    "df_v279 = df_v279.fillna(\"NEEDS CODING\") # fill empty values"
   ]
  },
  {
   "cell_type": "code",
   "execution_count": null,
   "metadata": {
    "scrolled": true
   },
   "outputs": [],
   "source": [
    "df_v279['tag'] = [str(x).split(':')[-1].lstrip().rstrip() for x in df_v279['tag']] #Remove whitespaces and kill categories"
   ]
  },
  {
   "cell_type": "code",
   "execution_count": null,
   "metadata": {},
   "outputs": [],
   "source": [
    "df_v279['tag'] = [capitalise(x) for x in df_v279['tag']] #Fix capitalisation"
   ]
  },
  {
   "cell_type": "code",
   "execution_count": null,
   "metadata": {
    "scrolled": false
   },
   "outputs": [],
   "source": [
    "df_v279.sort_values('tag')"
   ]
  },
  {
   "cell_type": "markdown",
   "metadata": {},
   "source": [
    "Last checks before export"
   ]
  },
  {
   "cell_type": "code",
   "execution_count": null,
   "metadata": {
    "scrolled": true
   },
   "outputs": [],
   "source": [
    "group_and_count(df_v279, 'tag')"
   ]
  },
  {
   "cell_type": "code",
   "execution_count": null,
   "metadata": {},
   "outputs": [],
   "source": [
    "df_v279.shape"
   ]
  },
  {
   "cell_type": "markdown",
   "metadata": {},
   "source": [
    "#### Variable 280<a id=\"v_280\"></a>"
   ]
  },
  {
   "cell_type": "code",
   "execution_count": null,
   "metadata": {},
   "outputs": [],
   "source": [
    "df_v280.head(2)"
   ]
  },
  {
   "cell_type": "code",
   "execution_count": null,
   "metadata": {},
   "outputs": [],
   "source": [
    "df_v280.shape #check"
   ]
  },
  {
   "cell_type": "markdown",
   "metadata": {},
   "source": [
    "Show whole list to get an overview"
   ]
  },
  {
   "cell_type": "code",
   "execution_count": null,
   "metadata": {},
   "outputs": [],
   "source": [
    "df_v280.sort_values('tag')"
   ]
  },
  {
   "cell_type": "markdown",
   "metadata": {},
   "source": [
    "Clean syntactic sugar"
   ]
  },
  {
   "cell_type": "code",
   "execution_count": null,
   "metadata": {},
   "outputs": [],
   "source": [
    "df_v280 = df_v280.fillna(\"NEEDS CODING\") # fill empty values"
   ]
  },
  {
   "cell_type": "code",
   "execution_count": null,
   "metadata": {
    "scrolled": true
   },
   "outputs": [],
   "source": [
    "df_v280['tag'] = [str(x).split(':')[-1].lstrip().rstrip() for x in df_v280['tag']] #Remove whitespaces and kill categories"
   ]
  },
  {
   "cell_type": "code",
   "execution_count": null,
   "metadata": {},
   "outputs": [],
   "source": [
    "df_v280['tag'] = [capitalise(x) for x in df_v280['tag']] #Fix capitalisation"
   ]
  },
  {
   "cell_type": "code",
   "execution_count": null,
   "metadata": {
    "scrolled": false
   },
   "outputs": [],
   "source": [
    "df_v280.sort_values('tag')"
   ]
  },
  {
   "cell_type": "markdown",
   "metadata": {},
   "source": [
    "Last checks before export"
   ]
  },
  {
   "cell_type": "code",
   "execution_count": null,
   "metadata": {
    "scrolled": true
   },
   "outputs": [],
   "source": [
    "group_and_count(df_v280, 'tag')"
   ]
  },
  {
   "cell_type": "code",
   "execution_count": null,
   "metadata": {},
   "outputs": [],
   "source": [
    "df_v280.shape"
   ]
  },
  {
   "cell_type": "markdown",
   "metadata": {},
   "source": [
    "#### Variable 281<a id=\"v_281\"></a>"
   ]
  },
  {
   "cell_type": "code",
   "execution_count": null,
   "metadata": {},
   "outputs": [],
   "source": [
    "df_v281.head(2)"
   ]
  },
  {
   "cell_type": "code",
   "execution_count": null,
   "metadata": {},
   "outputs": [],
   "source": [
    "df_v281.shape #check"
   ]
  },
  {
   "cell_type": "markdown",
   "metadata": {},
   "source": [
    "Show whole list to get an overview"
   ]
  },
  {
   "cell_type": "code",
   "execution_count": null,
   "metadata": {},
   "outputs": [],
   "source": [
    "df_v281.sort_values('tag')"
   ]
  },
  {
   "cell_type": "markdown",
   "metadata": {},
   "source": [
    "Clean syntactic sugar"
   ]
  },
  {
   "cell_type": "code",
   "execution_count": null,
   "metadata": {},
   "outputs": [],
   "source": [
    "df_v281 = df_v281.fillna(\"NEEDS CODING\") # fill empty values"
   ]
  },
  {
   "cell_type": "code",
   "execution_count": null,
   "metadata": {
    "scrolled": true
   },
   "outputs": [],
   "source": [
    "df_v281['tag'] = [str(x).split(':')[-1].lstrip().rstrip() for x in df_v281['tag']] #Remove whitespaces and kill categories"
   ]
  },
  {
   "cell_type": "code",
   "execution_count": null,
   "metadata": {},
   "outputs": [],
   "source": [
    "df_v281['tag'] = [capitalise(x) for x in df_v281['tag']] #Fix capitalisation"
   ]
  },
  {
   "cell_type": "code",
   "execution_count": null,
   "metadata": {
    "scrolled": false
   },
   "outputs": [],
   "source": [
    "df_v281.sort_values('tag')"
   ]
  },
  {
   "cell_type": "markdown",
   "metadata": {},
   "source": [
    "Last checks before export"
   ]
  },
  {
   "cell_type": "code",
   "execution_count": null,
   "metadata": {
    "scrolled": true
   },
   "outputs": [],
   "source": [
    "group_and_count(df_v281, 'tag')"
   ]
  },
  {
   "cell_type": "code",
   "execution_count": null,
   "metadata": {},
   "outputs": [],
   "source": [
    "df_v281.shape"
   ]
  },
  {
   "cell_type": "markdown",
   "metadata": {},
   "source": [
    "#### Variable 282<a id=\"v_282\"></a>"
   ]
  },
  {
   "cell_type": "code",
   "execution_count": null,
   "metadata": {},
   "outputs": [],
   "source": [
    "df_v282.head(2)"
   ]
  },
  {
   "cell_type": "code",
   "execution_count": null,
   "metadata": {},
   "outputs": [],
   "source": [
    "df_v282.shape #check"
   ]
  },
  {
   "cell_type": "markdown",
   "metadata": {},
   "source": [
    "Show whole list to get an overview"
   ]
  },
  {
   "cell_type": "code",
   "execution_count": null,
   "metadata": {},
   "outputs": [],
   "source": [
    "df_v282.sort_values('tag')"
   ]
  },
  {
   "cell_type": "markdown",
   "metadata": {},
   "source": [
    "Clean syntactic sugar"
   ]
  },
  {
   "cell_type": "code",
   "execution_count": null,
   "metadata": {},
   "outputs": [],
   "source": [
    "df_v282 = df_v282.fillna(\"NEEDS CODING\") # fill empty values"
   ]
  },
  {
   "cell_type": "code",
   "execution_count": null,
   "metadata": {
    "scrolled": true
   },
   "outputs": [],
   "source": [
    "df_v282['tag'] = [str(x).split(':')[-1].lstrip().rstrip() for x in df_v282['tag']] #Remove whitespaces and kill categories"
   ]
  },
  {
   "cell_type": "code",
   "execution_count": null,
   "metadata": {},
   "outputs": [],
   "source": [
    "df_v282['tag'] = [capitalise(x) for x in df_v282['tag']] #Fix capitalisation"
   ]
  },
  {
   "cell_type": "code",
   "execution_count": null,
   "metadata": {
    "scrolled": false
   },
   "outputs": [],
   "source": [
    "df_v282.sort_values('tag')"
   ]
  },
  {
   "cell_type": "markdown",
   "metadata": {},
   "source": [
    "Last checks before export"
   ]
  },
  {
   "cell_type": "code",
   "execution_count": null,
   "metadata": {
    "scrolled": true
   },
   "outputs": [],
   "source": [
    "group_and_count(df_v282, 'tag')"
   ]
  },
  {
   "cell_type": "code",
   "execution_count": null,
   "metadata": {},
   "outputs": [],
   "source": [
    "df_v282.shape"
   ]
  },
  {
   "cell_type": "markdown",
   "metadata": {},
   "source": [
    "#### Variable 283<a id=\"v_283\"></a>"
   ]
  },
  {
   "cell_type": "code",
   "execution_count": null,
   "metadata": {},
   "outputs": [],
   "source": [
    "df_v283.head(2)"
   ]
  },
  {
   "cell_type": "code",
   "execution_count": null,
   "metadata": {},
   "outputs": [],
   "source": [
    "df_v283.shape #check"
   ]
  },
  {
   "cell_type": "markdown",
   "metadata": {},
   "source": [
    "Show whole list to get an overview"
   ]
  },
  {
   "cell_type": "code",
   "execution_count": null,
   "metadata": {},
   "outputs": [],
   "source": [
    "df_v283.sort_values('tag')"
   ]
  },
  {
   "cell_type": "markdown",
   "metadata": {},
   "source": [
    "Clean syntactic sugar"
   ]
  },
  {
   "cell_type": "code",
   "execution_count": null,
   "metadata": {},
   "outputs": [],
   "source": [
    "df_v283 = df_v283.fillna(\"NEEDS CODING\") # fill empty values"
   ]
  },
  {
   "cell_type": "code",
   "execution_count": null,
   "metadata": {
    "scrolled": true
   },
   "outputs": [],
   "source": [
    "df_v283['tag'] = [str(x).split(':')[-1].lstrip().rstrip() for x in df_v283['tag']] #Remove whitespaces and kill categories"
   ]
  },
  {
   "cell_type": "code",
   "execution_count": null,
   "metadata": {},
   "outputs": [],
   "source": [
    "df_v283['tag'] = [capitalise(x) for x in df_v283['tag']] #Fix capitalisation"
   ]
  },
  {
   "cell_type": "code",
   "execution_count": null,
   "metadata": {
    "scrolled": false
   },
   "outputs": [],
   "source": [
    "df_v283.sort_values('tag')"
   ]
  },
  {
   "cell_type": "markdown",
   "metadata": {},
   "source": [
    "Last checks before export"
   ]
  },
  {
   "cell_type": "code",
   "execution_count": null,
   "metadata": {
    "scrolled": true
   },
   "outputs": [],
   "source": [
    "group_and_count(df_v283, 'tag')"
   ]
  },
  {
   "cell_type": "code",
   "execution_count": null,
   "metadata": {},
   "outputs": [],
   "source": [
    "df_v283.shape"
   ]
  },
  {
   "cell_type": "markdown",
   "metadata": {},
   "source": [
    "#### Variable 284<a id=\"v_284\"></a>"
   ]
  },
  {
   "cell_type": "code",
   "execution_count": null,
   "metadata": {},
   "outputs": [],
   "source": [
    "df_v284.head(2)"
   ]
  },
  {
   "cell_type": "code",
   "execution_count": null,
   "metadata": {},
   "outputs": [],
   "source": [
    "df_v284.shape #check"
   ]
  },
  {
   "cell_type": "markdown",
   "metadata": {},
   "source": [
    "Show whole list to get an overview"
   ]
  },
  {
   "cell_type": "code",
   "execution_count": null,
   "metadata": {},
   "outputs": [],
   "source": [
    "df_v284.sort_values('tag')"
   ]
  },
  {
   "cell_type": "markdown",
   "metadata": {},
   "source": [
    "Clean syntactic sugar"
   ]
  },
  {
   "cell_type": "code",
   "execution_count": null,
   "metadata": {},
   "outputs": [],
   "source": [
    "df_v284 = df_v284.fillna(\"NEEDS CODING\") # fill empty values"
   ]
  },
  {
   "cell_type": "code",
   "execution_count": null,
   "metadata": {
    "scrolled": true
   },
   "outputs": [],
   "source": [
    "df_v284['tag'] = [str(x).split(':')[-1].lstrip().rstrip() for x in df_v284['tag']] #Remove whitespaces and kill categories"
   ]
  },
  {
   "cell_type": "code",
   "execution_count": null,
   "metadata": {},
   "outputs": [],
   "source": [
    "df_v284['tag'] = [capitalise(x) for x in df_v284['tag']] #Fix capitalisation"
   ]
  },
  {
   "cell_type": "code",
   "execution_count": null,
   "metadata": {
    "scrolled": false
   },
   "outputs": [],
   "source": [
    "df_v284.sort_values('tag')"
   ]
  },
  {
   "cell_type": "markdown",
   "metadata": {},
   "source": [
    "Last checks before export"
   ]
  },
  {
   "cell_type": "code",
   "execution_count": null,
   "metadata": {
    "scrolled": true
   },
   "outputs": [],
   "source": [
    "group_and_count(df_v284, 'tag')"
   ]
  },
  {
   "cell_type": "code",
   "execution_count": null,
   "metadata": {},
   "outputs": [],
   "source": [
    "df_v284.shape"
   ]
  },
  {
   "cell_type": "markdown",
   "metadata": {},
   "source": [
    "#### Variable 285<a id=\"v_285\"></a>"
   ]
  },
  {
   "cell_type": "code",
   "execution_count": null,
   "metadata": {},
   "outputs": [],
   "source": [
    "df_v285.head(2)"
   ]
  },
  {
   "cell_type": "code",
   "execution_count": null,
   "metadata": {},
   "outputs": [],
   "source": [
    "df_v285.shape #check"
   ]
  },
  {
   "cell_type": "markdown",
   "metadata": {},
   "source": [
    "Show whole list to get an overview"
   ]
  },
  {
   "cell_type": "code",
   "execution_count": null,
   "metadata": {},
   "outputs": [],
   "source": [
    "df_v285.sort_values('tag')"
   ]
  },
  {
   "cell_type": "markdown",
   "metadata": {},
   "source": [
    "Clean syntactic sugar"
   ]
  },
  {
   "cell_type": "code",
   "execution_count": null,
   "metadata": {},
   "outputs": [],
   "source": [
    "df_v285 = df_v285.fillna(\"NEEDS CODING\") # fill empty values"
   ]
  },
  {
   "cell_type": "code",
   "execution_count": null,
   "metadata": {
    "scrolled": true
   },
   "outputs": [],
   "source": [
    "df_v285['tag'] = [str(x).split(':')[-1].lstrip().rstrip() for x in df_v285['tag']] #Remove whitespaces and kill categories"
   ]
  },
  {
   "cell_type": "code",
   "execution_count": null,
   "metadata": {},
   "outputs": [],
   "source": [
    "df_v285['tag'] = [capitalise(x) for x in df_v285['tag']] #Fix capitalisation"
   ]
  },
  {
   "cell_type": "code",
   "execution_count": null,
   "metadata": {
    "scrolled": false
   },
   "outputs": [],
   "source": [
    "df_v285.sort_values('tag')"
   ]
  },
  {
   "cell_type": "markdown",
   "metadata": {},
   "source": [
    "Last checks before export"
   ]
  },
  {
   "cell_type": "code",
   "execution_count": null,
   "metadata": {
    "scrolled": true
   },
   "outputs": [],
   "source": [
    "group_and_count(df_v285, 'tag')"
   ]
  },
  {
   "cell_type": "code",
   "execution_count": null,
   "metadata": {},
   "outputs": [],
   "source": [
    "df_v285.shape"
   ]
  },
  {
   "cell_type": "markdown",
   "metadata": {},
   "source": [
    "#### Variable 286<a id=\"v_286\"></a>"
   ]
  },
  {
   "cell_type": "code",
   "execution_count": null,
   "metadata": {},
   "outputs": [],
   "source": [
    "df_v286.head(2)"
   ]
  },
  {
   "cell_type": "code",
   "execution_count": null,
   "metadata": {},
   "outputs": [],
   "source": [
    "df_v286.shape #check"
   ]
  },
  {
   "cell_type": "markdown",
   "metadata": {},
   "source": [
    "Show whole list to get an overview"
   ]
  },
  {
   "cell_type": "code",
   "execution_count": null,
   "metadata": {},
   "outputs": [],
   "source": [
    "df_v286.sort_values('tag')"
   ]
  },
  {
   "cell_type": "markdown",
   "metadata": {},
   "source": [
    "Clean syntactic sugar"
   ]
  },
  {
   "cell_type": "code",
   "execution_count": null,
   "metadata": {},
   "outputs": [],
   "source": [
    "df_v286 = df_v286.fillna(\"NEEDS CODING\") # fill empty values"
   ]
  },
  {
   "cell_type": "code",
   "execution_count": null,
   "metadata": {
    "scrolled": true
   },
   "outputs": [],
   "source": [
    "df_v286['tag'] = [str(x).split(':')[-1].lstrip().rstrip() for x in df_v286['tag']] #Remove whitespaces and kill categories"
   ]
  },
  {
   "cell_type": "code",
   "execution_count": null,
   "metadata": {},
   "outputs": [],
   "source": [
    "df_v286['tag'] = [capitalise(x) for x in df_v286['tag']] #Fix capitalisation"
   ]
  },
  {
   "cell_type": "code",
   "execution_count": null,
   "metadata": {
    "scrolled": false
   },
   "outputs": [],
   "source": [
    "df_v286.sort_values('tag')"
   ]
  },
  {
   "cell_type": "markdown",
   "metadata": {},
   "source": [
    "Last checks before export"
   ]
  },
  {
   "cell_type": "code",
   "execution_count": null,
   "metadata": {
    "scrolled": true
   },
   "outputs": [],
   "source": [
    "group_and_count(df_v286, 'tag')"
   ]
  },
  {
   "cell_type": "code",
   "execution_count": null,
   "metadata": {},
   "outputs": [],
   "source": [
    "df_v286.shape"
   ]
  },
  {
   "cell_type": "markdown",
   "metadata": {},
   "source": [
    "#### Variable 345<a id=\"v_345\"></a>"
   ]
  },
  {
   "cell_type": "code",
   "execution_count": null,
   "metadata": {},
   "outputs": [],
   "source": [
    "df_v345.head(2)"
   ]
  },
  {
   "cell_type": "code",
   "execution_count": null,
   "metadata": {},
   "outputs": [],
   "source": [
    "df_v345.shape #check"
   ]
  },
  {
   "cell_type": "markdown",
   "metadata": {},
   "source": [
    "Show whole list to get an overview"
   ]
  },
  {
   "cell_type": "code",
   "execution_count": null,
   "metadata": {},
   "outputs": [],
   "source": [
    "df_v345.sort_values('tag')"
   ]
  },
  {
   "cell_type": "markdown",
   "metadata": {},
   "source": [
    "Clean syntactic sugar"
   ]
  },
  {
   "cell_type": "code",
   "execution_count": null,
   "metadata": {},
   "outputs": [],
   "source": [
    "df_v345 = df_v345.fillna(\"NEEDS CODING\") # fill empty values"
   ]
  },
  {
   "cell_type": "code",
   "execution_count": null,
   "metadata": {
    "scrolled": true
   },
   "outputs": [],
   "source": [
    "df_v345['tag'] = [str(x).lstrip().rstrip() for x in df_v345['tag']] #Remove whitespaces"
   ]
  },
  {
   "cell_type": "code",
   "execution_count": null,
   "metadata": {},
   "outputs": [],
   "source": [
    "df_v345['tag'] = [capitalise(x) for x in df_v345['tag']] #Fix capitalisation"
   ]
  },
  {
   "cell_type": "code",
   "execution_count": null,
   "metadata": {
    "scrolled": false
   },
   "outputs": [],
   "source": [
    "df_v345.sort_values('tag')"
   ]
  },
  {
   "cell_type": "markdown",
   "metadata": {},
   "source": [
    "Last checks before export"
   ]
  },
  {
   "cell_type": "code",
   "execution_count": null,
   "metadata": {
    "scrolled": true
   },
   "outputs": [],
   "source": [
    "group_and_count(df_v345, 'tag')"
   ]
  },
  {
   "cell_type": "code",
   "execution_count": null,
   "metadata": {},
   "outputs": [],
   "source": [
    "df_v345.shape"
   ]
  },
  {
   "cell_type": "markdown",
   "metadata": {},
   "source": [
    "#### Variable 348<a id=\"v_348\"></a>"
   ]
  },
  {
   "cell_type": "code",
   "execution_count": null,
   "metadata": {},
   "outputs": [],
   "source": [
    "df_v348.head(2)"
   ]
  },
  {
   "cell_type": "code",
   "execution_count": null,
   "metadata": {},
   "outputs": [],
   "source": [
    "df_v348.shape #check"
   ]
  },
  {
   "cell_type": "markdown",
   "metadata": {},
   "source": [
    "Show whole list to get an overview"
   ]
  },
  {
   "cell_type": "code",
   "execution_count": null,
   "metadata": {},
   "outputs": [],
   "source": [
    "df_v348.sort_values('tag')"
   ]
  },
  {
   "cell_type": "markdown",
   "metadata": {},
   "source": [
    "Clean syntactic sugar"
   ]
  },
  {
   "cell_type": "code",
   "execution_count": null,
   "metadata": {},
   "outputs": [],
   "source": [
    "df_v348 = df_v348.fillna(\"NEEDS CODING\") # fill empty values"
   ]
  },
  {
   "cell_type": "code",
   "execution_count": null,
   "metadata": {
    "scrolled": true
   },
   "outputs": [],
   "source": [
    "df_v348['tag'] = [str(x).lstrip().rstrip() for x in df_v348['tag']] #Remove whitespaces"
   ]
  },
  {
   "cell_type": "code",
   "execution_count": null,
   "metadata": {},
   "outputs": [],
   "source": [
    "df_v348['tag'] = [capitalise(x) for x in df_v348['tag']] #Fix capitalisation"
   ]
  },
  {
   "cell_type": "code",
   "execution_count": null,
   "metadata": {
    "scrolled": false
   },
   "outputs": [],
   "source": [
    "df_v348.sort_values('tag')"
   ]
  },
  {
   "cell_type": "markdown",
   "metadata": {},
   "source": [
    "Last checks before export"
   ]
  },
  {
   "cell_type": "code",
   "execution_count": null,
   "metadata": {
    "scrolled": true
   },
   "outputs": [],
   "source": [
    "group_and_count(df_v348, 'tag')"
   ]
  },
  {
   "cell_type": "code",
   "execution_count": null,
   "metadata": {},
   "outputs": [],
   "source": [
    "df_v348.shape"
   ]
  },
  {
   "cell_type": "markdown",
   "metadata": {},
   "source": [
    "### Export Cleaning for Validation\n",
    "**Note for validation:** Correct entries based on sample"
   ]
  },
  {
   "cell_type": "code",
   "execution_count": null,
   "metadata": {},
   "outputs": [],
   "source": [
    "#df_v277.to_csv('../../data/freetext_coded/validation/v_277_with_246_total_365_validation.csv', sep=';', encoding='latin-1')\n",
    "#df_v278.to_csv('../../data/freetext_coded/validation/v_278_with_248_total_344_validation.csv', sep=';', encoding='latin-1')\n",
    "#df_v279.to_csv('../../data/freetext_coded/validation/v_279_with_250_total_322__validation.csv', sep=';', encoding='latin-1')\n",
    "#df_v280.to_csv('../../data/freetext_coded/validation/v_280_with_252_total_296_validation.csv', sep=';', encoding='latin-1')\n",
    "df_v281.to_csv('../../data/freetext_coded/validation/v_281_with_254_total_274_validation.csv', sep=';', encoding='latin-1')\n",
    "#df_v282.to_csv('../../data/freetext_coded/validation/v_282_with_246_total_334_validation.csv', sep=';', encoding='latin-1')\n",
    "#df_v283.to_csv('../../data/freetext_coded/validation/v_283_with_248_total_316_validation.csv', sep=';', encoding='latin-1')\n",
    "#df_v284.to_csv('../../data/freetext_coded/validation/v_284_with_250_total_300_validation.csv', sep=';', encoding='latin-1')\n",
    "#df_v285.to_csv('../../data/freetext_coded/validation/v_285_with_252_total_274_validation.csv', sep=';', encoding='latin-1')\n",
    "#df_v345.to_csv('../../data/freetext_coded/validation/v_345_performance_efficiency_184_validation.csv', sep=';', encoding='latin-1')\n",
    "#df_v348.to_csv('../../data/freetext_coded/validation/v_348_safety_69_validation.csv', sep=';', encoding='latin-1')"
   ]
  },
  {
   "cell_type": "markdown",
   "metadata": {},
   "source": [
    "### Import Validated Results for Integration into truth sets\n",
    "**Note for validation:** \n",
    "* Re-assign validated codes to categories via fixed dictionaries\n",
    "* Check plots and compare across top problems\n",
    "* write to files under `coded`"
   ]
  },
  {
   "cell_type": "code",
   "execution_count": null,
   "metadata": {},
   "outputs": [],
   "source": [
    "#TBD"
   ]
  }
 ],
 "metadata": {
  "kernelspec": {
   "display_name": "Python [conda env:anaconda3]",
   "language": "python",
   "name": "conda-env-anaconda3-py"
  },
  "language_info": {
   "codemirror_mode": {
    "name": "ipython",
    "version": 3
   },
   "file_extension": ".py",
   "mimetype": "text/x-python",
   "name": "python",
   "nbconvert_exporter": "python",
   "pygments_lexer": "ipython3",
   "version": "3.6.4"
  }
 },
 "nbformat": 4,
 "nbformat_minor": 2
}
