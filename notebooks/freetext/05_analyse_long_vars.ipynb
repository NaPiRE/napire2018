{
 "cells": [
  {
   "cell_type": "markdown",
   "metadata": {},
   "source": [
    "## Long Text Variable Analysis (Descriptive and in isolation from rest of data set)\n",
    "\n",
    "**Note:** Merge of isolated variables necessary"
   ]
  },
  {
   "cell_type": "markdown",
   "metadata": {},
   "source": [
    "### Table of Contents and Overview\n",
    "\n",
    "| Variable | Content | Answers | Suggestion | Responsibility |\n",
    "| :--- | :---: | ---: | --- | --- |\n",
    "||**Reason Bad/Good Relationship**||||\n",
    "| [Variable 26](#v_26) | |3 |`Read` | DMF|\n",
    "| [Variable 27](#v_27) | | 102|`Code` | DMF|\n",
    "||**RE (Dis)Satisfaction**||`Code` | DG|\n",
    "||RE Dissatisfaction||||\n",
    "| [Variable 168](#v_168) | | 92||\"|\n",
    "| [Variable 169](#v_169) | |195 ||\"|\n",
    "| [Variable 170](#v_170) | | 91||\"|\n",
    "||RE Satisfaction||||\n",
    "| [Variable 171](#v_171) | | 93||\"|\n",
    "| [Variable 172](#v_172) | | 185||\"|\n",
    "| [Variable 173](#v_173) | | 178||\"|\n",
    "||**Top Problems: Causes and Effects**||`Merge` with `v in range(246,255,2)`, <br>`Sort` (both CC, DONE), then `Code`| DMF, MK|\n",
    "||Top Problems: Causes||||\n",
    "| [Variable 277](#v_277) | | 365||\"|\n",
    "| [Variable 278](#v_278) | | 344||\"|\n",
    "| [Variable 279](#v_279) | | 322||\"|\n",
    "| [Variable 280](#v_280) | | 296||\"|\n",
    "| [Variable 281](#v_281) | | 274||\"|\n",
    "||Top Problems: Effects||||\n",
    "| [Variable 282](#v_282) | | 334||\"|\n",
    "| [Variable 283](#v_283) | | 316||\"|\n",
    "| [Variable 284](#v_284) | | 300||\"|\n",
    "| [Variable 285](#v_285) | | 274||\"|\n",
    "| [Variable 286](#v_286) | | 262||\"|\n",
    "||**Unaddressed Aspect**||`Later` | DMF, MK|\n",
    "| [Variable 297](#v_297) | | 148||\"|\n",
    "||**NFR Documentation**||`Code` | DMF, MK|\n",
    "| [Variable 343](#v_343) | | 129||\"|\n",
    "| [Variable 344](#v_344) | | 126||\"|\n",
    "| [Variable 345](#v_345) | | 184||\"|\n",
    "| [Variable 346](#v_346) | | 61||\"|\n",
    "| [Variable 347](#v_347) | | 132||\"|\n",
    "| [Variable 348](#v_348) | | 69||\"|\n",
    "| [Variable 349](#v_349) | | 173||\"|\n",
    "| [Variable 350](#v_350) | | 188||\"|\n",
    "| [Variable 351](#v_351) | | 10|`Drop`|-|"
   ]
  },
  {
   "cell_type": "markdown",
   "metadata": {},
   "source": [
    "### Preparation\n"
   ]
  },
  {
   "cell_type": "code",
   "execution_count": 1,
   "metadata": {},
   "outputs": [],
   "source": [
    "import pandas as pd\n",
    "import re, os\n",
    "import ipywidgets as widgets"
   ]
  },
  {
   "cell_type": "code",
   "execution_count": 2,
   "metadata": {
    "scrolled": true
   },
   "outputs": [
    {
     "data": {
      "text/html": [
       "<div>\n",
       "<style scoped>\n",
       "    .dataframe tbody tr th:only-of-type {\n",
       "        vertical-align: middle;\n",
       "    }\n",
       "\n",
       "    .dataframe tbody tr th {\n",
       "        vertical-align: top;\n",
       "    }\n",
       "\n",
       "    .dataframe thead th {\n",
       "        text-align: right;\n",
       "    }\n",
       "</style>\n",
       "<table border=\"1\" class=\"dataframe\">\n",
       "  <thead>\n",
       "    <tr style=\"text-align: right;\">\n",
       "      <th></th>\n",
       "      <th>lfdn</th>\n",
       "      <th>v_300</th>\n",
       "      <th>v_23</th>\n",
       "      <th>v_3</th>\n",
       "      <th>v_1</th>\n",
       "      <th>v_2</th>\n",
       "      <th>v_4</th>\n",
       "      <th>v_5</th>\n",
       "      <th>v_6</th>\n",
       "      <th>v_7</th>\n",
       "      <th>...</th>\n",
       "      <th>v_279</th>\n",
       "      <th>v_280</th>\n",
       "      <th>v_281</th>\n",
       "      <th>v_282</th>\n",
       "      <th>v_283</th>\n",
       "      <th>v_284</th>\n",
       "      <th>v_285</th>\n",
       "      <th>v_286</th>\n",
       "      <th>v_194</th>\n",
       "      <th>v_297</th>\n",
       "    </tr>\n",
       "  </thead>\n",
       "  <tbody>\n",
       "    <tr>\n",
       "      <th>0</th>\n",
       "      <td>30</td>\n",
       "      <td>English</td>\n",
       "      <td>Japan</td>\n",
       "      <td>7</td>\n",
       "      <td>Agriculture</td>\n",
       "      <td>NotAnswered</td>\n",
       "      <td>Software-intensive embedded systems</td>\n",
       "      <td>NotAnswered</td>\n",
       "      <td>not quoted</td>\n",
       "      <td>quoted</td>\n",
       "      <td>...</td>\n",
       "      <td>NotShown</td>\n",
       "      <td>NotShown</td>\n",
       "      <td>NotShown</td>\n",
       "      <td>NotAnswered</td>\n",
       "      <td>NotAnswered</td>\n",
       "      <td>NotShown</td>\n",
       "      <td>NotShown</td>\n",
       "      <td>NotShown</td>\n",
       "      <td>Nothing</td>\n",
       "      <td>Since systems we developed face the natural en...</td>\n",
       "    </tr>\n",
       "    <tr>\n",
       "      <th>1</th>\n",
       "      <td>33</td>\n",
       "      <td>English</td>\n",
       "      <td>Argentina</td>\n",
       "      <td>5</td>\n",
       "      <td>Manufacturing</td>\n",
       "      <td>NotAnswered</td>\n",
       "      <td>Software-intensive embedded systems</td>\n",
       "      <td>NotAnswered</td>\n",
       "      <td>quoted</td>\n",
       "      <td>not quoted</td>\n",
       "      <td>...</td>\n",
       "      <td>NotAnswered</td>\n",
       "      <td>NotAnswered</td>\n",
       "      <td>NotAnswered</td>\n",
       "      <td>NotAnswered</td>\n",
       "      <td>NotAnswered</td>\n",
       "      <td>NotAnswered</td>\n",
       "      <td>NotAnswered</td>\n",
       "      <td>NotAnswered</td>\n",
       "      <td>NotAnswered</td>\n",
       "      <td>NotAnswered</td>\n",
       "    </tr>\n",
       "  </tbody>\n",
       "</table>\n",
       "<p>2 rows × 165 columns</p>\n",
       "</div>"
      ],
      "text/plain": [
       "   lfdn    v_300       v_23 v_3            v_1          v_2  \\\n",
       "0    30  English      Japan   7    Agriculture  NotAnswered   \n",
       "1    33  English  Argentina   5  Manufacturing  NotAnswered   \n",
       "\n",
       "                                   v_4          v_5         v_6         v_7  \\\n",
       "0  Software-intensive embedded systems  NotAnswered  not quoted      quoted   \n",
       "1  Software-intensive embedded systems  NotAnswered      quoted  not quoted   \n",
       "\n",
       "                         ...                                v_279  \\\n",
       "0                        ...                             NotShown   \n",
       "1                        ...                          NotAnswered   \n",
       "\n",
       "         v_280        v_281        v_282        v_283        v_284  \\\n",
       "0     NotShown     NotShown  NotAnswered  NotAnswered     NotShown   \n",
       "1  NotAnswered  NotAnswered  NotAnswered  NotAnswered  NotAnswered   \n",
       "\n",
       "         v_285        v_286        v_194  \\\n",
       "0     NotShown     NotShown      Nothing   \n",
       "1  NotAnswered  NotAnswered  NotAnswered   \n",
       "\n",
       "                                               v_297  \n",
       "0  Since systems we developed face the natural en...  \n",
       "1                                        NotAnswered  \n",
       "\n",
       "[2 rows x 165 columns]"
      ]
     },
     "execution_count": 2,
     "metadata": {},
     "output_type": "execute_result"
    }
   ],
   "source": [
    "df = pd.read_csv('../../data/napire_truth.csv', sep=';')\n",
    "df.head(2)"
   ]
  },
  {
   "cell_type": "code",
   "execution_count": 3,
   "metadata": {},
   "outputs": [
    {
     "data": {
      "text/plain": [
       "(488, 165)"
      ]
     },
     "execution_count": 3,
     "metadata": {},
     "output_type": "execute_result"
    }
   ],
   "source": [
    "df.shape"
   ]
  },
  {
   "cell_type": "markdown",
   "metadata": {},
   "source": [
    "## Reasons for bad/good customer relationships\n",
    "Filter: In general, how would you rate the relationship between your project team and your customer?"
   ]
  },
  {
   "cell_type": "markdown",
   "metadata": {},
   "source": [
    "### Variable 26<a id=\"v_26\"></a>"
   ]
  },
  {
   "cell_type": "markdown",
   "metadata": {},
   "source": [
    "In your opinion, what is the reason for the particularly bad relationship?"
   ]
  },
  {
   "cell_type": "code",
   "execution_count": null,
   "metadata": {},
   "outputs": [],
   "source": [
    "#TDB"
   ]
  },
  {
   "cell_type": "markdown",
   "metadata": {},
   "source": [
    "### Variable 27<a id=\"v_27\"></a>"
   ]
  },
  {
   "cell_type": "markdown",
   "metadata": {},
   "source": [
    "In your opinion, what is the reason for the particularly good relationship?"
   ]
  },
  {
   "cell_type": "code",
   "execution_count": null,
   "metadata": {},
   "outputs": [],
   "source": [
    "#TDB"
   ]
  },
  {
   "cell_type": "markdown",
   "metadata": {},
   "source": [
    "___\n",
    "___"
   ]
  },
  {
   "cell_type": "markdown",
   "metadata": {},
   "source": [
    "## RE (Dis)Satisfaction\n",
    "Filter: Right now, how satisfied are you with how requirements\n",
    "engineering is done in your project?\n",
    "\n",
    "**Note:** `v_168` is partner variable of `v_171`, `v_169` is partner variable of `v_172`, `v_170` is partner variable of `v_173` (the first is asked in the dissatisfaction, the second is asked in the satisfaction case)"
   ]
  },
  {
   "cell_type": "markdown",
   "metadata": {},
   "source": [
    "### Case: RE Dissatisfaction"
   ]
  },
  {
   "cell_type": "markdown",
   "metadata": {},
   "source": [
    "### Variable 168<a id=\"v_168\"></a>"
   ]
  },
  {
   "cell_type": "markdown",
   "metadata": {},
   "source": [
    "Why are you rather dissatisfied with how requirements engineering is done in your project?"
   ]
  },
  {
   "cell_type": "code",
   "execution_count": null,
   "metadata": {},
   "outputs": [],
   "source": [
    "#TDB"
   ]
  },
  {
   "cell_type": "markdown",
   "metadata": {},
   "source": [
    "### Variable 169<a id=\"v_169\"></a>"
   ]
  },
  {
   "cell_type": "markdown",
   "metadata": {},
   "source": [
    "What are the consequences of the dissatisfying requirements engineering?"
   ]
  },
  {
   "cell_type": "code",
   "execution_count": null,
   "metadata": {},
   "outputs": [],
   "source": [
    "#TDB"
   ]
  },
  {
   "cell_type": "markdown",
   "metadata": {},
   "source": [
    "### Variable 170<a id=\"v_170\"></a>"
   ]
  },
  {
   "cell_type": "markdown",
   "metadata": {},
   "source": [
    "What should change in your requirements engineering in order to make it satisfying?"
   ]
  },
  {
   "cell_type": "code",
   "execution_count": null,
   "metadata": {},
   "outputs": [],
   "source": [
    "#TDB"
   ]
  },
  {
   "cell_type": "markdown",
   "metadata": {},
   "source": [
    "### Case: RE Satisfaction"
   ]
  },
  {
   "cell_type": "markdown",
   "metadata": {},
   "source": [
    "### Variable 171<a id=\"v_171\"></a>"
   ]
  },
  {
   "cell_type": "markdown",
   "metadata": {},
   "source": [
    "Why are you rather satisfied with how requirements engineering is done in your project?"
   ]
  },
  {
   "cell_type": "code",
   "execution_count": null,
   "metadata": {},
   "outputs": [],
   "source": [
    "#TDB"
   ]
  },
  {
   "cell_type": "markdown",
   "metadata": {},
   "source": [
    "### Variable 172<a id=\"v_172\"></a>"
   ]
  },
  {
   "cell_type": "markdown",
   "metadata": {},
   "source": [
    "What are the consequenes of the satisfying requirements engineering?"
   ]
  },
  {
   "cell_type": "code",
   "execution_count": null,
   "metadata": {},
   "outputs": [],
   "source": [
    "#TDB"
   ]
  },
  {
   "cell_type": "markdown",
   "metadata": {},
   "source": [
    "### Variable 173<a id=\"v_173\"></a>"
   ]
  },
  {
   "cell_type": "markdown",
   "metadata": {},
   "source": [
    "At some point in the past, you were likely not fully satisfied with your project's requirements engineering. If anything, what happened to make you satisfied?"
   ]
  },
  {
   "cell_type": "code",
   "execution_count": null,
   "metadata": {},
   "outputs": [],
   "source": [
    "#TDB"
   ]
  },
  {
   "cell_type": "markdown",
   "metadata": {},
   "source": [
    "___\n",
    "___"
   ]
  },
  {
   "cell_type": "markdown",
   "metadata": {},
   "source": [
    "## Problems Causes Effects\n",
    "\n",
    "**Note:** This is context-dependent - the answers cannot be understood without knowing respondents' `TOP Problem` selections (whoever designed this survey this way: screw you)."
   ]
  },
  {
   "cell_type": "markdown",
   "metadata": {},
   "source": [
    "### Causes\n",
    "Considering your personally experienced most critical problems selected in the previous question, which causes do they have?"
   ]
  },
  {
   "cell_type": "markdown",
   "metadata": {},
   "source": [
    "### Variable 277<a id=\"v_277\"></a>"
   ]
  },
  {
   "cell_type": "markdown",
   "metadata": {},
   "source": [
    "Problem `v_246` (TOP 1)"
   ]
  },
  {
   "cell_type": "code",
   "execution_count": null,
   "metadata": {},
   "outputs": [],
   "source": [
    "#TDB"
   ]
  },
  {
   "cell_type": "markdown",
   "metadata": {},
   "source": [
    "### Variable 278<a id=\"v_278\"></a>"
   ]
  },
  {
   "cell_type": "markdown",
   "metadata": {},
   "source": [
    "Problem `v_248` (TOP 2)"
   ]
  },
  {
   "cell_type": "code",
   "execution_count": null,
   "metadata": {},
   "outputs": [],
   "source": [
    "#TDB"
   ]
  },
  {
   "cell_type": "markdown",
   "metadata": {},
   "source": [
    "### Variable 279<a id=\"v_279\"></a>"
   ]
  },
  {
   "cell_type": "markdown",
   "metadata": {},
   "source": [
    "Problem `v_250` (TOP 3)"
   ]
  },
  {
   "cell_type": "code",
   "execution_count": null,
   "metadata": {},
   "outputs": [],
   "source": [
    "#TDB"
   ]
  },
  {
   "cell_type": "markdown",
   "metadata": {},
   "source": [
    "### Variable 280<a id=\"v_280\"></a>"
   ]
  },
  {
   "cell_type": "markdown",
   "metadata": {},
   "source": [
    "Problem `v_252` (TOP 4)"
   ]
  },
  {
   "cell_type": "code",
   "execution_count": null,
   "metadata": {},
   "outputs": [],
   "source": [
    "#TDB"
   ]
  },
  {
   "cell_type": "markdown",
   "metadata": {},
   "source": [
    "### Variable 281<a id=\"v_281\"></a>"
   ]
  },
  {
   "cell_type": "markdown",
   "metadata": {},
   "source": [
    "Problem `v_254` (TOP 5)"
   ]
  },
  {
   "cell_type": "code",
   "execution_count": null,
   "metadata": {},
   "outputs": [],
   "source": [
    "#TDB"
   ]
  },
  {
   "cell_type": "markdown",
   "metadata": {},
   "source": [
    "### Effects\n",
    "Considering your personally experienced most critical problems selected in the previous question, which implications do they have?"
   ]
  },
  {
   "cell_type": "markdown",
   "metadata": {},
   "source": [
    "### Variable 282<a id=\"v_282\"></a>"
   ]
  },
  {
   "cell_type": "markdown",
   "metadata": {},
   "source": [
    "Problem `v_246` (TOP 1)"
   ]
  },
  {
   "cell_type": "code",
   "execution_count": null,
   "metadata": {},
   "outputs": [],
   "source": [
    "#TDB"
   ]
  },
  {
   "cell_type": "markdown",
   "metadata": {},
   "source": [
    "### Variable 283<a id=\"v_283\"></a>"
   ]
  },
  {
   "cell_type": "markdown",
   "metadata": {},
   "source": [
    "Problem `v_248` (TOP 2)"
   ]
  },
  {
   "cell_type": "code",
   "execution_count": null,
   "metadata": {},
   "outputs": [],
   "source": [
    "#TDB"
   ]
  },
  {
   "cell_type": "markdown",
   "metadata": {},
   "source": [
    "### Variable 284<a id=\"v_284\"></a>"
   ]
  },
  {
   "cell_type": "markdown",
   "metadata": {},
   "source": [
    "Problem `v_250` (TOP 3)"
   ]
  },
  {
   "cell_type": "code",
   "execution_count": null,
   "metadata": {},
   "outputs": [],
   "source": [
    "#TDB"
   ]
  },
  {
   "cell_type": "markdown",
   "metadata": {},
   "source": [
    "### Variable 285<a id=\"v_285\"></a>"
   ]
  },
  {
   "cell_type": "markdown",
   "metadata": {},
   "source": [
    "Problem `v_252` (TOP 4)"
   ]
  },
  {
   "cell_type": "code",
   "execution_count": null,
   "metadata": {},
   "outputs": [],
   "source": [
    "#TDB"
   ]
  },
  {
   "cell_type": "markdown",
   "metadata": {},
   "source": [
    "### Variable 286<a id=\"v_286\"></a>"
   ]
  },
  {
   "cell_type": "markdown",
   "metadata": {},
   "source": [
    "Problem `v_254` (TOP 5)"
   ]
  },
  {
   "cell_type": "code",
   "execution_count": null,
   "metadata": {},
   "outputs": [],
   "source": [
    "#TDB"
   ]
  },
  {
   "cell_type": "markdown",
   "metadata": {},
   "source": [
    "### Holistic Cause-Effect Representaton"
   ]
  },
  {
   "cell_type": "code",
   "execution_count": 1,
   "metadata": {},
   "outputs": [],
   "source": [
    "#Sankey diagram (ipsankey)?"
   ]
  },
  {
   "cell_type": "markdown",
   "metadata": {},
   "source": [
    "___\n",
    "___"
   ]
  },
  {
   "cell_type": "markdown",
   "metadata": {},
   "source": [
    "## Unaddressed Aspect"
   ]
  },
  {
   "cell_type": "markdown",
   "metadata": {},
   "source": [
    "### Variable 297<a id=\"v_297\"></a>"
   ]
  },
  {
   "cell_type": "markdown",
   "metadata": {},
   "source": [
    "Is there any other unaddressed aspect that you experience in your RE process and that you would like to share with us?"
   ]
  },
  {
   "cell_type": "code",
   "execution_count": 8,
   "metadata": {},
   "outputs": [
    {
     "name": "stdout",
     "output_type": "stream",
     "text": [
      "v_297_long_148.csv\n"
     ]
    }
   ],
   "source": [
    "#Dropped"
   ]
  },
  {
   "cell_type": "markdown",
   "metadata": {},
   "source": [
    "___\n",
    "___"
   ]
  },
  {
   "cell_type": "markdown",
   "metadata": {},
   "source": [
    "## Documentation NFR\n",
    "How do you document each type of non-functional requirements selected in the previous question? "
   ]
  },
  {
   "cell_type": "code",
   "execution_count": null,
   "metadata": {},
   "outputs": [],
   "source": [
    "#TDB"
   ]
  },
  {
   "cell_type": "markdown",
   "metadata": {},
   "source": [
    "### Variable 343<a id=\"v_343\"></a>"
   ]
  },
  {
   "cell_type": "markdown",
   "metadata": {},
   "source": [
    "Compatibility(e.g.,co-existence,interoperability)"
   ]
  },
  {
   "cell_type": "code",
   "execution_count": null,
   "metadata": {},
   "outputs": [],
   "source": [
    "#TDB"
   ]
  },
  {
   "cell_type": "markdown",
   "metadata": {},
   "source": [
    "### Variable 344<a id=\"v_344\"></a>"
   ]
  },
  {
   "cell_type": "markdown",
   "metadata": {},
   "source": [
    "Maintainability(e.g.,analysability,modularity, modifiability, reusability, testability)"
   ]
  },
  {
   "cell_type": "code",
   "execution_count": null,
   "metadata": {},
   "outputs": [],
   "source": [
    "#TDB"
   ]
  },
  {
   "cell_type": "markdown",
   "metadata": {},
   "source": [
    "### Variable 345<a id=\"v_345\"></a>"
   ]
  },
  {
   "cell_type": "markdown",
   "metadata": {},
   "source": [
    "Performance efficiency(e.g.,timebehaviour, resource utilisation, capacity)"
   ]
  },
  {
   "cell_type": "code",
   "execution_count": null,
   "metadata": {},
   "outputs": [],
   "source": [
    "#TDB"
   ]
  },
  {
   "cell_type": "markdown",
   "metadata": {},
   "source": [
    "### Variable 346<a id=\"v_346\"></a>"
   ]
  },
  {
   "cell_type": "markdown",
   "metadata": {},
   "source": [
    "Portability(e.g.,adaptability,installability, replaceability) "
   ]
  },
  {
   "cell_type": "code",
   "execution_count": null,
   "metadata": {},
   "outputs": [],
   "source": [
    "#TDB"
   ]
  },
  {
   "cell_type": "markdown",
   "metadata": {},
   "source": [
    "### Variable 347<a id=\"v_347\"></a>"
   ]
  },
  {
   "cell_type": "markdown",
   "metadata": {},
   "source": [
    "Reliability(e.g.,availability,faulttolerance, maturity, recoverability)"
   ]
  },
  {
   "cell_type": "code",
   "execution_count": null,
   "metadata": {},
   "outputs": [],
   "source": [
    "#TDB"
   ]
  },
  {
   "cell_type": "markdown",
   "metadata": {},
   "source": [
    "### Variable 348<a id=\"v_348\"></a>"
   ]
  },
  {
   "cell_type": "markdown",
   "metadata": {},
   "source": [
    "Safety(e.g. freedom of risk for health or distaster)"
   ]
  },
  {
   "cell_type": "code",
   "execution_count": null,
   "metadata": {},
   "outputs": [],
   "source": [
    "#TDB"
   ]
  },
  {
   "cell_type": "markdown",
   "metadata": {},
   "source": [
    "### Variable 349<a id=\"v_349\"></a>"
   ]
  },
  {
   "cell_type": "markdown",
   "metadata": {},
   "source": [
    "Security(e.g.,accountability,authenticity, confidentiality, integrity, non-repudiation)"
   ]
  },
  {
   "cell_type": "code",
   "execution_count": null,
   "metadata": {},
   "outputs": [],
   "source": [
    "#TDB"
   ]
  },
  {
   "cell_type": "markdown",
   "metadata": {},
   "source": [
    "### Variable 350<a id=\"v_350\"></a>"
   ]
  },
  {
   "cell_type": "markdown",
   "metadata": {},
   "source": [
    "Usability(e.g.,accessibility,appropriateness recognizability, learnability, operability, user error protection, user interface aesthetics)"
   ]
  },
  {
   "cell_type": "code",
   "execution_count": null,
   "metadata": {},
   "outputs": [],
   "source": [
    "#TDB"
   ]
  },
  {
   "cell_type": "markdown",
   "metadata": {},
   "source": [
    "### Variable 351<a id=\"v_351\"></a>"
   ]
  },
  {
   "cell_type": "markdown",
   "metadata": {},
   "source": [
    "Other (please specify) (`v_104`/`v_105`) - **CONTEXT-DEPENDENT** (meaning we need a special procedure)"
   ]
  },
  {
   "cell_type": "code",
   "execution_count": null,
   "metadata": {},
   "outputs": [],
   "source": [
    "#TDB"
   ]
  },
  {
   "cell_type": "code",
   "execution_count": null,
   "metadata": {},
   "outputs": [],
   "source": []
  },
  {
   "cell_type": "markdown",
   "metadata": {},
   "source": [
    "#### For the general overview"
   ]
  },
  {
   "cell_type": "markdown",
   "metadata": {},
   "source": [
    "___\n",
    "___"
   ]
  },
  {
   "cell_type": "markdown",
   "metadata": {},
   "source": [
    "The End."
   ]
  }
 ],
 "metadata": {
  "kernelspec": {
   "display_name": "Python [conda env:anaconda3]",
   "language": "python",
   "name": "conda-env-anaconda3-py"
  },
  "language_info": {
   "codemirror_mode": {
    "name": "ipython",
    "version": 3
   },
   "file_extension": ".py",
   "mimetype": "text/x-python",
   "name": "python",
   "nbconvert_exporter": "python",
   "pygments_lexer": "ipython3",
   "version": "3.6.4"
  }
 },
 "nbformat": 4,
 "nbformat_minor": 2
}
